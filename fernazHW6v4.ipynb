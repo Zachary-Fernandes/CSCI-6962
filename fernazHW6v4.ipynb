{
  "cells": [
    {
      "cell_type": "markdown",
      "metadata": {
        "id": "view-in-github",
        "colab_type": "text"
      },
      "source": [
        "<a href=\"https://colab.research.google.com/github/Zachary-Fernandes/CSCI-6962/blob/main/fernazHW6v4.ipynb\" target=\"_parent\"><img src=\"https://colab.research.google.com/assets/colab-badge.svg\" alt=\"Open In Colab\"/></a>"
      ]
    },
    {
      "cell_type": "markdown",
      "metadata": {
        "id": "HXZog3W-zdgW"
      },
      "source": [
        "# Homework 6\n",
        "#####Zachary Fernandes\n",
        "#####Projects in Machine Learning and AI"
      ]
    },
    {
      "cell_type": "markdown",
      "source": [
        "### Markov Decision Processes (MDP)\n",
        "\n",
        "As demonstrated by [this article](https://towardsdatascience.com/real-world-applications-of-markov-decision-process-mdp-a39685546026), we can formulate a game show as an MDP. One round in this game involves asking a participant a question. If they answer correctly, they earn money, but if they answer incorrectly, they lose all their earned money. Answering correctly also means the participant can either choose to continue to the next round or quit and keep all their money. As rounds increase in number, their rewards also grow, but they become more and more challenging. For example, our game could last fifteen rounds\n",
        "\n",
        "The state space would include each of the rounds along with an end game state.\n",
        "\n",
        "The action space would be the choices a player can make, those being playing the next round or quitting.\n",
        "\n",
        "The transition model would focus on what actions the player takes. If they play the next round, they may win or lose that round. Winning means moving to the next round with some probability _p_; the reward the player earns is how much is offered for the current round. If the player wins the last round, they earn the final prize and move to the end game state as no rounds remain. Losing means losing all their money and moving to the end game state with 1 - _p_ probability. If the player chooses to quit, they move to the end game state without any further reward and probability 1.\n",
        "\n",
        "The reward is how much money a player earns for a correct answer. This reward increases as the round number increases. Additionally, as the reward value and round number increase, the probability of answering correctly decreases."
      ],
      "metadata": {
        "id": "B670T7WxoolH"
      }
    },
    {
      "cell_type": "markdown",
      "source": [
        "### Reinforcement Learning (RL) in Healthcare\n",
        "\n",
        "One issue with healthcare that can be more effectively solved by RL is creating and configuring dynamic treatment regimes (DTRs). A DTR is, as put by [CapeStart](https://www.capestart.com/resources/blog/reinforcement-learning-in-health-care-why-its-important-and-how-it-can-help/), a sequence of rules that determine healthcare decisions, such as types of treatment, dosages of drugs, and timing of appointments. These are tailored to a specific patient based on medical history and conditions. For an RL algorithm, clinical observations and patient assessments would be its input data, and treatment options would be its output. This is done to reach the patient's most desired environmental state.\n",
        "\n",
        "RL can help automate decision-making while treatment regimes proceed, design DTRs for chronic conditions, and improve critical care from intensive care data. One open-source approach to this problem is [pydtr](https://github.com/fullflu/pydtr). pydtr is a Python library that conducts DTRs, and it can select optimal treatments for specific patients with sklearn-based interfaces. It conducts these DTRs through a regression version of Iterative Q-Learning. It is possible to use sklearn-based models or statsmodels-based models - if one is using the sklearn model for a regression function and there are categorical independent variables, one must encode the categorical variables prior to using the model."
      ],
      "metadata": {
        "id": "0MpJA-hBopCC"
      }
    },
    {
      "cell_type": "markdown",
      "metadata": {
        "id": "CfwU6Ho80N9i"
      },
      "source": [
        "### Tic-Tac-Toe\n",
        "\n",
        "This code creates an RL agent that competes against an irrational agent that chooses its moves at random. The intelligent agent uses tabular Q-learning to learn how to defeat the unintelligent agent.\n",
        "\n",
        "The evaluation metrics I will be using are the Player 1 win rate, the Player 2 win rate, and the draw rate. These are calculated after training and testing.\n",
        "\n",
        "Online Resources that Helped:\n",
        "\n",
        "[Framing Tic-Tac-Toe as a Reinforcement Learning Problem](https://levelup.gitconnected.com/framing-tic-tac-toe-as-a-reinforcement-learning-problem-eb76b6ece4de)\n",
        "\n",
        "[Setting up Tic-Tac-Toe for Reinforcement Learning in Python](https://levelup.gitconnected.com/setting-up-tic-tac-toe-for-reinforcement-learning-in-python-43e2f42cfce8)\n",
        "\n",
        "[Tabular Q-Learning Agent vs. Irrational Agent in the Game of Tic-Tac-Toe](https://levelup.gitconnected.com/tabular-q-learning-agent-vs-irrational-agent-in-the-game-of-tic-tac-toe-6de6c85f0c42)\n",
        "\n",
        "[Reinforcement Learning — Implement TicTacToe](https://towardsdatascience.com/reinforcement-learning-implement-tictactoe-189582bea542)\n",
        "\n",
        "This notebook features training an RL agent against an irrational agent that chooses actions at random. There is [another notebook](https://github.com/Zachary-Fernandes/CSCI-6962/blob/main/fernazHW6v5.ipynb), albeit less well-documented than this, that trains two Q-learning RL agents against each other, and a human can then challenge one of them."
      ]
    },
    {
      "cell_type": "markdown",
      "source": [
        "#### Setup"
      ],
      "metadata": {
        "id": "D4K0Qtu8JXgd"
      }
    },
    {
      "cell_type": "code",
      "execution_count": 1,
      "metadata": {
        "colab": {
          "base_uri": "https://localhost:8080/"
        },
        "id": "MoRfsvI_CwMB",
        "outputId": "e2ad76f3-e270-42bf-9ae6-313f555ad5db"
      },
      "outputs": [
        {
          "output_type": "stream",
          "name": "stdout",
          "text": [
            "Looking in indexes: https://pypi.org/simple, https://us-python.pkg.dev/colab-wheels/public/simple/\n",
            "Requirement already satisfied: imbalanced-learn in /usr/local/lib/python3.7/dist-packages (0.8.1)\n",
            "Requirement already satisfied: scikit-learn>=0.24 in /usr/local/lib/python3.7/dist-packages (from imbalanced-learn) (1.0.2)\n",
            "Requirement already satisfied: scipy>=0.19.1 in /usr/local/lib/python3.7/dist-packages (from imbalanced-learn) (1.7.3)\n",
            "Requirement already satisfied: joblib>=0.11 in /usr/local/lib/python3.7/dist-packages (from imbalanced-learn) (1.2.0)\n",
            "Requirement already satisfied: numpy>=1.13.3 in /usr/local/lib/python3.7/dist-packages (from imbalanced-learn) (1.21.6)\n",
            "Requirement already satisfied: threadpoolctl>=2.0.0 in /usr/local/lib/python3.7/dist-packages (from scikit-learn>=0.24->imbalanced-learn) (3.1.0)\n",
            "Looking in indexes: https://pypi.org/simple, https://us-python.pkg.dev/colab-wheels/public/simple/\n",
            "Requirement already satisfied: graphviz in /usr/local/lib/python3.7/dist-packages (0.10.1)\n",
            "Looking in indexes: https://pypi.org/simple, https://us-python.pkg.dev/colab-wheels/public/simple/\n",
            "Requirement already satisfied: tensorflow-probability in /usr/local/lib/python3.7/dist-packages (0.17.0)\n",
            "Requirement already satisfied: decorator in /usr/local/lib/python3.7/dist-packages (from tensorflow-probability) (4.4.2)\n",
            "Requirement already satisfied: absl-py in /usr/local/lib/python3.7/dist-packages (from tensorflow-probability) (1.3.0)\n",
            "Requirement already satisfied: six>=1.10.0 in /usr/local/lib/python3.7/dist-packages (from tensorflow-probability) (1.15.0)\n",
            "Requirement already satisfied: numpy>=1.13.3 in /usr/local/lib/python3.7/dist-packages (from tensorflow-probability) (1.21.6)\n",
            "Requirement already satisfied: cloudpickle>=1.3 in /usr/local/lib/python3.7/dist-packages (from tensorflow-probability) (1.5.0)\n",
            "Requirement already satisfied: dm-tree in /usr/local/lib/python3.7/dist-packages (from tensorflow-probability) (0.1.7)\n",
            "Requirement already satisfied: gast>=0.3.2 in /usr/local/lib/python3.7/dist-packages (from tensorflow-probability) (0.4.0)\n",
            "Looking in indexes: https://pypi.org/simple, https://us-python.pkg.dev/colab-wheels/public/simple/\n",
            "Requirement already satisfied: imageio in /usr/local/lib/python3.7/dist-packages (2.9.0)\n",
            "Requirement already satisfied: numpy in /usr/local/lib/python3.7/dist-packages (from imageio) (1.21.6)\n",
            "Requirement already satisfied: pillow in /usr/local/lib/python3.7/dist-packages (from imageio) (7.1.2)\n",
            "Looking in indexes: https://pypi.org/simple, https://us-python.pkg.dev/colab-wheels/public/simple/\n",
            "Collecting git+https://github.com/tensorflow/docs\n",
            "  Cloning https://github.com/tensorflow/docs to /tmp/pip-req-build-kecabxzb\n",
            "  Running command git clone -q https://github.com/tensorflow/docs /tmp/pip-req-build-kecabxzb\n",
            "Requirement already satisfied: astor in /usr/local/lib/python3.7/dist-packages (from tensorflow-docs==0.0.0.dev0) (0.8.1)\n",
            "Requirement already satisfied: absl-py in /usr/local/lib/python3.7/dist-packages (from tensorflow-docs==0.0.0.dev0) (1.3.0)\n",
            "Requirement already satisfied: jinja2 in /usr/local/lib/python3.7/dist-packages (from tensorflow-docs==0.0.0.dev0) (2.11.3)\n",
            "Requirement already satisfied: nbformat in /usr/local/lib/python3.7/dist-packages (from tensorflow-docs==0.0.0.dev0) (5.7.0)\n",
            "Requirement already satisfied: protobuf<3.20,>=3.12.0 in /usr/local/lib/python3.7/dist-packages (from tensorflow-docs==0.0.0.dev0) (3.19.6)\n",
            "Requirement already satisfied: pyyaml in /usr/local/lib/python3.7/dist-packages (from tensorflow-docs==0.0.0.dev0) (6.0)\n",
            "Requirement already satisfied: MarkupSafe>=0.23 in /usr/local/lib/python3.7/dist-packages (from jinja2->tensorflow-docs==0.0.0.dev0) (2.0.1)\n",
            "Requirement already satisfied: jupyter-core in /usr/local/lib/python3.7/dist-packages (from nbformat->tensorflow-docs==0.0.0.dev0) (4.11.2)\n",
            "Requirement already satisfied: traitlets>=5.1 in /usr/local/lib/python3.7/dist-packages (from nbformat->tensorflow-docs==0.0.0.dev0) (5.1.1)\n",
            "Requirement already satisfied: jsonschema>=2.6 in /usr/local/lib/python3.7/dist-packages (from nbformat->tensorflow-docs==0.0.0.dev0) (4.3.3)\n",
            "Requirement already satisfied: fastjsonschema in /usr/local/lib/python3.7/dist-packages (from nbformat->tensorflow-docs==0.0.0.dev0) (2.16.2)\n",
            "Requirement already satisfied: importlib-metadata>=3.6 in /usr/local/lib/python3.7/dist-packages (from nbformat->tensorflow-docs==0.0.0.dev0) (4.13.0)\n",
            "Requirement already satisfied: typing-extensions>=3.6.4 in /usr/local/lib/python3.7/dist-packages (from importlib-metadata>=3.6->nbformat->tensorflow-docs==0.0.0.dev0) (4.1.1)\n",
            "Requirement already satisfied: zipp>=0.5 in /usr/local/lib/python3.7/dist-packages (from importlib-metadata>=3.6->nbformat->tensorflow-docs==0.0.0.dev0) (3.10.0)\n",
            "Requirement already satisfied: attrs>=17.4.0 in /usr/local/lib/python3.7/dist-packages (from jsonschema>=2.6->nbformat->tensorflow-docs==0.0.0.dev0) (22.1.0)\n",
            "Requirement already satisfied: importlib-resources>=1.4.0 in /usr/local/lib/python3.7/dist-packages (from jsonschema>=2.6->nbformat->tensorflow-docs==0.0.0.dev0) (5.10.0)\n",
            "Requirement already satisfied: pyrsistent!=0.17.0,!=0.17.1,!=0.17.2,>=0.14.0 in /usr/local/lib/python3.7/dist-packages (from jsonschema>=2.6->nbformat->tensorflow-docs==0.0.0.dev0) (0.19.2)\n",
            "Building wheels for collected packages: tensorflow-docs\n",
            "  Building wheel for tensorflow-docs (setup.py) ... \u001b[?25l\u001b[?25hdone\n",
            "  Created wheel for tensorflow-docs: filename=tensorflow_docs-0.0.0.dev0-py3-none-any.whl size=184426 sha256=fb1a70397821ada45e1df253daf8ec0f2325bd4f6732ad5b573d06997180bcbb\n",
            "  Stored in directory: /tmp/pip-ephem-wheel-cache-6nukigur/wheels/cc/c4/d8/5341e93b6376c5c929c49469fce21155eb69cef1a4da4ce32c\n",
            "Successfully built tensorflow-docs\n",
            "Installing collected packages: tensorflow-docs\n",
            "Successfully installed tensorflow-docs-0.0.0.dev0\n"
          ]
        }
      ],
      "source": [
        "!pip install imbalanced-learn\n",
        "!pip install graphviz\n",
        "!pip install tensorflow-probability\n",
        "\n",
        "# to generate gifs\n",
        "!pip install imageio\n",
        "!pip install git+https://github.com/tensorflow/docs"
      ]
    },
    {
      "cell_type": "code",
      "execution_count": 2,
      "metadata": {
        "id": "aZCA63injOt2"
      },
      "outputs": [],
      "source": [
        "# import required libraries\n",
        "import pandas as pd\n",
        "import matplotlib.pyplot as plt\n",
        "import seaborn as sns\n",
        "import numpy as np\n",
        "import random\n",
        "import graphviz\n",
        "\n",
        "from sklearn.model_selection import train_test_split\n",
        "from sklearn.model_selection import cross_val_score\n",
        "from sklearn.model_selection import KFold \n",
        "from sklearn.linear_model import LogisticRegression\n",
        "from sklearn.svm import SVC\n",
        "from sklearn import tree\n",
        "from sklearn.ensemble import GradientBoostingClassifier\n",
        "from sklearn.ensemble import AdaBoostClassifier\n",
        "from sklearn.ensemble import RandomForestClassifier\n",
        "from sklearn.metrics import precision_score\n",
        "from sklearn.metrics import recall_score\n",
        "from sklearn.metrics import accuracy_score\n",
        "from sklearn.metrics import f1_score\n",
        "from sklearn.metrics import log_loss\n",
        "from sklearn.preprocessing import Normalizer\n",
        "from sklearn.preprocessing import StandardScaler\n",
        "from sklearn import utils\n",
        "\n",
        "import tensorflow as tf\n",
        "from tensorflow import feature_column\n",
        "from tensorflow import keras\n",
        "import keras\n",
        "from tensorflow.keras import layers\n",
        "from tensorflow.keras.layers import Dense, BatchNormalization\n",
        "from tensorflow.keras.preprocessing.image import ImageDataGenerator\n",
        "\n",
        "import IPython\n",
        "import IPython.display\n",
        "\n",
        "from gensim.test.utils import datapath, get_tmpfile\n",
        "from gensim.models import KeyedVectors\n",
        "from gensim.scripts.glove2word2vec import glove2word2vec\n",
        "\n",
        "from imblearn.over_sampling import SMOTE\n",
        "import warnings\n",
        "\n",
        "warnings.filterwarnings(\"ignore\")\n",
        "\n",
        "import os\n",
        "import zipfile\n",
        "\n",
        "import glob\n",
        "import imageio\n",
        "import PIL\n",
        "import tensorflow_probability as tfp\n",
        "import time\n",
        "import tensorflow_docs.vis.embed as embed\n",
        "\n",
        "from scipy import ndimage, misc\n",
        "import cv2"
      ]
    },
    {
      "cell_type": "markdown",
      "source": [
        "#### Board Checking"
      ],
      "metadata": {
        "id": "pWaAfBLjJcyv"
      }
    },
    {
      "cell_type": "code",
      "source": [
        "def check_over(x, printFlag = 0):\n",
        "    \"\"\"\n",
        "    Takes in the current board state x and a flag of whether or not to print\n",
        "    output, determines if the game is won by either player or if the game ends\n",
        "    in a draw.\n",
        "    Returns True if episode is over. \n",
        "    Returns False if episode is not over. \n",
        "    Also, returns a string '1' if Player 1 has won,\n",
        "    a string '2' if Player 2 has won, or\n",
        "    a string '3' if there is a draw. \n",
        "    \"\"\"\n",
        "    # Check if Player 1 won\n",
        "    # First check each row\n",
        "    # Then check each column\n",
        "    # Finally check each diagonal\n",
        "    if np.prod(x[0,:]) == 1 or np.prod(x[1,:]) == 1 or np.prod(x[2,:]) == 1 or \\\n",
        "        np.prod(x[:,0]) == 1 or np.prod(x[:,1]) == 1 or np.prod(x[:,2]) == 1 or \\\n",
        "        np.prod(np.diag(x)) == 1 or np.prod(np.diag(np.rot90(x))) == 1:\n",
        "        if printFlag == 1:\n",
        "            # Printing occurs during some testing\n",
        "            # and human matches\n",
        "            print(\"Player 1 won!\")\n",
        "        done = True\n",
        "        player_win = '1'\n",
        "        return done, player_win\n",
        "\n",
        "    # Check if Player 2 won\n",
        "    # First check each row\n",
        "    # Then check each column\n",
        "    # Finally check each diagonal\n",
        "    if np.sum(x[0,:]) == 6 or np.sum(x[1,:]) == 6 or np.sum(x[2,:]) == 6 or \\\n",
        "        np.sum(x[:,0]) == 6 or np.sum(x[:,1]) == 6 or np.sum(x[:,2]) == 6 or \\\n",
        "        np.sum(np.diag(x)) == 6 or np.sum(np.diag(np.rot90(x))) == 6:\n",
        "        if printFlag == 1:\n",
        "            print(\"Player 2 won!\")\n",
        "        done = True\n",
        "        player_win = '2'\n",
        "        return done, player_win\n",
        "\n",
        "    # Check if a draw occurred \n",
        "    if np.all(x):\n",
        "        if printFlag == 1:\n",
        "            print(\"Draw!\")\n",
        "        done = True\n",
        "        player_win = 'd'\n",
        "        return done, player_win\n",
        "    # Match is not over\n",
        "    return False, ' '"
      ],
      "metadata": {
        "id": "FhBZ9xrIXS8n"
      },
      "execution_count": 3,
      "outputs": []
    },
    {
      "cell_type": "markdown",
      "source": [
        "#### RL Parameter Setup"
      ],
      "metadata": {
        "id": "VQl7hfxgJ9FJ"
      }
    },
    {
      "cell_type": "code",
      "source": [
        "# Player symbols - P1 = X, P2 = O\n",
        "symbols = {1: 'X', 2: 'O'}\n",
        "\n",
        "# Max number of state values per cell\n",
        "max_vals = 3\n",
        "# Max number of controls (actions)\n",
        "max_controls = 9\n",
        "# Create two Q-matrices\n",
        "# The first nine dimensions are reserved for states\n",
        "# The tenth dimension is for controls\n",
        "Qvals = np.zeros((max_vals, max_vals, max_vals, max_vals, max_vals,\n",
        "                  max_vals, max_vals, max_vals, max_vals, max_controls))"
      ],
      "metadata": {
        "id": "O_-5VMDIl3Ug"
      },
      "execution_count": 4,
      "outputs": []
    },
    {
      "cell_type": "code",
      "source": [
        "# Learning rate\n",
        "alpha = 0.9\n",
        "# Discount factor\n",
        "gamma = 0.99\n",
        "# Value that determines the probability the agent will\n",
        "# use a random control (exploration) or use its Q-table\n",
        "# for the best control (exploitation)\n",
        "# Epsilon = 1.0 means only exploring controls is done at the start, and as\n",
        "# it decays, the RL agent will begin exploiting more and more controls\n",
        "# This is a key part of the epsilon-greedy approach used in this program\n",
        "epsilon = 1.0\n",
        "\n",
        "# How long to train\n",
        "epochs = 100000\n",
        "\n",
        "# Track training metrics for Player 1 wins, Player 2 wins, and draws\n",
        "winP1 = np.zeros((epochs,))\n",
        "winP2 = np.zeros((epochs,))\n",
        "draw = np.zeros((epochs,))\n",
        "\n",
        "# 20 epsilon decay intervals\n",
        "decayStages = 20\n",
        "# How long each decay interval lasts\n",
        "stageLength = epochs // decayStages\n",
        "# How much we decay epsilon by for each stage\n",
        "decayFactor = 0.7"
      ],
      "metadata": {
        "id": "P7xBl2I-axoL"
      },
      "execution_count": 5,
      "outputs": []
    },
    {
      "cell_type": "code",
      "source": [
        "print('Q-table: ', Qvals.shape)"
      ],
      "metadata": {
        "colab": {
          "base_uri": "https://localhost:8080/"
        },
        "id": "zB9TvPY1dLPS",
        "outputId": "473f3e69-acf1-46d0-8054-71c802c7a409"
      },
      "execution_count": 6,
      "outputs": [
        {
          "output_type": "stream",
          "name": "stdout",
          "text": [
            "Q-table:  (3, 3, 3, 3, 3, 3, 3, 3, 3, 9)\n"
          ]
        }
      ]
    },
    {
      "cell_type": "markdown",
      "source": [
        "#### RL Helper Functions"
      ],
      "metadata": {
        "id": "Ml_B8kFGJoba"
      }
    },
    {
      "cell_type": "code",
      "source": [
        "def control_train(x, epsilon, controls, Qvals):\n",
        "    \"\"\"\n",
        "    Take in current board position x, epsilon (probability for random control),\n",
        "    control space, and Q-table being learned.\n",
        "    Return eithers a random control (exploration) or the best possible control\n",
        "    according to the Q-table (exploitation) depending on the epsilon-greedy\n",
        "    policy.\n",
        "    \"\"\"\n",
        "    if np.random.random() >= epsilon:\n",
        "        # Exploitation time - choose best control according to Q-table\n",
        "        u = np.argmax(Qvals[x])\n",
        "\n",
        "        # First check if u is a possible control\n",
        "        if u not in controls:\n",
        "            # We cannot exploit - our fallback is to explore\n",
        "            new_control = np.random.choice(list(controls))\n",
        "            return new_control\n",
        "        else:\n",
        "            # We can exploit with u\n",
        "            return u\n",
        "    else:\n",
        "        # Exploration time - choose random control\n",
        "        u = np.random.choice(list(controls))\n",
        "        return u"
      ],
      "metadata": {
        "id": "X_g4su5edi1x"
      },
      "execution_count": 7,
      "outputs": []
    },
    {
      "cell_type": "code",
      "source": [
        "def control_test(x, controls, Qvals):\n",
        "    \"\"\"\n",
        "    Take in current board position x, control space, and trained Q-table.\n",
        "    Return an intelligent control determined by the knowledge stored in the\n",
        "    Q-table (exploitation).\n",
        "    \"\"\"\n",
        "    u = np.argmax(Qvals[x])\n",
        "    \n",
        "    # First check if u is a possible control\n",
        "    if u not in controls:\n",
        "        # We cannot exploit - our fallback is to explore\n",
        "        new_control = np.random.choice(list(controls))\n",
        "        return new_control\n",
        "    else:\n",
        "        # We can exploit with u\n",
        "        return u"
      ],
      "metadata": {
        "id": "Dy4bMKz5esiY"
      },
      "execution_count": 8,
      "outputs": []
    },
    {
      "cell_type": "code",
      "source": [
        "def decay_epsilon(episode, epsilon, stageLength, decayFactor):\n",
        "    # Decays epsilon at a new period\n",
        "    if episode % stageLength == 0 and episode != 0:\n",
        "        epsilon *= decayFactor\n",
        "        print(f'epsilon = {epsilon}')\n",
        "    return epsilon"
      ],
      "metadata": {
        "id": "DXs39u1wesf4"
      },
      "execution_count": 9,
      "outputs": []
    },
    {
      "cell_type": "code",
      "source": [
        "def reset():\n",
        "    # Resets the control space at each epoch's beginning\n",
        "    controls = set()\n",
        "    for i in range(9):\n",
        "        controls.add(i)\n",
        "    return controls"
      ],
      "metadata": {
        "id": "A6J98pVSfdU5"
      },
      "execution_count": 10,
      "outputs": []
    },
    {
      "cell_type": "code",
      "source": [
        "def batch_update(statesRL, controlsRL, r, nextStatesRL, gamma, alpha, Qvals):\n",
        "    \"\"\"\n",
        "    Agent learns from the state-control moves that led to a specific outcome,\n",
        "    with reward or penalty r being applied. This implements the Q-table update\n",
        "    rule. Updating the Q-table for the state-control pair on the game's end led\n",
        "    to slow learning, which is why we employ batch learning across all the\n",
        "    state-control actions.\n",
        "    \"\"\"\n",
        "    # Employ batch learning on all state-control actions\n",
        "    for i, boardVals in enumerate(statesRL):\n",
        "        u = controlsRL[i]\n",
        "        boardValsNext = nextStatesRL[i]\n",
        "        td_target = r + gamma * np.max(Qvals[boardValsNext])\n",
        "        td_error = td_target - Qvals[boardVals][u]\n",
        "        Qvals[boardVals][u] += alpha * td_error\n",
        "    return Qvals"
      ],
      "metadata": {
        "id": "ihjt1-K2frwq"
      },
      "execution_count": 11,
      "outputs": []
    },
    {
      "cell_type": "markdown",
      "source": [
        "#### Training"
      ],
      "metadata": {
        "id": "Wlyyn2Z3JjjL"
      }
    },
    {
      "cell_type": "code",
      "source": [
        "\"\"\"\n",
        "Training Cell\n",
        "\"\"\"\n",
        "\n",
        "# Reward for winning a game\n",
        "reward = 10\n",
        "\n",
        "# Loop over each epoch\n",
        "for epoch in range(epochs):\n",
        "    # Print which epoch this is to see if it hangs\n",
        "    if epoch % 1000 == 0:\n",
        "        print(epoch)\n",
        "    # Hold agent's states and controls to easily update the Q-table\n",
        "    statesRL = []\n",
        "    controlsRL = []\n",
        "    nextStatesRL = []\n",
        "\n",
        "    done = False\n",
        "    controls = reset()\n",
        "\n",
        "    # Starting board state - empty\n",
        "    boardVals = np.zeros((3,3))\n",
        "    turn = 0\n",
        "    # Visual representation of the board\n",
        "    board = np.array([[' ', ' ', ' '],\n",
        "                      [' ', ' ', ' '],\n",
        "                      [' ', ' ', ' ']])\n",
        "    # Decay epsilon as needed\n",
        "    epsilon = decay_epsilon(epoch, epsilon, stageLength, decayFactor)\n",
        "\n",
        "    # Game loop\n",
        "    while done != True:\n",
        "        # Determine which player's turn it is\n",
        "        if turn % 2 == 0:\n",
        "            # Player 1's turn\n",
        "            # Epsilon-greedy training policy\n",
        "            u = control_train(tuple(boardVals.reshape(-1,).astype(int)),\n",
        "                              epsilon, controls, Qvals)\n",
        "            statesRL.append(tuple(boardVals.reshape(-1,).astype(int)))\n",
        "            controlsRL.append(u)\n",
        "            # Using a move, remove it\n",
        "            controls.remove(u)\n",
        "            # Update board state\n",
        "            boardValsNext = boardVals.reshape(-1,)\n",
        "            boardValsNext[u] = 1\n",
        "            boardValsNext = boardValsNext.reshape(3,3)\n",
        "            nextStatesRL.append(tuple(boardValsNext.reshape(-1,).astype(int)))\n",
        "            # Update visual representation\n",
        "            board = board.reshape(-1,)\n",
        "            board[u] = symbols[1]\n",
        "            board = board.reshape(3,3)\n",
        "\n",
        "            # Determine if the game finished\n",
        "            done, winner = check_over(boardVals)\n",
        "            if done == True:\n",
        "                if winner == '1':\n",
        "                    # Player 1 (agent) learns from moves responsible for winning\n",
        "                    Qvals = batch_update(statesRL,\n",
        "                                         controlsRL,\n",
        "                                         reward,\n",
        "                                         nextStatesRL,\n",
        "                                         gamma,\n",
        "                                         alpha,\n",
        "                                         Qvals)\n",
        "                    winP1[epoch] = 1\n",
        "                elif winner == 'd':\n",
        "                    # Game draw, neither player wins\n",
        "                    draw[epoch] = 1\n",
        "            # Update board state, move to next turn\n",
        "            boardVals = boardValsNext\n",
        "            turn += 1\n",
        "        else:\n",
        "            # Player 2's turn\n",
        "            u = np.random.choice(list(controls))\n",
        "            # Using a move, remove it\n",
        "            controls.remove(u)\n",
        "            # Update board state\n",
        "            boardVals = boardVals.reshape(-1,)\n",
        "            boardVals[u] = 2\n",
        "            boardVals = boardVals.reshape(3,3)\n",
        "            # Update visual representation\n",
        "            board = board.reshape(-1,)\n",
        "            board[u] = symbols[2]\n",
        "            board = board.reshape(3,3)\n",
        "            turn += 1\n",
        "\n",
        "            # Determine if the game finished\n",
        "            done, winner = check_over(boardVals)\n",
        "            if done == True:\n",
        "                if winner == '2':\n",
        "                    # Player 2 wins\n",
        "                    winP2[epoch] = 1\n",
        "                elif winner == 'd':\n",
        "                    # Game draw, neither player wins\n",
        "                    draw[epoch] = 1"
      ],
      "metadata": {
        "colab": {
          "base_uri": "https://localhost:8080/"
        },
        "id": "fgqlKDayhiIU",
        "outputId": "2fb75953-e5a3-4d4b-c109-50693b65f701"
      },
      "execution_count": 12,
      "outputs": [
        {
          "output_type": "stream",
          "name": "stdout",
          "text": [
            "0\n",
            "1000\n",
            "2000\n",
            "3000\n",
            "4000\n",
            "5000\n",
            "epsilon = 0.7\n",
            "6000\n",
            "7000\n",
            "8000\n",
            "9000\n",
            "10000\n",
            "epsilon = 0.48999999999999994\n",
            "11000\n",
            "12000\n",
            "13000\n",
            "14000\n",
            "15000\n",
            "epsilon = 0.3429999999999999\n",
            "16000\n",
            "17000\n",
            "18000\n",
            "19000\n",
            "20000\n",
            "epsilon = 0.24009999999999992\n",
            "21000\n",
            "22000\n",
            "23000\n",
            "24000\n",
            "25000\n",
            "epsilon = 0.16806999999999994\n",
            "26000\n",
            "27000\n",
            "28000\n",
            "29000\n",
            "30000\n",
            "epsilon = 0.11764899999999995\n",
            "31000\n",
            "32000\n",
            "33000\n",
            "34000\n",
            "35000\n",
            "epsilon = 0.08235429999999996\n",
            "36000\n",
            "37000\n",
            "38000\n",
            "39000\n",
            "40000\n",
            "epsilon = 0.05764800999999997\n",
            "41000\n",
            "42000\n",
            "43000\n",
            "44000\n",
            "45000\n",
            "epsilon = 0.04035360699999998\n",
            "46000\n",
            "47000\n",
            "48000\n",
            "49000\n",
            "50000\n",
            "epsilon = 0.028247524899999984\n",
            "51000\n",
            "52000\n",
            "53000\n",
            "54000\n",
            "55000\n",
            "epsilon = 0.019773267429999988\n",
            "56000\n",
            "57000\n",
            "58000\n",
            "59000\n",
            "60000\n",
            "epsilon = 0.01384128720099999\n",
            "61000\n",
            "62000\n",
            "63000\n",
            "64000\n",
            "65000\n",
            "epsilon = 0.009688901040699992\n",
            "66000\n",
            "67000\n",
            "68000\n",
            "69000\n",
            "70000\n",
            "epsilon = 0.006782230728489994\n",
            "71000\n",
            "72000\n",
            "73000\n",
            "74000\n",
            "75000\n",
            "epsilon = 0.004747561509942996\n",
            "76000\n",
            "77000\n",
            "78000\n",
            "79000\n",
            "80000\n",
            "epsilon = 0.003323293056960097\n",
            "81000\n",
            "82000\n",
            "83000\n",
            "84000\n",
            "85000\n",
            "epsilon = 0.002326305139872068\n",
            "86000\n",
            "87000\n",
            "88000\n",
            "89000\n",
            "90000\n",
            "epsilon = 0.0016284135979104473\n",
            "91000\n",
            "92000\n",
            "93000\n",
            "94000\n",
            "95000\n",
            "epsilon = 0.001139889518537313\n",
            "96000\n",
            "97000\n",
            "98000\n",
            "99000\n"
          ]
        }
      ]
    },
    {
      "cell_type": "code",
      "source": [
        "# Compute Player 1 win rate, Player 2 win rate, and draw rate averages\n",
        "winTotP1 = np.cumsum(winP1)\n",
        "winTotP2 = np.cumsum(winP2)\n",
        "drawTot = np.cumsum(draw)\n",
        "\n",
        "winRateP1 = np.zeros(epochs,)\n",
        "winRateP2 = np.zeros(epochs,)\n",
        "drawRate = np.zeros(epochs,)\n",
        "\n",
        "for e in range(epochs):\n",
        "    winRateP1[e] = winTotP1[e] / (e + 1)\n",
        "    winRateP2[e] = winTotP2[e] / (e + 1)\n",
        "    drawRate[e] = drawTot[e] / (e + 1)\n",
        "\n",
        "# Plot these rates over epochs\n",
        "plt.figure()\n",
        "plt.plot(np.arange(epochs), winRateP1, 'g-.', label = 'P1 Win Rate')\n",
        "plt.plot(np.arange(epochs), winRateP2, 'r:.', label = 'P2 Win Rate')\n",
        "plt.plot(np.arange(epochs), drawRate, 'k-', label = 'Draw Rate')\n",
        "plt.xlabel('Epochs')\n",
        "plt.legend()"
      ],
      "metadata": {
        "colab": {
          "base_uri": "https://localhost:8080/",
          "height": 296
        },
        "id": "U6TbyutUk_h3",
        "outputId": "e3236dad-6fd2-4622-ea5e-4ca3c3c8c363"
      },
      "execution_count": 13,
      "outputs": [
        {
          "output_type": "execute_result",
          "data": {
            "text/plain": [
              "<matplotlib.legend.Legend at 0x7f3197eaffd0>"
            ]
          },
          "metadata": {},
          "execution_count": 13
        },
        {
          "output_type": "display_data",
          "data": {
            "text/plain": [
              "<Figure size 432x288 with 1 Axes>"
            ],
            "image/png": "[encoded data removed]"
          },
          "metadata": {
            "needs_background": "light"
          }
        }
      ]
    },
    {
      "cell_type": "code",
      "source": [
        "# From the above, we can see our RL agent is learning to beat the irrational\n",
        "# agent, with P1's win rate increasing while P2's win rate and the draw rate\n",
        "# decrease. This implies the RL agent is learning an effective policy.\n",
        "winRateP1[-1]"
      ],
      "metadata": {
        "colab": {
          "base_uri": "https://localhost:8080/"
        },
        "id": "KTAibnh6pruo",
        "outputId": "69d94822-f332-4849-bab4-cad1a8815a29"
      },
      "execution_count": 14,
      "outputs": [
        {
          "output_type": "execute_result",
          "data": {
            "text/plain": [
              "0.84269"
            ]
          },
          "metadata": {},
          "execution_count": 14
        }
      ]
    },
    {
      "cell_type": "code",
      "source": [
        "winRateP2[-1]"
      ],
      "metadata": {
        "colab": {
          "base_uri": "https://localhost:8080/"
        },
        "id": "0XZNsR0cpwAF",
        "outputId": "05659285-2bb2-4f2e-83a5-0c1917798b25"
      },
      "execution_count": 15,
      "outputs": [
        {
          "output_type": "execute_result",
          "data": {
            "text/plain": [
              "0.11153"
            ]
          },
          "metadata": {},
          "execution_count": 15
        }
      ]
    },
    {
      "cell_type": "code",
      "source": [
        "drawRate[-1]"
      ],
      "metadata": {
        "colab": {
          "base_uri": "https://localhost:8080/"
        },
        "id": "W4Ghus8SpxnZ",
        "outputId": "c9f618f5-3699-405e-c02e-134159998348"
      },
      "execution_count": 16,
      "outputs": [
        {
          "output_type": "execute_result",
          "data": {
            "text/plain": [
              "0.04578"
            ]
          },
          "metadata": {},
          "execution_count": 16
        }
      ]
    },
    {
      "cell_type": "code",
      "source": [
        "# Sanity check for these values to add up\n",
        "winRateP1[-1] + winRateP2[-1] + drawRate[-1]"
      ],
      "metadata": {
        "colab": {
          "base_uri": "https://localhost:8080/"
        },
        "id": "5JlxuaPSslRa",
        "outputId": "4673cc82-83c1-4528-e171-ff3ca08b36f8"
      },
      "execution_count": 17,
      "outputs": [
        {
          "output_type": "execute_result",
          "data": {
            "text/plain": [
              "1.0"
            ]
          },
          "metadata": {},
          "execution_count": 17
        }
      ]
    },
    {
      "cell_type": "markdown",
      "source": [
        "#### Testing"
      ],
      "metadata": {
        "id": "6zk-NlhpKKOh"
      }
    },
    {
      "cell_type": "code",
      "source": [
        "\"\"\"\n",
        "Testing Cell\n",
        "\"\"\"\n",
        "\n",
        "def test(Qvals, epochs):\n",
        "    \"\"\"\n",
        "    Uses the learned Q-table to its fullest, testing against the irrational\n",
        "    agent for a number of epochs.\n",
        "    \"\"\"\n",
        "    # Track metrics for evaluation - Player 1 wins, Player 2 wins, and draws\n",
        "    winP1 = 0\n",
        "    winP2 = 0\n",
        "    draw = 0\n",
        "    # Symbols: P1 = X, P2 = O\n",
        "    symbols = {1: 'X', 2: 'O'}\n",
        "\n",
        "    # Run for epochs\n",
        "    for epoch in range(epochs):\n",
        "        done = False\n",
        "        controls = reset()\n",
        "\n",
        "        # Starting board state - empty\n",
        "        boardVals = np.zeros((3,3))\n",
        "        turn = 0\n",
        "        # Visual representation of the board\n",
        "        board = np.array([[' ', ' ', ' '],\n",
        "                          [' ', ' ', ' '],\n",
        "                          [' ', ' ', ' ']])\n",
        "\n",
        "        # Demonstrate five test runs\n",
        "        if epoch % (epochs // 5) == 0:\n",
        "            print(f'Episode {epoch}, turn = {turn}, \\n', board)\n",
        "\n",
        "        # Game loop\n",
        "        while done != True:\n",
        "            # Determine which player's turn it is\n",
        "            if turn % 2 == 0:\n",
        "                # Player 1's turn\n",
        "                # Epsilon-greedy policy\n",
        "                u = control_test(tuple(boardVals.reshape(-1,).astype(int)),\n",
        "                                 controls, Qvals)\n",
        "                # Using a move, remove it\n",
        "                controls.remove(u)\n",
        "                # Update board state\n",
        "                boardValsNext = boardVals.reshape(-1,)\n",
        "                boardValsNext[u] = 1\n",
        "                boardValsNext = boardValsNext.reshape(3,3)\n",
        "                # Update visual representation\n",
        "                board = board.reshape(-1,)\n",
        "                board[u] = symbols[1]\n",
        "                board = board.reshape(3,3)\n",
        "\n",
        "                # Update board state, move to next turn\n",
        "                boardVals = boardValsNext\n",
        "                turn += 1\n",
        "\n",
        "                # Demonstrate five test runs\n",
        "                # Determine if the game finished\n",
        "                if epoch % (epochs // 5) == 0:\n",
        "                    print(f'Episode {epoch}, turn = {turn}, \\n', board)\n",
        "                    done, winner = check_over(boardVals, 1)\n",
        "                else:\n",
        "                    done, winner = check_over(boardVals)\n",
        "                \n",
        "                if done:\n",
        "                    if winner == '1':\n",
        "                        # Player 1 win\n",
        "                        winP1 += 1\n",
        "                    elif winner == '2':\n",
        "                        # Player 2 win\n",
        "                        winP2 += 1\n",
        "                    elif winner == 'd':\n",
        "                        # Draw, neither win\n",
        "                        draw += 1\n",
        "                \n",
        "            else:\n",
        "                # Player 2's turn\n",
        "                u = np.random.choice(list(controls))\n",
        "                # Using a move, remove it\n",
        "                controls.remove(u)\n",
        "                # Update board state\n",
        "                boardVals = boardVals.reshape(-1,)\n",
        "                boardVals[u] = 2\n",
        "                boardVals = boardVals.reshape(3,3)\n",
        "                # Update visual representation\n",
        "                board = board.reshape(-1,)\n",
        "                board[u] = symbols[2]\n",
        "                board = board.reshape(3,3)\n",
        "                turn += 1\n",
        "\n",
        "                # Demonstrate five test runs\n",
        "                # Determine if the game finished\n",
        "                if epoch % (epochs // 5) == 0:\n",
        "                    print(f'Episode {epoch}, turn = {turn}, \\n', board)\n",
        "                    done, winner = check_over(boardVals, 1)\n",
        "                else:\n",
        "                    done, winner = check_over(boardVals)\n",
        "\n",
        "                if done:\n",
        "                    if winner == '1':\n",
        "                        # Player 1 win\n",
        "                        winP1 += 1\n",
        "                    elif winner == '2':\n",
        "                        # Player 2 win\n",
        "                        winP2 += 1\n",
        "                    elif winner == 'd':\n",
        "                        # Draw, neither win\n",
        "                        draw += 1\n",
        "\n",
        "    # Compute Player 1 win, Player 2 win, and draw rates\n",
        "    winRateP1 = winP1 / epochs\n",
        "    winRateP2 = winP2 / epochs\n",
        "    drawRate = draw / epochs\n",
        "\n",
        "    return winRateP1, winRateP2, drawRate"
      ],
      "metadata": {
        "id": "AEJ07FFqs0iV"
      },
      "execution_count": 18,
      "outputs": []
    },
    {
      "cell_type": "code",
      "source": [
        "testEpochs = 10000\n",
        "winRateP1, winRateP2, drawRate = test(Qvals, testEpochs)"
      ],
      "metadata": {
        "id": "WI1Iv0oAAoL3",
        "colab": {
          "base_uri": "https://localhost:8080/"
        },
        "outputId": "937b1483-fd96-4fe6-d928-c6e60ccb8572"
      },
      "execution_count": 19,
      "outputs": [
        {
          "output_type": "stream",
          "name": "stdout",
          "text": [
            "Episode 0, turn = 0, \n",
            " [[' ' ' ' ' ']\n",
            " [' ' ' ' ' ']\n",
            " [' ' ' ' ' ']]\n",
            "Episode 0, turn = 0, \n",
            " [['X' ' ' ' ']\n",
            " [' ' ' ' ' ']\n",
            " [' ' ' ' ' ']]\n",
            "Episode 0, turn = 2, \n",
            " [['X' ' ' ' ']\n",
            " ['O' ' ' ' ']\n",
            " [' ' ' ' ' ']]\n",
            "Episode 0, turn = 2, \n",
            " [['X' 'X' ' ']\n",
            " ['O' ' ' ' ']\n",
            " [' ' ' ' ' ']]\n",
            "Episode 0, turn = 4, \n",
            " [['X' 'X' ' ']\n",
            " ['O' ' ' ' ']\n",
            " [' ' 'O' ' ']]\n",
            "Episode 0, turn = 4, \n",
            " [['X' 'X' 'X']\n",
            " ['O' ' ' ' ']\n",
            " [' ' 'O' ' ']]\n",
            "Player 1 won!\n",
            "Episode 2000, turn = 0, \n",
            " [[' ' ' ' ' ']\n",
            " [' ' ' ' ' ']\n",
            " [' ' ' ' ' ']]\n",
            "Episode 2000, turn = 0, \n",
            " [['X' ' ' ' ']\n",
            " [' ' ' ' ' ']\n",
            " [' ' ' ' ' ']]\n",
            "Episode 2000, turn = 2, \n",
            " [['X' ' ' ' ']\n",
            " [' ' 'O' ' ']\n",
            " [' ' ' ' ' ']]\n",
            "Episode 2000, turn = 2, \n",
            " [['X' 'X' ' ']\n",
            " [' ' 'O' ' ']\n",
            " [' ' ' ' ' ']]\n",
            "Episode 2000, turn = 4, \n",
            " [['X' 'X' ' ']\n",
            " [' ' 'O' ' ']\n",
            " ['O' ' ' ' ']]\n",
            "Episode 2000, turn = 4, \n",
            " [['X' 'X' 'X']\n",
            " [' ' 'O' ' ']\n",
            " ['O' ' ' ' ']]\n",
            "Player 1 won!\n",
            "Episode 4000, turn = 0, \n",
            " [[' ' ' ' ' ']\n",
            " [' ' ' ' ' ']\n",
            " [' ' ' ' ' ']]\n",
            "Episode 4000, turn = 0, \n",
            " [['X' ' ' ' ']\n",
            " [' ' ' ' ' ']\n",
            " [' ' ' ' ' ']]\n",
            "Episode 4000, turn = 2, \n",
            " [['X' ' ' ' ']\n",
            " [' ' ' ' ' ']\n",
            " ['O' ' ' ' ']]\n",
            "Episode 4000, turn = 2, \n",
            " [['X' 'X' ' ']\n",
            " [' ' ' ' ' ']\n",
            " ['O' ' ' ' ']]\n",
            "Episode 4000, turn = 4, \n",
            " [['X' 'X' ' ']\n",
            " [' ' ' ' ' ']\n",
            " ['O' ' ' 'O']]\n",
            "Episode 4000, turn = 4, \n",
            " [['X' 'X' 'X']\n",
            " [' ' ' ' ' ']\n",
            " ['O' ' ' 'O']]\n",
            "Player 1 won!\n",
            "Episode 6000, turn = 0, \n",
            " [[' ' ' ' ' ']\n",
            " [' ' ' ' ' ']\n",
            " [' ' ' ' ' ']]\n",
            "Episode 6000, turn = 0, \n",
            " [['X' ' ' ' ']\n",
            " [' ' ' ' ' ']\n",
            " [' ' ' ' ' ']]\n",
            "Episode 6000, turn = 2, \n",
            " [['X' ' ' ' ']\n",
            " [' ' ' ' 'O']\n",
            " [' ' ' ' ' ']]\n",
            "Episode 6000, turn = 2, \n",
            " [['X' 'X' ' ']\n",
            " [' ' ' ' 'O']\n",
            " [' ' ' ' ' ']]\n",
            "Episode 6000, turn = 4, \n",
            " [['X' 'X' 'O']\n",
            " [' ' ' ' 'O']\n",
            " [' ' ' ' ' ']]\n",
            "Episode 6000, turn = 4, \n",
            " [['X' 'X' 'O']\n",
            " ['X' ' ' 'O']\n",
            " [' ' ' ' ' ']]\n",
            "Episode 6000, turn = 6, \n",
            " [['X' 'X' 'O']\n",
            " ['X' ' ' 'O']\n",
            " [' ' 'O' ' ']]\n",
            "Episode 6000, turn = 6, \n",
            " [['X' 'X' 'O']\n",
            " ['X' ' ' 'O']\n",
            " ['X' 'O' ' ']]\n",
            "Player 1 won!\n",
            "Episode 8000, turn = 0, \n",
            " [[' ' ' ' ' ']\n",
            " [' ' ' ' ' ']\n",
            " [' ' ' ' ' ']]\n",
            "Episode 8000, turn = 0, \n",
            " [['X' ' ' ' ']\n",
            " [' ' ' ' ' ']\n",
            " [' ' ' ' ' ']]\n",
            "Episode 8000, turn = 2, \n",
            " [['X' ' ' ' ']\n",
            " [' ' ' ' ' ']\n",
            " [' ' ' ' 'O']]\n",
            "Episode 8000, turn = 2, \n",
            " [['X' 'X' ' ']\n",
            " [' ' ' ' ' ']\n",
            " [' ' ' ' 'O']]\n",
            "Episode 8000, turn = 4, \n",
            " [['X' 'X' ' ']\n",
            " [' ' 'O' ' ']\n",
            " [' ' ' ' 'O']]\n",
            "Episode 8000, turn = 4, \n",
            " [['X' 'X' 'X']\n",
            " [' ' 'O' ' ']\n",
            " [' ' ' ' 'O']]\n",
            "Player 1 won!\n"
          ]
        }
      ]
    },
    {
      "cell_type": "code",
      "source": [
        "# These test results corroborate how well this policy performs\n",
        "winRateP1"
      ],
      "metadata": {
        "colab": {
          "base_uri": "https://localhost:8080/"
        },
        "id": "Nz7-KqqvA4tL",
        "outputId": "2ab45b11-a069-4128-8cf1-7ca54a1f4590"
      },
      "execution_count": 20,
      "outputs": [
        {
          "output_type": "execute_result",
          "data": {
            "text/plain": [
              "0.8989"
            ]
          },
          "metadata": {},
          "execution_count": 20
        }
      ]
    },
    {
      "cell_type": "code",
      "source": [
        "winRateP2"
      ],
      "metadata": {
        "colab": {
          "base_uri": "https://localhost:8080/"
        },
        "id": "9m3pClSaA5xO",
        "outputId": "3da01726-c612-40c7-eba9-9c9829272404"
      },
      "execution_count": 21,
      "outputs": [
        {
          "output_type": "execute_result",
          "data": {
            "text/plain": [
              "0.0709"
            ]
          },
          "metadata": {},
          "execution_count": 21
        }
      ]
    },
    {
      "cell_type": "code",
      "source": [
        "drawRate"
      ],
      "metadata": {
        "colab": {
          "base_uri": "https://localhost:8080/"
        },
        "id": "dPOPVwaRA6vk",
        "outputId": "94188955-9cdd-4822-865f-b7c46d569f4e"
      },
      "execution_count": 22,
      "outputs": [
        {
          "output_type": "execute_result",
          "data": {
            "text/plain": [
              "0.0302"
            ]
          },
          "metadata": {},
          "execution_count": 22
        }
      ]
    },
    {
      "cell_type": "code",
      "source": [
        "# Sanity check for these values to add up\n",
        "winRateP1 + winRateP2 + drawRate"
      ],
      "metadata": {
        "colab": {
          "base_uri": "https://localhost:8080/"
        },
        "id": "E0c1VGSXAx5S",
        "outputId": "d9a9abf6-694e-4892-d368-6c4344135bc9"
      },
      "execution_count": 23,
      "outputs": [
        {
          "output_type": "execute_result",
          "data": {
            "text/plain": [
              "1.0"
            ]
          },
          "metadata": {},
          "execution_count": 23
        }
      ]
    },
    {
      "cell_type": "markdown",
      "source": [
        "#### AI versus Human"
      ],
      "metadata": {
        "id": "7miXZpkAKOEO"
      }
    },
    {
      "cell_type": "code",
      "source": [
        "\"\"\"\n",
        "Pit the RL agent (Player 1) against a human (Player 2)\n",
        "\"\"\"\n",
        "\n",
        "def testHuman(Qvals):\n",
        "    # Keep track of evaluation metrics\n",
        "    winP1 = 0\n",
        "    winP2 = 0\n",
        "    draw = 0\n",
        "    # Symbols: P1 = X, P2 = O\n",
        "    symbols = {1: 'X', 2: 'O'}\n",
        "    # Count the rounds (replacement for epochs)\n",
        "    round = 0\n",
        "\n",
        "    # Human decides whether to keep playing or end the session.\n",
        "    while int(input('Play (input 1) or exit (input 0)? ')) != 0:\n",
        "        round += 1\n",
        "        print('Round', round)\n",
        "        done = False\n",
        "        controls = reset()\n",
        "\n",
        "        # Starting board state - empty\n",
        "        boardVals = np.zeros((3,3))\n",
        "        turn = 0\n",
        "        # Visual representation of the board\n",
        "        board = np.array([[' ', ' ', ' '],\n",
        "                          [' ', ' ', ' '],\n",
        "                          [' ', ' ', ' ']])\n",
        "\n",
        "        print(f'Turn = {turn}, \\n', board)\n",
        "\n",
        "        while done != True:\n",
        "            # Determine which player's turn it is\n",
        "            if turn % 2 == 0:\n",
        "                # Player 1's turn - AI\n",
        "                u = control_test(tuple(boardVals.reshape(-1,).astype(int)),\n",
        "                                 controls, Qvals)\n",
        "                # Using a move, remove it\n",
        "                controls.remove(u)\n",
        "                # Update board state\n",
        "                boardValsNext = boardVals.reshape(-1,)\n",
        "                boardValsNext[u] = 1\n",
        "                boardValsNext = boardValsNext.reshape(3,3)\n",
        "                # Update visual representation\n",
        "                board = board.reshape(-1,)\n",
        "                board[u] = symbols[1]\n",
        "                board = board.reshape(3,3)\n",
        "\n",
        "                # Update board state, move to next turn \n",
        "                boardVals = boardValsNext\n",
        "                turn += 1\n",
        "                \n",
        "                print(f'Turn = {turn}, \\n', board)\n",
        "\n",
        "                # Determine if the game finished\n",
        "                done, winner = check_over(boardVals, 1)\n",
        "                if done:\n",
        "                    if winner == '1':\n",
        "                        # AI wins\n",
        "                        winP1 += 1\n",
        "                    elif winner == '2':\n",
        "                        # Human wins\n",
        "                        winP2 += 1\n",
        "                    elif winner == 'd':\n",
        "                        # Draw, neither win\n",
        "                        draw += 1\n",
        "\n",
        "            else:\n",
        "                # Player 2's turn - human\n",
        "                # Must choose which square:\n",
        "                #   1 2 3\n",
        "                #   4 5 6\n",
        "                #   7 8 9\n",
        "                u = int(input('Enter a square to place O (1-9): ')) - 1\n",
        "                # Using a move, remove it\n",
        "                controls.remove(u)\n",
        "                # Update board state\n",
        "                boardVals = boardVals.reshape(-1,)\n",
        "                boardVals[u] = 2\n",
        "                boardVals = boardVals.reshape(3,3)\n",
        "                # Update visual representation\n",
        "                board = board.reshape(-1,)\n",
        "                board[u] = symbols[2]\n",
        "                board = board.reshape(3,3)\n",
        "                turn += 1\n",
        "\n",
        "                print(f'Turn = {turn}, \\n', board)\n",
        "\n",
        "                # Determine if the game finished\n",
        "                done, winner = check_over(boardVals, 1)\n",
        "                if done:\n",
        "                    if winner == '1':\n",
        "                        # AI win\n",
        "                        winP1 += 1\n",
        "                    elif winner == '2':\n",
        "                        # Human win\n",
        "                        winP2 += 1\n",
        "                    elif winner == 'd':\n",
        "                        # Draw, neither win\n",
        "                        draw += 1\n",
        "    # Human ended session, return metrics\n",
        "    print('Game Over')\n",
        "    return winP1, winP2, draw, round"
      ],
      "metadata": {
        "id": "S952QhfVsIuI"
      },
      "execution_count": 24,
      "outputs": []
    },
    {
      "cell_type": "code",
      "source": [
        "# Run this cell (after the others)\n",
        "# to face the AI yourself\n",
        "print('Welcome to Tic-Tac-Toe! AI is P1, you are P2.')\n",
        "winP1, winP2, draw, rounds = testHuman(Qvals)\n",
        "\n",
        "if rounds == 0:\n",
        "    print('No games played; no stats reported.')\n",
        "else:\n",
        "    winRateP1 = winP1 / rounds\n",
        "    winRateP2 = winP2 / rounds\n",
        "    drawRate = draw / rounds\n",
        "    print('Rounds:       ', rounds)\n",
        "    print('AI Wins:      ', winP1)\n",
        "    print('AI Win Rate:  ', winRateP1)\n",
        "    print('Your Wins:    ', winP2)\n",
        "    print('Your Win Rate:', winRateP2)\n",
        "    print('Draws:        ', draw)\n",
        "    print('Draw Rate:    ', drawRate)"
      ],
      "metadata": {
        "colab": {
          "base_uri": "https://localhost:8080/"
        },
        "id": "lk5VhJKu18J0",
        "outputId": "5556f849-440e-41fe-c524-fb32c41da26e"
      },
      "execution_count": 26,
      "outputs": [
        {
          "output_type": "stream",
          "name": "stdout",
          "text": [
            "Welcome to Tic-Tac-Toe! AI is P1, you are P2.\n",
            "Play (input 1) or exit (input 0)? 1\n",
            "Round 1\n",
            "Turn = 0, \n",
            " [[' ' ' ' ' ']\n",
            " [' ' ' ' ' ']\n",
            " [' ' ' ' ' ']]\n",
            "Turn = 0, \n",
            " [['X' ' ' ' ']\n",
            " [' ' ' ' ' ']\n",
            " [' ' ' ' ' ']]\n",
            "Enter a square to place O (1-9): 3\n",
            "Turn = 2, \n",
            " [['X' ' ' 'O']\n",
            " [' ' ' ' ' ']\n",
            " [' ' ' ' ' ']]\n",
            "Turn = 2, \n",
            " [['X' 'X' 'O']\n",
            " [' ' ' ' ' ']\n",
            " [' ' ' ' ' ']]\n",
            "Enter a square to place O (1-9): 4\n",
            "Turn = 4, \n",
            " [['X' 'X' 'O']\n",
            " ['O' ' ' ' ']\n",
            " [' ' ' ' ' ']]\n",
            "Turn = 4, \n",
            " [['X' 'X' 'O']\n",
            " ['O' 'X' ' ']\n",
            " [' ' ' ' ' ']]\n",
            "Enter a square to place O (1-9): 8\n",
            "Turn = 6, \n",
            " [['X' 'X' 'O']\n",
            " ['O' 'X' ' ']\n",
            " [' ' 'O' ' ']]\n",
            "Turn = 6, \n",
            " [['X' 'X' 'O']\n",
            " ['O' 'X' 'X']\n",
            " [' ' 'O' ' ']]\n",
            "Enter a square to place O (1-9): 7\n",
            "Turn = 8, \n",
            " [['X' 'X' 'O']\n",
            " ['O' 'X' 'X']\n",
            " ['O' 'O' ' ']]\n",
            "Turn = 8, \n",
            " [['X' 'X' 'O']\n",
            " ['O' 'X' 'X']\n",
            " ['O' 'O' 'X']]\n",
            "Player 1 won!\n",
            "Play (input 1) or exit (input 0)? 1\n",
            "Round 2\n",
            "Turn = 0, \n",
            " [[' ' ' ' ' ']\n",
            " [' ' ' ' ' ']\n",
            " [' ' ' ' ' ']]\n",
            "Turn = 0, \n",
            " [['X' ' ' ' ']\n",
            " [' ' ' ' ' ']\n",
            " [' ' ' ' ' ']]\n",
            "Enter a square to place O (1-9): 5\n",
            "Turn = 2, \n",
            " [['X' ' ' ' ']\n",
            " [' ' 'O' ' ']\n",
            " [' ' ' ' ' ']]\n",
            "Turn = 2, \n",
            " [['X' 'X' ' ']\n",
            " [' ' 'O' ' ']\n",
            " [' ' ' ' ' ']]\n",
            "Enter a square to place O (1-9): 3\n",
            "Turn = 4, \n",
            " [['X' 'X' 'O']\n",
            " [' ' 'O' ' ']\n",
            " [' ' ' ' ' ']]\n",
            "Turn = 4, \n",
            " [['X' 'X' 'O']\n",
            " ['X' 'O' ' ']\n",
            " [' ' ' ' ' ']]\n",
            "Enter a square to place O (1-9): 7\n",
            "Turn = 6, \n",
            " [['X' 'X' 'O']\n",
            " ['X' 'O' ' ']\n",
            " ['O' ' ' ' ']]\n",
            "Player 2 won!\n",
            "Play (input 1) or exit (input 0)? 1\n",
            "Round 3\n",
            "Turn = 0, \n",
            " [[' ' ' ' ' ']\n",
            " [' ' ' ' ' ']\n",
            " [' ' ' ' ' ']]\n",
            "Turn = 0, \n",
            " [['X' ' ' ' ']\n",
            " [' ' ' ' ' ']\n",
            " [' ' ' ' ' ']]\n",
            "Enter a square to place O (1-9): 4\n",
            "Turn = 2, \n",
            " [['X' ' ' ' ']\n",
            " ['O' ' ' ' ']\n",
            " [' ' ' ' ' ']]\n",
            "Turn = 2, \n",
            " [['X' 'X' ' ']\n",
            " ['O' ' ' ' ']\n",
            " [' ' ' ' ' ']]\n",
            "Enter a square to place O (1-9): 3\n",
            "Turn = 4, \n",
            " [['X' 'X' 'O']\n",
            " ['O' ' ' ' ']\n",
            " [' ' ' ' ' ']]\n",
            "Turn = 4, \n",
            " [['X' 'X' 'O']\n",
            " ['O' 'X' ' ']\n",
            " [' ' ' ' ' ']]\n",
            "Enter a square to place O (1-9): 9\n",
            "Turn = 6, \n",
            " [['X' 'X' 'O']\n",
            " ['O' 'X' ' ']\n",
            " [' ' ' ' 'O']]\n",
            "Turn = 6, \n",
            " [['X' 'X' 'O']\n",
            " ['O' 'X' 'X']\n",
            " [' ' ' ' 'O']]\n",
            "Enter a square to place O (1-9): 8\n",
            "Turn = 8, \n",
            " [['X' 'X' 'O']\n",
            " ['O' 'X' 'X']\n",
            " [' ' 'O' 'O']]\n",
            "Turn = 8, \n",
            " [['X' 'X' 'O']\n",
            " ['O' 'X' 'X']\n",
            " ['X' 'O' 'O']]\n",
            "Draw!\n",
            "Play (input 1) or exit (input 0)? 0\n",
            "Game Over\n",
            "Rounds:        3\n",
            "AI Wins:       1\n",
            "AI Win Rate:   0.3333333333333333\n",
            "Your Wins:     1\n",
            "Your Win Rate: 0.3333333333333333\n",
            "Draws:         1\n",
            "Draw Rate:     0.3333333333333333\n"
          ]
        }
      ]
    }
  ],
  "metadata": {
    "colab": {
      "provenance": [],
      "include_colab_link": true
    },
    "gpuClass": "standard",
    "kernelspec": {
      "display_name": "Python 3",
      "language": "python",
      "name": "python3"
    },
    "language_info": {
      "codemirror_mode": {
        "name": "ipython",
        "version": 3
      },
      "file_extension": ".py",
      "mimetype": "text/x-python",
      "name": "python",
      "nbconvert_exporter": "python",
      "pygments_lexer": "ipython3",
      "version": "3.7.6"
    },
    "accelerator": "GPU"
  },
  "nbformat": 4,
  "nbformat_minor": 0
}