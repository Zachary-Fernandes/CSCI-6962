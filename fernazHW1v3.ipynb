{
  "cells": [
    {
      "cell_type": "markdown",
      "metadata": {
        "id": "view-in-github",
        "colab_type": "text"
      },
      "source": [
        "<a href=\"https://colab.research.google.com/github/Zachary-Fernandes/CSCI-6962/blob/main/fernazHW1v3.ipynb\" target=\"_parent\"><img src=\"https://colab.research.google.com/assets/colab-badge.svg\" alt=\"Open In Colab\"/></a>"
      ]
    },
    {
      "cell_type": "markdown",
      "source": [
        "# Homework 1\n",
        "#####Zachary Fernandes\n",
        "#####Projects in Machine Learning and AI\n",
        "\n",
        "### The Problem\n",
        "The machine learning problem I wanted to solve involved the [NASA Nearest Earth Objects dataset](https://www.kaggle.com/datasets/sameepvani/nasa-nearest-earth-objects?select=neo_v2.csv) found on Kaggle. The exact problem here is determining whether or not an asteroid is a hazard to humans given the dataset's features - estimated diameter, relative velocity, miss distance, and absolute magnitude.\n",
        "\n",
        "I wanted to solve this problem with logistic regression. This is the best selection for solving this problem because determining whether or not an asteroid is hazard is a binary classification task. If we used linear regression here, we would get a continuous outcome as a solution. What I want to do, however, requires a categorical, binary output, that being hazardous or non-hazardous. This binary classification is a problem that is appropriate for logistic regression to solve, which is why it is the right tool for this job."
      ],
      "metadata": {
        "id": "HXZog3W-zdgW"
      }
    },
    {
      "cell_type": "markdown",
      "metadata": {
        "id": "7IuJm6vAjOtz"
      },
      "source": [
        "### Setup"
      ]
    },
    {
      "cell_type": "code",
      "source": [
        "!pip install imbalanced-learn"
      ],
      "metadata": {
        "colab": {
          "base_uri": "https://localhost:8080/"
        },
        "id": "MoRfsvI_CwMB",
        "outputId": "e60016ff-52b9-47aa-d825-1b89d11e5b5e"
      },
      "execution_count": 101,
      "outputs": [
        {
          "output_type": "stream",
          "name": "stdout",
          "text": [
            "Looking in indexes: https://pypi.org/simple, https://us-python.pkg.dev/colab-wheels/public/simple/\n",
            "Requirement already satisfied: imbalanced-learn in /usr/local/lib/python3.7/dist-packages (0.8.1)\n",
            "Requirement already satisfied: scipy>=0.19.1 in /usr/local/lib/python3.7/dist-packages (from imbalanced-learn) (1.7.3)\n",
            "Requirement already satisfied: joblib>=0.11 in /usr/local/lib/python3.7/dist-packages (from imbalanced-learn) (1.1.0)\n",
            "Requirement already satisfied: numpy>=1.13.3 in /usr/local/lib/python3.7/dist-packages (from imbalanced-learn) (1.21.6)\n",
            "Requirement already satisfied: scikit-learn>=0.24 in /usr/local/lib/python3.7/dist-packages (from imbalanced-learn) (1.0.2)\n",
            "Requirement already satisfied: threadpoolctl>=2.0.0 in /usr/local/lib/python3.7/dist-packages (from scikit-learn>=0.24->imbalanced-learn) (3.1.0)\n"
          ]
        }
      ]
    },
    {
      "cell_type": "code",
      "execution_count": 102,
      "metadata": {
        "id": "aZCA63injOt2"
      },
      "outputs": [],
      "source": [
        "# import required libraries\n",
        "import pandas as pd\n",
        "import matplotlib.pyplot as plt\n",
        "import seaborn as sns\n",
        "import numpy as np\n",
        "import random\n",
        "from sklearn.model_selection import train_test_split\n",
        "from sklearn.linear_model import LogisticRegression\n",
        "from sklearn.svm import SVC\n",
        "from sklearn.ensemble import RandomForestClassifier\n",
        "from sklearn.ensemble import GradientBoostingClassifier\n",
        "from sklearn.metrics import accuracy_score\n",
        "from sklearn.metrics import f1_score\n",
        "from sklearn.preprocessing import Normalizer\n",
        "from sklearn.preprocessing import StandardScaler\n",
        "from imblearn.over_sampling import SMOTE\n",
        "import warnings\n",
        "warnings.filterwarnings(\"ignore\")"
      ]
    },
    {
      "cell_type": "markdown",
      "source": [
        "### Exploratory Data Analysis\n",
        "Below are the steps I take to perform Exploratory Data Analysis."
      ],
      "metadata": {
        "id": "sZhrsQnH1MKs"
      }
    },
    {
      "cell_type": "markdown",
      "metadata": {
        "id": "qd2wLZlWjOt4"
      },
      "source": [
        "#### Getting the Data"
      ]
    },
    {
      "cell_type": "code",
      "execution_count": 103,
      "metadata": {
        "id": "OyjGkMYajOt4"
      },
      "outputs": [],
      "source": [
        "# data source: https://www.kaggle.com/datasets/sameepvani/nasa-nearest-earth-objects\n",
        "# note: we have combined Training and Testing data from Kaggle into a single data frame\n",
        "df = pd.read_csv('neo_v2.csv')"
      ]
    },
    {
      "cell_type": "markdown",
      "metadata": {
        "id": "4Ph370GzjOt5"
      },
      "source": [
        "Data Dictionary\n",
        "\n",
        "\n",
        "| **Variable**       | **Definition**                                                |\n",
        "|--------------------|---------------------------------------------------------------|\n",
        "| id                 | Unique Identifier for each Asteroid                           |\n",
        "| name               | Name given by NASA                                            |\n",
        "| est_diameter_min   | Minimum Estimated Diameter in Kilometres                      |\n",
        "| est_diameter_max   | Maximum Estimated Diameter in Kilometres                      |\n",
        "| relative_velocity  | Velocity Relative to Earth in Kmph                            |\n",
        "| miss_distance      | Distance in Kilometres missed                                 |\n",
        "| orbiting_body      | Planet that the asteroid orbits                               |\n",
        "| sentry_object      | Included in sentry - automated collision monitoring system    |\n",
        "| absolute_magnitude | Describes intrinsic luminosity                                |\n",
        "| hazardous          | Boolean feature that shows whether asteroid is harmful or not |"
      ]
    },
    {
      "cell_type": "markdown",
      "metadata": {
        "id": "65TzJC9WjOt5"
      },
      "source": [
        "### Exploring the Data"
      ]
    },
    {
      "cell_type": "code",
      "execution_count": 104,
      "metadata": {
        "id": "HL2mLfdUjOt6",
        "outputId": "95cbdc25-3dbe-4159-e3e6-9a9f559dc006",
        "colab": {
          "base_uri": "https://localhost:8080/",
          "height": 409
        }
      },
      "outputs": [
        {
          "output_type": "execute_result",
          "data": {
            "text/plain": [
              "        id                 name  est_diameter_min  est_diameter_max  \\\n",
              "0  2162635  162635 (2000 SS164)          1.198271          2.679415   \n",
              "1  2277475    277475 (2005 WK4)          0.265800          0.594347   \n",
              "2  2512244   512244 (2015 YE18)          0.722030          1.614507   \n",
              "3  3596030          (2012 BV13)          0.096506          0.215794   \n",
              "4  3667127          (2014 GE35)          0.255009          0.570217   \n",
              "\n",
              "   relative_velocity  miss_distance orbiting_body  sentry_object  \\\n",
              "0       13569.249224   5.483974e+07         Earth          False   \n",
              "1       73588.726663   6.143813e+07         Earth          False   \n",
              "2      114258.692129   4.979872e+07         Earth          False   \n",
              "3       24764.303138   2.543497e+07         Earth          False   \n",
              "4       42737.733765   4.627557e+07         Earth          False   \n",
              "\n",
              "   absolute_magnitude  hazardous  \n",
              "0               16.73      False  \n",
              "1               20.00       True  \n",
              "2               17.83      False  \n",
              "3               22.20      False  \n",
              "4               20.09       True  "
            ],
            "text/html": [
              "\n",
              "  <div id=\"df-e52c29ea-a0d7-481f-97fb-7cf7f54cc75a\">\n",
              "    <div class=\"colab-df-container\">\n",
              "      <div>\n",
              "<style scoped>\n",
              "    .dataframe tbody tr th:only-of-type {\n",
              "        vertical-align: middle;\n",
              "    }\n",
              "\n",
              "    .dataframe tbody tr th {\n",
              "        vertical-align: top;\n",
              "    }\n",
              "\n",
              "    .dataframe thead th {\n",
              "        text-align: right;\n",
              "    }\n",
              "</style>\n",
              "<table border=\"1\" class=\"dataframe\">\n",
              "  <thead>\n",
              "    <tr style=\"text-align: right;\">\n",
              "      <th></th>\n",
              "      <th>id</th>\n",
              "      <th>name</th>\n",
              "      <th>est_diameter_min</th>\n",
              "      <th>est_diameter_max</th>\n",
              "      <th>relative_velocity</th>\n",
              "      <th>miss_distance</th>\n",
              "      <th>orbiting_body</th>\n",
              "      <th>sentry_object</th>\n",
              "      <th>absolute_magnitude</th>\n",
              "      <th>hazardous</th>\n",
              "    </tr>\n",
              "  </thead>\n",
              "  <tbody>\n",
              "    <tr>\n",
              "      <th>0</th>\n",
              "      <td>2162635</td>\n",
              "      <td>162635 (2000 SS164)</td>\n",
              "      <td>1.198271</td>\n",
              "      <td>2.679415</td>\n",
              "      <td>13569.249224</td>\n",
              "      <td>5.483974e+07</td>\n",
              "      <td>Earth</td>\n",
              "      <td>False</td>\n",
              "      <td>16.73</td>\n",
              "      <td>False</td>\n",
              "    </tr>\n",
              "    <tr>\n",
              "      <th>1</th>\n",
              "      <td>2277475</td>\n",
              "      <td>277475 (2005 WK4)</td>\n",
              "      <td>0.265800</td>\n",
              "      <td>0.594347</td>\n",
              "      <td>73588.726663</td>\n",
              "      <td>6.143813e+07</td>\n",
              "      <td>Earth</td>\n",
              "      <td>False</td>\n",
              "      <td>20.00</td>\n",
              "      <td>True</td>\n",
              "    </tr>\n",
              "    <tr>\n",
              "      <th>2</th>\n",
              "      <td>2512244</td>\n",
              "      <td>512244 (2015 YE18)</td>\n",
              "      <td>0.722030</td>\n",
              "      <td>1.614507</td>\n",
              "      <td>114258.692129</td>\n",
              "      <td>4.979872e+07</td>\n",
              "      <td>Earth</td>\n",
              "      <td>False</td>\n",
              "      <td>17.83</td>\n",
              "      <td>False</td>\n",
              "    </tr>\n",
              "    <tr>\n",
              "      <th>3</th>\n",
              "      <td>3596030</td>\n",
              "      <td>(2012 BV13)</td>\n",
              "      <td>0.096506</td>\n",
              "      <td>0.215794</td>\n",
              "      <td>24764.303138</td>\n",
              "      <td>2.543497e+07</td>\n",
              "      <td>Earth</td>\n",
              "      <td>False</td>\n",
              "      <td>22.20</td>\n",
              "      <td>False</td>\n",
              "    </tr>\n",
              "    <tr>\n",
              "      <th>4</th>\n",
              "      <td>3667127</td>\n",
              "      <td>(2014 GE35)</td>\n",
              "      <td>0.255009</td>\n",
              "      <td>0.570217</td>\n",
              "      <td>42737.733765</td>\n",
              "      <td>4.627557e+07</td>\n",
              "      <td>Earth</td>\n",
              "      <td>False</td>\n",
              "      <td>20.09</td>\n",
              "      <td>True</td>\n",
              "    </tr>\n",
              "  </tbody>\n",
              "</table>\n",
              "</div>\n",
              "      <button class=\"colab-df-convert\" onclick=\"convertToInteractive('df-e52c29ea-a0d7-481f-97fb-7cf7f54cc75a')\"\n",
              "              title=\"Convert this dataframe to an interactive table.\"\n",
              "              style=\"display:none;\">\n",
              "        \n",
              "  <svg xmlns=\"http://www.w3.org/2000/svg\" height=\"24px\"viewBox=\"0 0 24 24\"\n",
              "       width=\"24px\">\n",
              "    <path d=\"M0 0h24v24H0V0z\" fill=\"none\"/>\n",
              "    <path d=\"M18.56 5.44l.94 2.06.94-2.06 2.06-.94-2.06-.94-.94-2.06-.94 2.06-2.06.94zm-11 1L8.5 8.5l.94-2.06 2.06-.94-2.06-.94L8.5 2.5l-.94 2.06-2.06.94zm10 10l.94 2.06.94-2.06 2.06-.94-2.06-.94-.94-2.06-.94 2.06-2.06.94z\"/><path d=\"M17.41 7.96l-1.37-1.37c-.4-.4-.92-.59-1.43-.59-.52 0-1.04.2-1.43.59L10.3 9.45l-7.72 7.72c-.78.78-.78 2.05 0 2.83L4 21.41c.39.39.9.59 1.41.59.51 0 1.02-.2 1.41-.59l7.78-7.78 2.81-2.81c.8-.78.8-2.07 0-2.86zM5.41 20L4 18.59l7.72-7.72 1.47 1.35L5.41 20z\"/>\n",
              "  </svg>\n",
              "      </button>\n",
              "      \n",
              "  <style>\n",
              "    .colab-df-container {\n",
              "      display:flex;\n",
              "      flex-wrap:wrap;\n",
              "      gap: 12px;\n",
              "    }\n",
              "\n",
              "    .colab-df-convert {\n",
              "      background-color: #E8F0FE;\n",
              "      border: none;\n",
              "      border-radius: 50%;\n",
              "      cursor: pointer;\n",
              "      display: none;\n",
              "      fill: #1967D2;\n",
              "      height: 32px;\n",
              "      padding: 0 0 0 0;\n",
              "      width: 32px;\n",
              "    }\n",
              "\n",
              "    .colab-df-convert:hover {\n",
              "      background-color: #E2EBFA;\n",
              "      box-shadow: 0px 1px 2px rgba(60, 64, 67, 0.3), 0px 1px 3px 1px rgba(60, 64, 67, 0.15);\n",
              "      fill: #174EA6;\n",
              "    }\n",
              "\n",
              "    [theme=dark] .colab-df-convert {\n",
              "      background-color: #3B4455;\n",
              "      fill: #D2E3FC;\n",
              "    }\n",
              "\n",
              "    [theme=dark] .colab-df-convert:hover {\n",
              "      background-color: #434B5C;\n",
              "      box-shadow: 0px 1px 3px 1px rgba(0, 0, 0, 0.15);\n",
              "      filter: drop-shadow(0px 1px 2px rgba(0, 0, 0, 0.3));\n",
              "      fill: #FFFFFF;\n",
              "    }\n",
              "  </style>\n",
              "\n",
              "      <script>\n",
              "        const buttonEl =\n",
              "          document.querySelector('#df-e52c29ea-a0d7-481f-97fb-7cf7f54cc75a button.colab-df-convert');\n",
              "        buttonEl.style.display =\n",
              "          google.colab.kernel.accessAllowed ? 'block' : 'none';\n",
              "\n",
              "        async function convertToInteractive(key) {\n",
              "          const element = document.querySelector('#df-e52c29ea-a0d7-481f-97fb-7cf7f54cc75a');\n",
              "          const dataTable =\n",
              "            await google.colab.kernel.invokeFunction('convertToInteractive',\n",
              "                                                     [key], {});\n",
              "          if (!dataTable) return;\n",
              "\n",
              "          const docLinkHtml = 'Like what you see? Visit the ' +\n",
              "            '<a target=\"_blank\" href=https://colab.research.google.com/notebooks/data_table.ipynb>data table notebook</a>'\n",
              "            + ' to learn more about interactive tables.';\n",
              "          element.innerHTML = '';\n",
              "          dataTable['output_type'] = 'display_data';\n",
              "          await google.colab.output.renderOutput(dataTable, element);\n",
              "          const docLink = document.createElement('div');\n",
              "          docLink.innerHTML = docLinkHtml;\n",
              "          element.appendChild(docLink);\n",
              "        }\n",
              "      </script>\n",
              "    </div>\n",
              "  </div>\n",
              "  "
            ]
          },
          "metadata": {},
          "execution_count": 104
        }
      ],
      "source": [
        "# viewing the first few rows of the data\n",
        "df.head()"
      ]
    },
    {
      "cell_type": "code",
      "execution_count": 105,
      "metadata": {
        "id": "amcvkzh4jOt7",
        "outputId": "f4d35ad0-82c6-45f0-864e-7ab7dcf15514",
        "colab": {
          "base_uri": "https://localhost:8080/"
        }
      },
      "outputs": [
        {
          "output_type": "execute_result",
          "data": {
            "text/plain": [
              "(90836, 10)"
            ]
          },
          "metadata": {},
          "execution_count": 105
        }
      ],
      "source": [
        "# what's the data size?\n",
        "df.shape\n",
        "# there are not many features, but there are plenty of examples"
      ]
    },
    {
      "cell_type": "code",
      "source": [
        "# are there any missing values?\n",
        "df.isna().sum()\n",
        "# there are no missing values"
      ],
      "metadata": {
        "colab": {
          "base_uri": "https://localhost:8080/"
        },
        "id": "nWPpvP25_99X",
        "outputId": "98b1d7da-8691-4a96-e89d-cbdd40ab6e50"
      },
      "execution_count": 106,
      "outputs": [
        {
          "output_type": "execute_result",
          "data": {
            "text/plain": [
              "id                    0\n",
              "name                  0\n",
              "est_diameter_min      0\n",
              "est_diameter_max      0\n",
              "relative_velocity     0\n",
              "miss_distance         0\n",
              "orbiting_body         0\n",
              "sentry_object         0\n",
              "absolute_magnitude    0\n",
              "hazardous             0\n",
              "dtype: int64"
            ]
          },
          "metadata": {},
          "execution_count": 106
        }
      ]
    },
    {
      "cell_type": "code",
      "execution_count": 107,
      "metadata": {
        "id": "AdR7no6PjOt8",
        "outputId": "e6f7f712-29a4-4ca7-9acb-c311d692a410",
        "colab": {
          "base_uri": "https://localhost:8080/"
        }
      },
      "outputs": [
        {
          "output_type": "stream",
          "name": "stdout",
          "text": [
            "<class 'pandas.core.frame.DataFrame'>\n",
            "RangeIndex: 90836 entries, 0 to 90835\n",
            "Data columns (total 10 columns):\n",
            " #   Column              Non-Null Count  Dtype  \n",
            "---  ------              --------------  -----  \n",
            " 0   id                  90836 non-null  int64  \n",
            " 1   name                90836 non-null  object \n",
            " 2   est_diameter_min    90836 non-null  float64\n",
            " 3   est_diameter_max    90836 non-null  float64\n",
            " 4   relative_velocity   90836 non-null  float64\n",
            " 5   miss_distance       90836 non-null  float64\n",
            " 6   orbiting_body       90836 non-null  object \n",
            " 7   sentry_object       90836 non-null  bool   \n",
            " 8   absolute_magnitude  90836 non-null  float64\n",
            " 9   hazardous           90836 non-null  bool   \n",
            "dtypes: bool(2), float64(5), int64(1), object(2)\n",
            "memory usage: 5.7+ MB\n"
          ]
        }
      ],
      "source": [
        "# general information about the dataset\n",
        "df.info()"
      ]
    },
    {
      "cell_type": "code",
      "execution_count": 108,
      "metadata": {
        "id": "0FDhJLljjOt8",
        "outputId": "cda8ac77-d714-4527-e857-e71774bd90c9",
        "colab": {
          "base_uri": "https://localhost:8080/",
          "height": 364
        }
      },
      "outputs": [
        {
          "output_type": "execute_result",
          "data": {
            "text/plain": [
              "                 id  est_diameter_min  est_diameter_max  relative_velocity  \\\n",
              "count  9.083600e+04      90836.000000      90836.000000       90836.000000   \n",
              "mean   1.438288e+07          0.127432          0.284947       48066.918918   \n",
              "std    2.087202e+07          0.298511          0.667491       25293.296961   \n",
              "min    2.000433e+06          0.000609          0.001362         203.346433   \n",
              "25%    3.448110e+06          0.019256          0.043057       28619.020645   \n",
              "50%    3.748362e+06          0.048368          0.108153       44190.117890   \n",
              "75%    3.884023e+06          0.143402          0.320656       62923.604633   \n",
              "max    5.427591e+07         37.892650         84.730541      236990.128088   \n",
              "\n",
              "       miss_distance  absolute_magnitude  \n",
              "count   9.083600e+04        90836.000000  \n",
              "mean    3.706655e+07           23.527103  \n",
              "std     2.235204e+07            2.894086  \n",
              "min     6.745533e+03            9.230000  \n",
              "25%     1.721082e+07           21.340000  \n",
              "50%     3.784658e+07           23.700000  \n",
              "75%     5.654900e+07           25.700000  \n",
              "max     7.479865e+07           33.200000  "
            ],
            "text/html": [
              "\n",
              "  <div id=\"df-b06bc5dd-37b8-4568-840b-a9696b2f5161\">\n",
              "    <div class=\"colab-df-container\">\n",
              "      <div>\n",
              "<style scoped>\n",
              "    .dataframe tbody tr th:only-of-type {\n",
              "        vertical-align: middle;\n",
              "    }\n",
              "\n",
              "    .dataframe tbody tr th {\n",
              "        vertical-align: top;\n",
              "    }\n",
              "\n",
              "    .dataframe thead th {\n",
              "        text-align: right;\n",
              "    }\n",
              "</style>\n",
              "<table border=\"1\" class=\"dataframe\">\n",
              "  <thead>\n",
              "    <tr style=\"text-align: right;\">\n",
              "      <th></th>\n",
              "      <th>id</th>\n",
              "      <th>est_diameter_min</th>\n",
              "      <th>est_diameter_max</th>\n",
              "      <th>relative_velocity</th>\n",
              "      <th>miss_distance</th>\n",
              "      <th>absolute_magnitude</th>\n",
              "    </tr>\n",
              "  </thead>\n",
              "  <tbody>\n",
              "    <tr>\n",
              "      <th>count</th>\n",
              "      <td>9.083600e+04</td>\n",
              "      <td>90836.000000</td>\n",
              "      <td>90836.000000</td>\n",
              "      <td>90836.000000</td>\n",
              "      <td>9.083600e+04</td>\n",
              "      <td>90836.000000</td>\n",
              "    </tr>\n",
              "    <tr>\n",
              "      <th>mean</th>\n",
              "      <td>1.438288e+07</td>\n",
              "      <td>0.127432</td>\n",
              "      <td>0.284947</td>\n",
              "      <td>48066.918918</td>\n",
              "      <td>3.706655e+07</td>\n",
              "      <td>23.527103</td>\n",
              "    </tr>\n",
              "    <tr>\n",
              "      <th>std</th>\n",
              "      <td>2.087202e+07</td>\n",
              "      <td>0.298511</td>\n",
              "      <td>0.667491</td>\n",
              "      <td>25293.296961</td>\n",
              "      <td>2.235204e+07</td>\n",
              "      <td>2.894086</td>\n",
              "    </tr>\n",
              "    <tr>\n",
              "      <th>min</th>\n",
              "      <td>2.000433e+06</td>\n",
              "      <td>0.000609</td>\n",
              "      <td>0.001362</td>\n",
              "      <td>203.346433</td>\n",
              "      <td>6.745533e+03</td>\n",
              "      <td>9.230000</td>\n",
              "    </tr>\n",
              "    <tr>\n",
              "      <th>25%</th>\n",
              "      <td>3.448110e+06</td>\n",
              "      <td>0.019256</td>\n",
              "      <td>0.043057</td>\n",
              "      <td>28619.020645</td>\n",
              "      <td>1.721082e+07</td>\n",
              "      <td>21.340000</td>\n",
              "    </tr>\n",
              "    <tr>\n",
              "      <th>50%</th>\n",
              "      <td>3.748362e+06</td>\n",
              "      <td>0.048368</td>\n",
              "      <td>0.108153</td>\n",
              "      <td>44190.117890</td>\n",
              "      <td>3.784658e+07</td>\n",
              "      <td>23.700000</td>\n",
              "    </tr>\n",
              "    <tr>\n",
              "      <th>75%</th>\n",
              "      <td>3.884023e+06</td>\n",
              "      <td>0.143402</td>\n",
              "      <td>0.320656</td>\n",
              "      <td>62923.604633</td>\n",
              "      <td>5.654900e+07</td>\n",
              "      <td>25.700000</td>\n",
              "    </tr>\n",
              "    <tr>\n",
              "      <th>max</th>\n",
              "      <td>5.427591e+07</td>\n",
              "      <td>37.892650</td>\n",
              "      <td>84.730541</td>\n",
              "      <td>236990.128088</td>\n",
              "      <td>7.479865e+07</td>\n",
              "      <td>33.200000</td>\n",
              "    </tr>\n",
              "  </tbody>\n",
              "</table>\n",
              "</div>\n",
              "      <button class=\"colab-df-convert\" onclick=\"convertToInteractive('df-b06bc5dd-37b8-4568-840b-a9696b2f5161')\"\n",
              "              title=\"Convert this dataframe to an interactive table.\"\n",
              "              style=\"display:none;\">\n",
              "        \n",
              "  <svg xmlns=\"http://www.w3.org/2000/svg\" height=\"24px\"viewBox=\"0 0 24 24\"\n",
              "       width=\"24px\">\n",
              "    <path d=\"M0 0h24v24H0V0z\" fill=\"none\"/>\n",
              "    <path d=\"M18.56 5.44l.94 2.06.94-2.06 2.06-.94-2.06-.94-.94-2.06-.94 2.06-2.06.94zm-11 1L8.5 8.5l.94-2.06 2.06-.94-2.06-.94L8.5 2.5l-.94 2.06-2.06.94zm10 10l.94 2.06.94-2.06 2.06-.94-2.06-.94-.94-2.06-.94 2.06-2.06.94z\"/><path d=\"M17.41 7.96l-1.37-1.37c-.4-.4-.92-.59-1.43-.59-.52 0-1.04.2-1.43.59L10.3 9.45l-7.72 7.72c-.78.78-.78 2.05 0 2.83L4 21.41c.39.39.9.59 1.41.59.51 0 1.02-.2 1.41-.59l7.78-7.78 2.81-2.81c.8-.78.8-2.07 0-2.86zM5.41 20L4 18.59l7.72-7.72 1.47 1.35L5.41 20z\"/>\n",
              "  </svg>\n",
              "      </button>\n",
              "      \n",
              "  <style>\n",
              "    .colab-df-container {\n",
              "      display:flex;\n",
              "      flex-wrap:wrap;\n",
              "      gap: 12px;\n",
              "    }\n",
              "\n",
              "    .colab-df-convert {\n",
              "      background-color: #E8F0FE;\n",
              "      border: none;\n",
              "      border-radius: 50%;\n",
              "      cursor: pointer;\n",
              "      display: none;\n",
              "      fill: #1967D2;\n",
              "      height: 32px;\n",
              "      padding: 0 0 0 0;\n",
              "      width: 32px;\n",
              "    }\n",
              "\n",
              "    .colab-df-convert:hover {\n",
              "      background-color: #E2EBFA;\n",
              "      box-shadow: 0px 1px 2px rgba(60, 64, 67, 0.3), 0px 1px 3px 1px rgba(60, 64, 67, 0.15);\n",
              "      fill: #174EA6;\n",
              "    }\n",
              "\n",
              "    [theme=dark] .colab-df-convert {\n",
              "      background-color: #3B4455;\n",
              "      fill: #D2E3FC;\n",
              "    }\n",
              "\n",
              "    [theme=dark] .colab-df-convert:hover {\n",
              "      background-color: #434B5C;\n",
              "      box-shadow: 0px 1px 3px 1px rgba(0, 0, 0, 0.15);\n",
              "      filter: drop-shadow(0px 1px 2px rgba(0, 0, 0, 0.3));\n",
              "      fill: #FFFFFF;\n",
              "    }\n",
              "  </style>\n",
              "\n",
              "      <script>\n",
              "        const buttonEl =\n",
              "          document.querySelector('#df-b06bc5dd-37b8-4568-840b-a9696b2f5161 button.colab-df-convert');\n",
              "        buttonEl.style.display =\n",
              "          google.colab.kernel.accessAllowed ? 'block' : 'none';\n",
              "\n",
              "        async function convertToInteractive(key) {\n",
              "          const element = document.querySelector('#df-b06bc5dd-37b8-4568-840b-a9696b2f5161');\n",
              "          const dataTable =\n",
              "            await google.colab.kernel.invokeFunction('convertToInteractive',\n",
              "                                                     [key], {});\n",
              "          if (!dataTable) return;\n",
              "\n",
              "          const docLinkHtml = 'Like what you see? Visit the ' +\n",
              "            '<a target=\"_blank\" href=https://colab.research.google.com/notebooks/data_table.ipynb>data table notebook</a>'\n",
              "            + ' to learn more about interactive tables.';\n",
              "          element.innerHTML = '';\n",
              "          dataTable['output_type'] = 'display_data';\n",
              "          await google.colab.output.renderOutput(dataTable, element);\n",
              "          const docLink = document.createElement('div');\n",
              "          docLink.innerHTML = docLinkHtml;\n",
              "          element.appendChild(docLink);\n",
              "        }\n",
              "      </script>\n",
              "    </div>\n",
              "  </div>\n",
              "  "
            ]
          },
          "metadata": {},
          "execution_count": 108
        }
      ],
      "source": [
        "# statistics of the dataset (numeric columns)\n",
        "df.describe()"
      ]
    },
    {
      "cell_type": "code",
      "execution_count": 109,
      "metadata": {
        "id": "oU6xVUw2jOt9",
        "outputId": "0fc47aed-59c0-41e1-edb8-abf36df0883b",
        "colab": {
          "base_uri": "https://localhost:8080/",
          "height": 175
        }
      },
      "outputs": [
        {
          "output_type": "execute_result",
          "data": {
            "text/plain": [
              "                                 name orbiting_body\n",
              "count                           90836         90836\n",
              "unique                          27423             1\n",
              "top     469219 Kamo`oalewa (2016 HO3)         Earth\n",
              "freq                               43         90836"
            ],
            "text/html": [
              "\n",
              "  <div id=\"df-7f075a21-92e9-49a2-95ba-beb5727fb93e\">\n",
              "    <div class=\"colab-df-container\">\n",
              "      <div>\n",
              "<style scoped>\n",
              "    .dataframe tbody tr th:only-of-type {\n",
              "        vertical-align: middle;\n",
              "    }\n",
              "\n",
              "    .dataframe tbody tr th {\n",
              "        vertical-align: top;\n",
              "    }\n",
              "\n",
              "    .dataframe thead th {\n",
              "        text-align: right;\n",
              "    }\n",
              "</style>\n",
              "<table border=\"1\" class=\"dataframe\">\n",
              "  <thead>\n",
              "    <tr style=\"text-align: right;\">\n",
              "      <th></th>\n",
              "      <th>name</th>\n",
              "      <th>orbiting_body</th>\n",
              "    </tr>\n",
              "  </thead>\n",
              "  <tbody>\n",
              "    <tr>\n",
              "      <th>count</th>\n",
              "      <td>90836</td>\n",
              "      <td>90836</td>\n",
              "    </tr>\n",
              "    <tr>\n",
              "      <th>unique</th>\n",
              "      <td>27423</td>\n",
              "      <td>1</td>\n",
              "    </tr>\n",
              "    <tr>\n",
              "      <th>top</th>\n",
              "      <td>469219 Kamo`oalewa (2016 HO3)</td>\n",
              "      <td>Earth</td>\n",
              "    </tr>\n",
              "    <tr>\n",
              "      <th>freq</th>\n",
              "      <td>43</td>\n",
              "      <td>90836</td>\n",
              "    </tr>\n",
              "  </tbody>\n",
              "</table>\n",
              "</div>\n",
              "      <button class=\"colab-df-convert\" onclick=\"convertToInteractive('df-7f075a21-92e9-49a2-95ba-beb5727fb93e')\"\n",
              "              title=\"Convert this dataframe to an interactive table.\"\n",
              "              style=\"display:none;\">\n",
              "        \n",
              "  <svg xmlns=\"http://www.w3.org/2000/svg\" height=\"24px\"viewBox=\"0 0 24 24\"\n",
              "       width=\"24px\">\n",
              "    <path d=\"M0 0h24v24H0V0z\" fill=\"none\"/>\n",
              "    <path d=\"M18.56 5.44l.94 2.06.94-2.06 2.06-.94-2.06-.94-.94-2.06-.94 2.06-2.06.94zm-11 1L8.5 8.5l.94-2.06 2.06-.94-2.06-.94L8.5 2.5l-.94 2.06-2.06.94zm10 10l.94 2.06.94-2.06 2.06-.94-2.06-.94-.94-2.06-.94 2.06-2.06.94z\"/><path d=\"M17.41 7.96l-1.37-1.37c-.4-.4-.92-.59-1.43-.59-.52 0-1.04.2-1.43.59L10.3 9.45l-7.72 7.72c-.78.78-.78 2.05 0 2.83L4 21.41c.39.39.9.59 1.41.59.51 0 1.02-.2 1.41-.59l7.78-7.78 2.81-2.81c.8-.78.8-2.07 0-2.86zM5.41 20L4 18.59l7.72-7.72 1.47 1.35L5.41 20z\"/>\n",
              "  </svg>\n",
              "      </button>\n",
              "      \n",
              "  <style>\n",
              "    .colab-df-container {\n",
              "      display:flex;\n",
              "      flex-wrap:wrap;\n",
              "      gap: 12px;\n",
              "    }\n",
              "\n",
              "    .colab-df-convert {\n",
              "      background-color: #E8F0FE;\n",
              "      border: none;\n",
              "      border-radius: 50%;\n",
              "      cursor: pointer;\n",
              "      display: none;\n",
              "      fill: #1967D2;\n",
              "      height: 32px;\n",
              "      padding: 0 0 0 0;\n",
              "      width: 32px;\n",
              "    }\n",
              "\n",
              "    .colab-df-convert:hover {\n",
              "      background-color: #E2EBFA;\n",
              "      box-shadow: 0px 1px 2px rgba(60, 64, 67, 0.3), 0px 1px 3px 1px rgba(60, 64, 67, 0.15);\n",
              "      fill: #174EA6;\n",
              "    }\n",
              "\n",
              "    [theme=dark] .colab-df-convert {\n",
              "      background-color: #3B4455;\n",
              "      fill: #D2E3FC;\n",
              "    }\n",
              "\n",
              "    [theme=dark] .colab-df-convert:hover {\n",
              "      background-color: #434B5C;\n",
              "      box-shadow: 0px 1px 3px 1px rgba(0, 0, 0, 0.15);\n",
              "      filter: drop-shadow(0px 1px 2px rgba(0, 0, 0, 0.3));\n",
              "      fill: #FFFFFF;\n",
              "    }\n",
              "  </style>\n",
              "\n",
              "      <script>\n",
              "        const buttonEl =\n",
              "          document.querySelector('#df-7f075a21-92e9-49a2-95ba-beb5727fb93e button.colab-df-convert');\n",
              "        buttonEl.style.display =\n",
              "          google.colab.kernel.accessAllowed ? 'block' : 'none';\n",
              "\n",
              "        async function convertToInteractive(key) {\n",
              "          const element = document.querySelector('#df-7f075a21-92e9-49a2-95ba-beb5727fb93e');\n",
              "          const dataTable =\n",
              "            await google.colab.kernel.invokeFunction('convertToInteractive',\n",
              "                                                     [key], {});\n",
              "          if (!dataTable) return;\n",
              "\n",
              "          const docLinkHtml = 'Like what you see? Visit the ' +\n",
              "            '<a target=\"_blank\" href=https://colab.research.google.com/notebooks/data_table.ipynb>data table notebook</a>'\n",
              "            + ' to learn more about interactive tables.';\n",
              "          element.innerHTML = '';\n",
              "          dataTable['output_type'] = 'display_data';\n",
              "          await google.colab.output.renderOutput(dataTable, element);\n",
              "          const docLink = document.createElement('div');\n",
              "          docLink.innerHTML = docLinkHtml;\n",
              "          element.appendChild(docLink);\n",
              "        }\n",
              "      </script>\n",
              "    </div>\n",
              "  </div>\n",
              "  "
            ]
          },
          "metadata": {},
          "execution_count": 109
        }
      ],
      "source": [
        "# statistics of the dataset (categorical columns - name and orbiting-body)\n",
        "df.describe(include=['O'])"
      ]
    },
    {
      "cell_type": "code",
      "execution_count": 110,
      "metadata": {
        "id": "aeBX2qsDjOt9",
        "outputId": "ce4e193c-b129-4301-854d-406c79f0aeab",
        "colab": {
          "base_uri": "https://localhost:8080/"
        }
      },
      "outputs": [
        {
          "output_type": "execute_result",
          "data": {
            "text/plain": [
              "False    0.902682\n",
              "True     0.097318\n",
              "Name: hazardous, dtype: float64"
            ]
          },
          "metadata": {},
          "execution_count": 110
        }
      ],
      "source": [
        "# is the data imbalanced?\n",
        "df.hazardous.value_counts(normalize=True) #normalizes the result\n",
        "# at about 90% false and 10% true, this dataset is imbalanced"
      ]
    },
    {
      "cell_type": "markdown",
      "metadata": {
        "id": "eWlzL_a3jOt-"
      },
      "source": [
        "#### Pairplot"
      ]
    },
    {
      "cell_type": "code",
      "execution_count": null,
      "metadata": {
        "id": "lp4KzTwujOt-",
        "outputId": "23f0d76a-883c-4a31-deb7-6038b9586e3c",
        "colab": {
          "base_uri": "https://localhost:8080/",
          "height": 694
        }
      },
      "outputs": [
        {
          "output_type": "execute_result",
          "data": {
            "text/plain": [
              "''"
            ],
            "application/vnd.google.colaboratory.intrinsic+json": {
              "type": "string"
            }
          },
          "metadata": {},
          "execution_count": 161
        },
        {
          "output_type": "display_data",
          "data": {
            "text/plain": [
              "<Figure size 1321.25x1260 with 56 Axes>"
            ],
            "image/png": "[encoded data removed]"
          },
          "metadata": {
            "needs_background": "light"
          }
        }
      ],
      "source": [
        "# ploting pairwise relationships in the dataset\n",
        "sns.pairplot(df, hue='hazardous')\n",
        ","
      ]
    },
    {
      "cell_type": "markdown",
      "metadata": {
        "id": "Uxqt_OdMjOt-"
      },
      "source": [
        "#### Scatter Plot"
      ]
    },
    {
      "cell_type": "code",
      "execution_count": 111,
      "metadata": {
        "id": "JxZnSp4djOt_",
        "outputId": "e33e9d08-5ffd-4623-c87e-a887a92c8032",
        "colab": {
          "base_uri": "https://localhost:8080/",
          "height": 353
        }
      },
      "outputs": [
        {
          "output_type": "execute_result",
          "data": {
            "text/plain": [
              "''"
            ],
            "application/vnd.google.colaboratory.intrinsic+json": {
              "type": "string"
            }
          },
          "metadata": {},
          "execution_count": 111
        },
        {
          "output_type": "display_data",
          "data": {
            "text/plain": [
              "<Figure size 360x360 with 1 Axes>"
            ],
            "image/png": "[encoded data removed]"
          },
          "metadata": {
            "needs_background": "light"
          }
        }
      ],
      "source": [
        "# useful for identifying relationship (i.e. correlation) between two parameters\n",
        "fig, ax = plt.subplots(figsize=(5,5))\n",
        "ax.scatter(df.miss_distance, df.relative_velocity)\n",
        "ax.set_xlabel('Miss Distance')\n",
        "ax.set_ylabel('Relative Velocity')\n",
        ","
      ]
    },
    {
      "cell_type": "code",
      "source": [
        "fig, ax = plt.subplots(figsize=(5,5))\n",
        "ax.scatter(df.est_diameter_min, df.est_diameter_max)\n",
        "ax.set_xlabel('Minimum Estimated Diameter')\n",
        "ax.set_ylabel('Maximum Estimated Diameter')\n",
        ","
      ],
      "metadata": {
        "colab": {
          "base_uri": "https://localhost:8080/",
          "height": 353
        },
        "id": "_CVHglD6sQ98",
        "outputId": "7aab822d-fb61-4666-fe3b-e50417662b21"
      },
      "execution_count": 112,
      "outputs": [
        {
          "output_type": "execute_result",
          "data": {
            "text/plain": [
              "''"
            ],
            "application/vnd.google.colaboratory.intrinsic+json": {
              "type": "string"
            }
          },
          "metadata": {},
          "execution_count": 112
        },
        {
          "output_type": "display_data",
          "data": {
            "text/plain": [
              "<Figure size 360x360 with 1 Axes>"
            ],
            "image/png": "[encoded data removed]"
          },
          "metadata": {
            "needs_background": "light"
          }
        }
      ]
    },
    {
      "cell_type": "code",
      "source": [
        "fig, ax = plt.subplots(figsize=(5,5))\n",
        "ax.scatter(df.est_diameter_min, df.absolute_magnitude)\n",
        "ax.set_xlabel('Minimum Estimated Diameter')\n",
        "ax.set_ylabel('Absolute Magnitude')\n",
        ","
      ],
      "metadata": {
        "colab": {
          "base_uri": "https://localhost:8080/",
          "height": 353
        },
        "id": "f3M_UA9WsyZy",
        "outputId": "d128e1f7-d0e1-43d8-d1b3-ec86cdb0a95d"
      },
      "execution_count": 113,
      "outputs": [
        {
          "output_type": "execute_result",
          "data": {
            "text/plain": [
              "''"
            ],
            "application/vnd.google.colaboratory.intrinsic+json": {
              "type": "string"
            }
          },
          "metadata": {},
          "execution_count": 113
        },
        {
          "output_type": "display_data",
          "data": {
            "text/plain": [
              "<Figure size 360x360 with 1 Axes>"
            ],
            "image/png": "[encoded data removed]"
          },
          "metadata": {
            "needs_background": "light"
          }
        }
      ]
    },
    {
      "cell_type": "markdown",
      "metadata": {
        "id": "rfE-nrRajOt_"
      },
      "source": [
        "#### Pie Chart"
      ]
    },
    {
      "cell_type": "code",
      "execution_count": 114,
      "metadata": {
        "id": "qBhd4nyrjOt_",
        "outputId": "5c0d3462-f67c-4101-b876-85ff42e6bcfe",
        "colab": {
          "base_uri": "https://localhost:8080/",
          "height": 338
        }
      },
      "outputs": [
        {
          "output_type": "execute_result",
          "data": {
            "text/plain": [
              "''"
            ],
            "application/vnd.google.colaboratory.intrinsic+json": {
              "type": "string"
            }
          },
          "metadata": {},
          "execution_count": 114
        },
        {
          "output_type": "display_data",
          "data": {
            "text/plain": [
              "<Figure size 360x360 with 1 Axes>"
            ],
            "image/png": "[encoded data removed]"
          },
          "metadata": {}
        }
      ],
      "source": [
        "# useful for depicting proportional data with each slice of pie representing a\n",
        "# specific category\n",
        "fig, ax = plt.subplots(figsize=(5,5))\n",
        "ax.pie(x=df.hazardous.value_counts(), \n",
        "       labels=df.hazardous.value_counts().index,\n",
        "       autopct='%1.1f%%')\n",
        "ax.set_title('Hazardous')\n",
        ","
      ]
    },
    {
      "cell_type": "markdown",
      "metadata": {
        "id": "Fb6bL_hajOuA"
      },
      "source": [
        "#### Histogram"
      ]
    },
    {
      "cell_type": "code",
      "execution_count": 115,
      "metadata": {
        "id": "FTaTBL7-jOuA",
        "outputId": "2b3ccc6f-c040-438f-ee2d-f9e11d4aa280",
        "colab": {
          "base_uri": "https://localhost:8080/",
          "height": 265
        }
      },
      "outputs": [
        {
          "output_type": "display_data",
          "data": {
            "text/plain": [
              "<Figure size 432x288 with 1 Axes>"
            ],
            "image/png": "[encoded data removed]"
          },
          "metadata": {
            "needs_background": "light"
          }
        }
      ],
      "source": [
        "# useful for visualizing the distribution of the data\n",
        "test = df[df['hazardous'] == True]\n",
        "test.shape\n",
        "testCol = test['est_diameter_min'].values\n",
        "testCol\n",
        "testHist = np.asarray(testCol, dtype='float')\n",
        "plt.hist(testHist, bins = 20)\n",
        "plt.show()"
      ]
    },
    {
      "cell_type": "markdown",
      "metadata": {
        "id": "nlM3sfisuqCI",
        "papermill": {
          "duration": 0.069519,
          "end_time": "2022-01-13T11:50:59.493255",
          "exception": false,
          "start_time": "2022-01-13T11:50:59.423736",
          "status": "completed"
        },
        "tags": []
      },
      "source": [
        "### Adjustments from Exploratory Data Analysis.\n",
        "\n",
        "During Exploratory Data Analysis, I noticed some of the features are not relevant for the purposes of this project. That being said, we can remove some of them."
      ]
    },
    {
      "cell_type": "markdown",
      "source": [
        "Take, for example, the id and name features. For an asteroid, id is its unique identifier and name is its name provided by NASA. These features will not influence whether or not an asteroid is hazardous. Thus, we can drop them."
      ],
      "metadata": {
        "id": "hQR90ZVDiBZN"
      }
    },
    {
      "cell_type": "code",
      "source": [
        "df1 = df.drop(['id', 'name'], axis = 1)\n",
        "df1.head()"
      ],
      "metadata": {
        "id": "o47G_FuPjzg6",
        "colab": {
          "base_uri": "https://localhost:8080/",
          "height": 270
        },
        "outputId": "fe3bdaaf-4f6e-4da6-abec-ebee5bb41381"
      },
      "execution_count": 116,
      "outputs": [
        {
          "output_type": "execute_result",
          "data": {
            "text/plain": [
              "   est_diameter_min  est_diameter_max  relative_velocity  miss_distance  \\\n",
              "0          1.198271          2.679415       13569.249224   5.483974e+07   \n",
              "1          0.265800          0.594347       73588.726663   6.143813e+07   \n",
              "2          0.722030          1.614507      114258.692129   4.979872e+07   \n",
              "3          0.096506          0.215794       24764.303138   2.543497e+07   \n",
              "4          0.255009          0.570217       42737.733765   4.627557e+07   \n",
              "\n",
              "  orbiting_body  sentry_object  absolute_magnitude  hazardous  \n",
              "0         Earth          False               16.73      False  \n",
              "1         Earth          False               20.00       True  \n",
              "2         Earth          False               17.83      False  \n",
              "3         Earth          False               22.20      False  \n",
              "4         Earth          False               20.09       True  "
            ],
            "text/html": [
              "\n",
              "  <div id=\"df-8f2a0bd2-a250-4a20-a98c-45becc8c27e9\">\n",
              "    <div class=\"colab-df-container\">\n",
              "      <div>\n",
              "<style scoped>\n",
              "    .dataframe tbody tr th:only-of-type {\n",
              "        vertical-align: middle;\n",
              "    }\n",
              "\n",
              "    .dataframe tbody tr th {\n",
              "        vertical-align: top;\n",
              "    }\n",
              "\n",
              "    .dataframe thead th {\n",
              "        text-align: right;\n",
              "    }\n",
              "</style>\n",
              "<table border=\"1\" class=\"dataframe\">\n",
              "  <thead>\n",
              "    <tr style=\"text-align: right;\">\n",
              "      <th></th>\n",
              "      <th>est_diameter_min</th>\n",
              "      <th>est_diameter_max</th>\n",
              "      <th>relative_velocity</th>\n",
              "      <th>miss_distance</th>\n",
              "      <th>orbiting_body</th>\n",
              "      <th>sentry_object</th>\n",
              "      <th>absolute_magnitude</th>\n",
              "      <th>hazardous</th>\n",
              "    </tr>\n",
              "  </thead>\n",
              "  <tbody>\n",
              "    <tr>\n",
              "      <th>0</th>\n",
              "      <td>1.198271</td>\n",
              "      <td>2.679415</td>\n",
              "      <td>13569.249224</td>\n",
              "      <td>5.483974e+07</td>\n",
              "      <td>Earth</td>\n",
              "      <td>False</td>\n",
              "      <td>16.73</td>\n",
              "      <td>False</td>\n",
              "    </tr>\n",
              "    <tr>\n",
              "      <th>1</th>\n",
              "      <td>0.265800</td>\n",
              "      <td>0.594347</td>\n",
              "      <td>73588.726663</td>\n",
              "      <td>6.143813e+07</td>\n",
              "      <td>Earth</td>\n",
              "      <td>False</td>\n",
              "      <td>20.00</td>\n",
              "      <td>True</td>\n",
              "    </tr>\n",
              "    <tr>\n",
              "      <th>2</th>\n",
              "      <td>0.722030</td>\n",
              "      <td>1.614507</td>\n",
              "      <td>114258.692129</td>\n",
              "      <td>4.979872e+07</td>\n",
              "      <td>Earth</td>\n",
              "      <td>False</td>\n",
              "      <td>17.83</td>\n",
              "      <td>False</td>\n",
              "    </tr>\n",
              "    <tr>\n",
              "      <th>3</th>\n",
              "      <td>0.096506</td>\n",
              "      <td>0.215794</td>\n",
              "      <td>24764.303138</td>\n",
              "      <td>2.543497e+07</td>\n",
              "      <td>Earth</td>\n",
              "      <td>False</td>\n",
              "      <td>22.20</td>\n",
              "      <td>False</td>\n",
              "    </tr>\n",
              "    <tr>\n",
              "      <th>4</th>\n",
              "      <td>0.255009</td>\n",
              "      <td>0.570217</td>\n",
              "      <td>42737.733765</td>\n",
              "      <td>4.627557e+07</td>\n",
              "      <td>Earth</td>\n",
              "      <td>False</td>\n",
              "      <td>20.09</td>\n",
              "      <td>True</td>\n",
              "    </tr>\n",
              "  </tbody>\n",
              "</table>\n",
              "</div>\n",
              "      <button class=\"colab-df-convert\" onclick=\"convertToInteractive('df-8f2a0bd2-a250-4a20-a98c-45becc8c27e9')\"\n",
              "              title=\"Convert this dataframe to an interactive table.\"\n",
              "              style=\"display:none;\">\n",
              "        \n",
              "  <svg xmlns=\"http://www.w3.org/2000/svg\" height=\"24px\"viewBox=\"0 0 24 24\"\n",
              "       width=\"24px\">\n",
              "    <path d=\"M0 0h24v24H0V0z\" fill=\"none\"/>\n",
              "    <path d=\"M18.56 5.44l.94 2.06.94-2.06 2.06-.94-2.06-.94-.94-2.06-.94 2.06-2.06.94zm-11 1L8.5 8.5l.94-2.06 2.06-.94-2.06-.94L8.5 2.5l-.94 2.06-2.06.94zm10 10l.94 2.06.94-2.06 2.06-.94-2.06-.94-.94-2.06-.94 2.06-2.06.94z\"/><path d=\"M17.41 7.96l-1.37-1.37c-.4-.4-.92-.59-1.43-.59-.52 0-1.04.2-1.43.59L10.3 9.45l-7.72 7.72c-.78.78-.78 2.05 0 2.83L4 21.41c.39.39.9.59 1.41.59.51 0 1.02-.2 1.41-.59l7.78-7.78 2.81-2.81c.8-.78.8-2.07 0-2.86zM5.41 20L4 18.59l7.72-7.72 1.47 1.35L5.41 20z\"/>\n",
              "  </svg>\n",
              "      </button>\n",
              "      \n",
              "  <style>\n",
              "    .colab-df-container {\n",
              "      display:flex;\n",
              "      flex-wrap:wrap;\n",
              "      gap: 12px;\n",
              "    }\n",
              "\n",
              "    .colab-df-convert {\n",
              "      background-color: #E8F0FE;\n",
              "      border: none;\n",
              "      border-radius: 50%;\n",
              "      cursor: pointer;\n",
              "      display: none;\n",
              "      fill: #1967D2;\n",
              "      height: 32px;\n",
              "      padding: 0 0 0 0;\n",
              "      width: 32px;\n",
              "    }\n",
              "\n",
              "    .colab-df-convert:hover {\n",
              "      background-color: #E2EBFA;\n",
              "      box-shadow: 0px 1px 2px rgba(60, 64, 67, 0.3), 0px 1px 3px 1px rgba(60, 64, 67, 0.15);\n",
              "      fill: #174EA6;\n",
              "    }\n",
              "\n",
              "    [theme=dark] .colab-df-convert {\n",
              "      background-color: #3B4455;\n",
              "      fill: #D2E3FC;\n",
              "    }\n",
              "\n",
              "    [theme=dark] .colab-df-convert:hover {\n",
              "      background-color: #434B5C;\n",
              "      box-shadow: 0px 1px 3px 1px rgba(0, 0, 0, 0.15);\n",
              "      filter: drop-shadow(0px 1px 2px rgba(0, 0, 0, 0.3));\n",
              "      fill: #FFFFFF;\n",
              "    }\n",
              "  </style>\n",
              "\n",
              "      <script>\n",
              "        const buttonEl =\n",
              "          document.querySelector('#df-8f2a0bd2-a250-4a20-a98c-45becc8c27e9 button.colab-df-convert');\n",
              "        buttonEl.style.display =\n",
              "          google.colab.kernel.accessAllowed ? 'block' : 'none';\n",
              "\n",
              "        async function convertToInteractive(key) {\n",
              "          const element = document.querySelector('#df-8f2a0bd2-a250-4a20-a98c-45becc8c27e9');\n",
              "          const dataTable =\n",
              "            await google.colab.kernel.invokeFunction('convertToInteractive',\n",
              "                                                     [key], {});\n",
              "          if (!dataTable) return;\n",
              "\n",
              "          const docLinkHtml = 'Like what you see? Visit the ' +\n",
              "            '<a target=\"_blank\" href=https://colab.research.google.com/notebooks/data_table.ipynb>data table notebook</a>'\n",
              "            + ' to learn more about interactive tables.';\n",
              "          element.innerHTML = '';\n",
              "          dataTable['output_type'] = 'display_data';\n",
              "          await google.colab.output.renderOutput(dataTable, element);\n",
              "          const docLink = document.createElement('div');\n",
              "          docLink.innerHTML = docLinkHtml;\n",
              "          element.appendChild(docLink);\n",
              "        }\n",
              "      </script>\n",
              "    </div>\n",
              "  </div>\n",
              "  "
            ]
          },
          "metadata": {},
          "execution_count": 116
        }
      ]
    },
    {
      "cell_type": "markdown",
      "source": [
        "Next we notice the orbiting\\_body feature. When we looked at the categorical columns, we noticed orbiting\\_body had one unique value that appeared in 90836 instances. This unique value was Earth. It makes sense this appears for all 90836 rows of data as all of these potentially hazardous asteroids orbit Earth. Given this redundancy, we can drop the feature."
      ],
      "metadata": {
        "id": "UqPmJPmClGTM"
      }
    },
    {
      "cell_type": "code",
      "source": [
        "df2 = df1.drop(['orbiting_body'], axis = 1)\n",
        "df2.head()"
      ],
      "metadata": {
        "id": "nPoRPx07hhft",
        "colab": {
          "base_uri": "https://localhost:8080/",
          "height": 270
        },
        "outputId": "2d52e145-0d28-4ddc-89b1-8f36540d058f"
      },
      "execution_count": 117,
      "outputs": [
        {
          "output_type": "execute_result",
          "data": {
            "text/plain": [
              "   est_diameter_min  est_diameter_max  relative_velocity  miss_distance  \\\n",
              "0          1.198271          2.679415       13569.249224   5.483974e+07   \n",
              "1          0.265800          0.594347       73588.726663   6.143813e+07   \n",
              "2          0.722030          1.614507      114258.692129   4.979872e+07   \n",
              "3          0.096506          0.215794       24764.303138   2.543497e+07   \n",
              "4          0.255009          0.570217       42737.733765   4.627557e+07   \n",
              "\n",
              "   sentry_object  absolute_magnitude  hazardous  \n",
              "0          False               16.73      False  \n",
              "1          False               20.00       True  \n",
              "2          False               17.83      False  \n",
              "3          False               22.20      False  \n",
              "4          False               20.09       True  "
            ],
            "text/html": [
              "\n",
              "  <div id=\"df-a17b462e-257f-4613-95a5-f989db4b135e\">\n",
              "    <div class=\"colab-df-container\">\n",
              "      <div>\n",
              "<style scoped>\n",
              "    .dataframe tbody tr th:only-of-type {\n",
              "        vertical-align: middle;\n",
              "    }\n",
              "\n",
              "    .dataframe tbody tr th {\n",
              "        vertical-align: top;\n",
              "    }\n",
              "\n",
              "    .dataframe thead th {\n",
              "        text-align: right;\n",
              "    }\n",
              "</style>\n",
              "<table border=\"1\" class=\"dataframe\">\n",
              "  <thead>\n",
              "    <tr style=\"text-align: right;\">\n",
              "      <th></th>\n",
              "      <th>est_diameter_min</th>\n",
              "      <th>est_diameter_max</th>\n",
              "      <th>relative_velocity</th>\n",
              "      <th>miss_distance</th>\n",
              "      <th>sentry_object</th>\n",
              "      <th>absolute_magnitude</th>\n",
              "      <th>hazardous</th>\n",
              "    </tr>\n",
              "  </thead>\n",
              "  <tbody>\n",
              "    <tr>\n",
              "      <th>0</th>\n",
              "      <td>1.198271</td>\n",
              "      <td>2.679415</td>\n",
              "      <td>13569.249224</td>\n",
              "      <td>5.483974e+07</td>\n",
              "      <td>False</td>\n",
              "      <td>16.73</td>\n",
              "      <td>False</td>\n",
              "    </tr>\n",
              "    <tr>\n",
              "      <th>1</th>\n",
              "      <td>0.265800</td>\n",
              "      <td>0.594347</td>\n",
              "      <td>73588.726663</td>\n",
              "      <td>6.143813e+07</td>\n",
              "      <td>False</td>\n",
              "      <td>20.00</td>\n",
              "      <td>True</td>\n",
              "    </tr>\n",
              "    <tr>\n",
              "      <th>2</th>\n",
              "      <td>0.722030</td>\n",
              "      <td>1.614507</td>\n",
              "      <td>114258.692129</td>\n",
              "      <td>4.979872e+07</td>\n",
              "      <td>False</td>\n",
              "      <td>17.83</td>\n",
              "      <td>False</td>\n",
              "    </tr>\n",
              "    <tr>\n",
              "      <th>3</th>\n",
              "      <td>0.096506</td>\n",
              "      <td>0.215794</td>\n",
              "      <td>24764.303138</td>\n",
              "      <td>2.543497e+07</td>\n",
              "      <td>False</td>\n",
              "      <td>22.20</td>\n",
              "      <td>False</td>\n",
              "    </tr>\n",
              "    <tr>\n",
              "      <th>4</th>\n",
              "      <td>0.255009</td>\n",
              "      <td>0.570217</td>\n",
              "      <td>42737.733765</td>\n",
              "      <td>4.627557e+07</td>\n",
              "      <td>False</td>\n",
              "      <td>20.09</td>\n",
              "      <td>True</td>\n",
              "    </tr>\n",
              "  </tbody>\n",
              "</table>\n",
              "</div>\n",
              "      <button class=\"colab-df-convert\" onclick=\"convertToInteractive('df-a17b462e-257f-4613-95a5-f989db4b135e')\"\n",
              "              title=\"Convert this dataframe to an interactive table.\"\n",
              "              style=\"display:none;\">\n",
              "        \n",
              "  <svg xmlns=\"http://www.w3.org/2000/svg\" height=\"24px\"viewBox=\"0 0 24 24\"\n",
              "       width=\"24px\">\n",
              "    <path d=\"M0 0h24v24H0V0z\" fill=\"none\"/>\n",
              "    <path d=\"M18.56 5.44l.94 2.06.94-2.06 2.06-.94-2.06-.94-.94-2.06-.94 2.06-2.06.94zm-11 1L8.5 8.5l.94-2.06 2.06-.94-2.06-.94L8.5 2.5l-.94 2.06-2.06.94zm10 10l.94 2.06.94-2.06 2.06-.94-2.06-.94-.94-2.06-.94 2.06-2.06.94z\"/><path d=\"M17.41 7.96l-1.37-1.37c-.4-.4-.92-.59-1.43-.59-.52 0-1.04.2-1.43.59L10.3 9.45l-7.72 7.72c-.78.78-.78 2.05 0 2.83L4 21.41c.39.39.9.59 1.41.59.51 0 1.02-.2 1.41-.59l7.78-7.78 2.81-2.81c.8-.78.8-2.07 0-2.86zM5.41 20L4 18.59l7.72-7.72 1.47 1.35L5.41 20z\"/>\n",
              "  </svg>\n",
              "      </button>\n",
              "      \n",
              "  <style>\n",
              "    .colab-df-container {\n",
              "      display:flex;\n",
              "      flex-wrap:wrap;\n",
              "      gap: 12px;\n",
              "    }\n",
              "\n",
              "    .colab-df-convert {\n",
              "      background-color: #E8F0FE;\n",
              "      border: none;\n",
              "      border-radius: 50%;\n",
              "      cursor: pointer;\n",
              "      display: none;\n",
              "      fill: #1967D2;\n",
              "      height: 32px;\n",
              "      padding: 0 0 0 0;\n",
              "      width: 32px;\n",
              "    }\n",
              "\n",
              "    .colab-df-convert:hover {\n",
              "      background-color: #E2EBFA;\n",
              "      box-shadow: 0px 1px 2px rgba(60, 64, 67, 0.3), 0px 1px 3px 1px rgba(60, 64, 67, 0.15);\n",
              "      fill: #174EA6;\n",
              "    }\n",
              "\n",
              "    [theme=dark] .colab-df-convert {\n",
              "      background-color: #3B4455;\n",
              "      fill: #D2E3FC;\n",
              "    }\n",
              "\n",
              "    [theme=dark] .colab-df-convert:hover {\n",
              "      background-color: #434B5C;\n",
              "      box-shadow: 0px 1px 3px 1px rgba(0, 0, 0, 0.15);\n",
              "      filter: drop-shadow(0px 1px 2px rgba(0, 0, 0, 0.3));\n",
              "      fill: #FFFFFF;\n",
              "    }\n",
              "  </style>\n",
              "\n",
              "      <script>\n",
              "        const buttonEl =\n",
              "          document.querySelector('#df-a17b462e-257f-4613-95a5-f989db4b135e button.colab-df-convert');\n",
              "        buttonEl.style.display =\n",
              "          google.colab.kernel.accessAllowed ? 'block' : 'none';\n",
              "\n",
              "        async function convertToInteractive(key) {\n",
              "          const element = document.querySelector('#df-a17b462e-257f-4613-95a5-f989db4b135e');\n",
              "          const dataTable =\n",
              "            await google.colab.kernel.invokeFunction('convertToInteractive',\n",
              "                                                     [key], {});\n",
              "          if (!dataTable) return;\n",
              "\n",
              "          const docLinkHtml = 'Like what you see? Visit the ' +\n",
              "            '<a target=\"_blank\" href=https://colab.research.google.com/notebooks/data_table.ipynb>data table notebook</a>'\n",
              "            + ' to learn more about interactive tables.';\n",
              "          element.innerHTML = '';\n",
              "          dataTable['output_type'] = 'display_data';\n",
              "          await google.colab.output.renderOutput(dataTable, element);\n",
              "          const docLink = document.createElement('div');\n",
              "          docLink.innerHTML = docLinkHtml;\n",
              "          element.appendChild(docLink);\n",
              "        }\n",
              "      </script>\n",
              "    </div>\n",
              "  </div>\n",
              "  "
            ]
          },
          "metadata": {},
          "execution_count": 117
        }
      ]
    },
    {
      "cell_type": "markdown",
      "source": [
        "There is a further feature we can drop, that being sentry\\_object. When we look at the values for sentry\\_object, we notice every answer it gives is false. True in this section means it is included in a sentry-automated collision monitoring system. Since all of these entries are marked False, there is no meaningful data we can glean from it. Thus, we can drop it."
      ],
      "metadata": {
        "id": "Vy9ME6Hi5v6E"
      }
    },
    {
      "cell_type": "code",
      "source": [
        "df3 = df2.drop(['sentry_object'], axis = 1)\n",
        "df3.head()"
      ],
      "metadata": {
        "colab": {
          "base_uri": "https://localhost:8080/",
          "height": 270
        },
        "id": "q8RtQ4IU83oC",
        "outputId": "1ad55f50-1f78-465b-c0b5-2b6ac0a2e5f9"
      },
      "execution_count": 118,
      "outputs": [
        {
          "output_type": "execute_result",
          "data": {
            "text/plain": [
              "   est_diameter_min  est_diameter_max  relative_velocity  miss_distance  \\\n",
              "0          1.198271          2.679415       13569.249224   5.483974e+07   \n",
              "1          0.265800          0.594347       73588.726663   6.143813e+07   \n",
              "2          0.722030          1.614507      114258.692129   4.979872e+07   \n",
              "3          0.096506          0.215794       24764.303138   2.543497e+07   \n",
              "4          0.255009          0.570217       42737.733765   4.627557e+07   \n",
              "\n",
              "   absolute_magnitude  hazardous  \n",
              "0               16.73      False  \n",
              "1               20.00       True  \n",
              "2               17.83      False  \n",
              "3               22.20      False  \n",
              "4               20.09       True  "
            ],
            "text/html": [
              "\n",
              "  <div id=\"df-9f87fc1c-2eaa-4bb9-ac4c-24fa01035e40\">\n",
              "    <div class=\"colab-df-container\">\n",
              "      <div>\n",
              "<style scoped>\n",
              "    .dataframe tbody tr th:only-of-type {\n",
              "        vertical-align: middle;\n",
              "    }\n",
              "\n",
              "    .dataframe tbody tr th {\n",
              "        vertical-align: top;\n",
              "    }\n",
              "\n",
              "    .dataframe thead th {\n",
              "        text-align: right;\n",
              "    }\n",
              "</style>\n",
              "<table border=\"1\" class=\"dataframe\">\n",
              "  <thead>\n",
              "    <tr style=\"text-align: right;\">\n",
              "      <th></th>\n",
              "      <th>est_diameter_min</th>\n",
              "      <th>est_diameter_max</th>\n",
              "      <th>relative_velocity</th>\n",
              "      <th>miss_distance</th>\n",
              "      <th>absolute_magnitude</th>\n",
              "      <th>hazardous</th>\n",
              "    </tr>\n",
              "  </thead>\n",
              "  <tbody>\n",
              "    <tr>\n",
              "      <th>0</th>\n",
              "      <td>1.198271</td>\n",
              "      <td>2.679415</td>\n",
              "      <td>13569.249224</td>\n",
              "      <td>5.483974e+07</td>\n",
              "      <td>16.73</td>\n",
              "      <td>False</td>\n",
              "    </tr>\n",
              "    <tr>\n",
              "      <th>1</th>\n",
              "      <td>0.265800</td>\n",
              "      <td>0.594347</td>\n",
              "      <td>73588.726663</td>\n",
              "      <td>6.143813e+07</td>\n",
              "      <td>20.00</td>\n",
              "      <td>True</td>\n",
              "    </tr>\n",
              "    <tr>\n",
              "      <th>2</th>\n",
              "      <td>0.722030</td>\n",
              "      <td>1.614507</td>\n",
              "      <td>114258.692129</td>\n",
              "      <td>4.979872e+07</td>\n",
              "      <td>17.83</td>\n",
              "      <td>False</td>\n",
              "    </tr>\n",
              "    <tr>\n",
              "      <th>3</th>\n",
              "      <td>0.096506</td>\n",
              "      <td>0.215794</td>\n",
              "      <td>24764.303138</td>\n",
              "      <td>2.543497e+07</td>\n",
              "      <td>22.20</td>\n",
              "      <td>False</td>\n",
              "    </tr>\n",
              "    <tr>\n",
              "      <th>4</th>\n",
              "      <td>0.255009</td>\n",
              "      <td>0.570217</td>\n",
              "      <td>42737.733765</td>\n",
              "      <td>4.627557e+07</td>\n",
              "      <td>20.09</td>\n",
              "      <td>True</td>\n",
              "    </tr>\n",
              "  </tbody>\n",
              "</table>\n",
              "</div>\n",
              "      <button class=\"colab-df-convert\" onclick=\"convertToInteractive('df-9f87fc1c-2eaa-4bb9-ac4c-24fa01035e40')\"\n",
              "              title=\"Convert this dataframe to an interactive table.\"\n",
              "              style=\"display:none;\">\n",
              "        \n",
              "  <svg xmlns=\"http://www.w3.org/2000/svg\" height=\"24px\"viewBox=\"0 0 24 24\"\n",
              "       width=\"24px\">\n",
              "    <path d=\"M0 0h24v24H0V0z\" fill=\"none\"/>\n",
              "    <path d=\"M18.56 5.44l.94 2.06.94-2.06 2.06-.94-2.06-.94-.94-2.06-.94 2.06-2.06.94zm-11 1L8.5 8.5l.94-2.06 2.06-.94-2.06-.94L8.5 2.5l-.94 2.06-2.06.94zm10 10l.94 2.06.94-2.06 2.06-.94-2.06-.94-.94-2.06-.94 2.06-2.06.94z\"/><path d=\"M17.41 7.96l-1.37-1.37c-.4-.4-.92-.59-1.43-.59-.52 0-1.04.2-1.43.59L10.3 9.45l-7.72 7.72c-.78.78-.78 2.05 0 2.83L4 21.41c.39.39.9.59 1.41.59.51 0 1.02-.2 1.41-.59l7.78-7.78 2.81-2.81c.8-.78.8-2.07 0-2.86zM5.41 20L4 18.59l7.72-7.72 1.47 1.35L5.41 20z\"/>\n",
              "  </svg>\n",
              "      </button>\n",
              "      \n",
              "  <style>\n",
              "    .colab-df-container {\n",
              "      display:flex;\n",
              "      flex-wrap:wrap;\n",
              "      gap: 12px;\n",
              "    }\n",
              "\n",
              "    .colab-df-convert {\n",
              "      background-color: #E8F0FE;\n",
              "      border: none;\n",
              "      border-radius: 50%;\n",
              "      cursor: pointer;\n",
              "      display: none;\n",
              "      fill: #1967D2;\n",
              "      height: 32px;\n",
              "      padding: 0 0 0 0;\n",
              "      width: 32px;\n",
              "    }\n",
              "\n",
              "    .colab-df-convert:hover {\n",
              "      background-color: #E2EBFA;\n",
              "      box-shadow: 0px 1px 2px rgba(60, 64, 67, 0.3), 0px 1px 3px 1px rgba(60, 64, 67, 0.15);\n",
              "      fill: #174EA6;\n",
              "    }\n",
              "\n",
              "    [theme=dark] .colab-df-convert {\n",
              "      background-color: #3B4455;\n",
              "      fill: #D2E3FC;\n",
              "    }\n",
              "\n",
              "    [theme=dark] .colab-df-convert:hover {\n",
              "      background-color: #434B5C;\n",
              "      box-shadow: 0px 1px 3px 1px rgba(0, 0, 0, 0.15);\n",
              "      filter: drop-shadow(0px 1px 2px rgba(0, 0, 0, 0.3));\n",
              "      fill: #FFFFFF;\n",
              "    }\n",
              "  </style>\n",
              "\n",
              "      <script>\n",
              "        const buttonEl =\n",
              "          document.querySelector('#df-9f87fc1c-2eaa-4bb9-ac4c-24fa01035e40 button.colab-df-convert');\n",
              "        buttonEl.style.display =\n",
              "          google.colab.kernel.accessAllowed ? 'block' : 'none';\n",
              "\n",
              "        async function convertToInteractive(key) {\n",
              "          const element = document.querySelector('#df-9f87fc1c-2eaa-4bb9-ac4c-24fa01035e40');\n",
              "          const dataTable =\n",
              "            await google.colab.kernel.invokeFunction('convertToInteractive',\n",
              "                                                     [key], {});\n",
              "          if (!dataTable) return;\n",
              "\n",
              "          const docLinkHtml = 'Like what you see? Visit the ' +\n",
              "            '<a target=\"_blank\" href=https://colab.research.google.com/notebooks/data_table.ipynb>data table notebook</a>'\n",
              "            + ' to learn more about interactive tables.';\n",
              "          element.innerHTML = '';\n",
              "          dataTable['output_type'] = 'display_data';\n",
              "          await google.colab.output.renderOutput(dataTable, element);\n",
              "          const docLink = document.createElement('div');\n",
              "          docLink.innerHTML = docLinkHtml;\n",
              "          element.appendChild(docLink);\n",
              "        }\n",
              "      </script>\n",
              "    </div>\n",
              "  </div>\n",
              "  "
            ]
          },
          "metadata": {},
          "execution_count": 118
        }
      ]
    },
    {
      "cell_type": "markdown",
      "source": [
        "I believe this dataset was a subset of a larger NASA dataset that included orbiting bodies (planets) other than Earth. Containing features like the orbiting\\_body and the sentry\\_object may not be relevant to matters purely revolving around Earth, but they would be pertinent in other situations in space. This would be why categories that seem irrelevant for my purposes still appear."
      ],
      "metadata": {
        "id": "X3HWDXuHntrP"
      }
    },
    {
      "cell_type": "markdown",
      "metadata": {
        "id": "y_7esoLnjOuJ"
      },
      "source": [
        "Now we observe how our features correlate with each other and with the target variable, hazardous:"
      ]
    },
    {
      "cell_type": "code",
      "execution_count": 119,
      "metadata": {
        "id": "1pLW346HjOuJ",
        "outputId": "13aaa64f-85c8-4d8a-c08e-9c8fbc1f2244",
        "colab": {
          "base_uri": "https://localhost:8080/",
          "height": 598
        }
      },
      "outputs": [
        {
          "output_type": "execute_result",
          "data": {
            "text/plain": [
              "''"
            ],
            "application/vnd.google.colaboratory.intrinsic+json": {
              "type": "string"
            }
          },
          "metadata": {},
          "execution_count": 119
        },
        {
          "output_type": "display_data",
          "data": {
            "text/plain": [
              "<Figure size 720x576 with 2 Axes>"
            ],
            "image/png": "[encoded data removed]"
          },
          "metadata": {
            "needs_background": "light"
          }
        }
      ],
      "source": [
        "fig, ax = plt.subplots(figsize=(10,8))\n",
        "sns.heatmap(df3.corr().abs(),annot=False, ax=ax, cmap='rocket_r')\n",
        ","
      ]
    },
    {
      "cell_type": "code",
      "execution_count": 120,
      "metadata": {
        "id": "qPVfM3uQjOuJ",
        "outputId": "b77f2025-c320-4c49-93fb-c8ecc5e1e7a9",
        "colab": {
          "base_uri": "https://localhost:8080/"
        }
      },
      "outputs": [
        {
          "output_type": "execute_result",
          "data": {
            "text/plain": [
              "hazardous             1.000000\n",
              "relative_velocity     0.191185\n",
              "est_diameter_max      0.183363\n",
              "est_diameter_min      0.183363\n",
              "miss_distance         0.042302\n",
              "absolute_magnitude   -0.365267\n",
              "Name: hazardous, dtype: float64"
            ]
          },
          "metadata": {},
          "execution_count": 120
        }
      ],
      "source": [
        "# feature correlation with target variable\n",
        "df3.corr()['hazardous'].sort_values(ascending=False)"
      ]
    },
    {
      "cell_type": "markdown",
      "metadata": {
        "id": "Y3ydRC6ajOuJ"
      },
      "source": [
        "#### Oversampling to Counter Bias"
      ]
    },
    {
      "cell_type": "markdown",
      "source": [
        "We recognize how imbalanced the data is, approximately 90% non-hazardous and 10% hazardous. We must resolve this with oversampling. For our purposes, we will use SMOTE ([Synthetic Minority Over-sampling Technique](https://imbalanced-learn.org/stable/references/generated/imblearn.over_sampling.SMOTE.html)) to oversample."
      ],
      "metadata": {
        "id": "RqYhNcMeHD6J"
      }
    },
    {
      "cell_type": "code",
      "execution_count": 121,
      "metadata": {
        "execution": {
          "iopub.execute_input": "2022-01-13T11:51:10.385674Z",
          "iopub.status.busy": "2022-01-13T11:51:10.385071Z",
          "iopub.status.idle": "2022-01-13T11:51:10.391059Z",
          "shell.execute_reply": "2022-01-13T11:51:10.390517Z",
          "shell.execute_reply.started": "2021-12-30T16:11:10.862071Z"
        },
        "id": "oT7G6q4pfePI",
        "papermill": {
          "duration": 0.097761,
          "end_time": "2022-01-13T11:51:10.391191",
          "exception": false,
          "start_time": "2022-01-13T11:51:10.293430",
          "status": "completed"
        },
        "tags": [],
        "colab": {
          "base_uri": "https://localhost:8080/",
          "height": 488
        },
        "outputId": "3d873044-d62d-47cf-f2f8-470abe9e1666"
      },
      "outputs": [
        {
          "output_type": "execute_result",
          "data": {
            "text/plain": [
              "       est_diameter_min  est_diameter_max  relative_velocity  miss_distance  \\\n",
              "0              1.198271          2.679415       13569.249224   5.483974e+07   \n",
              "1              0.265800          0.594347       73588.726663   6.143813e+07   \n",
              "2              0.722030          1.614507      114258.692129   4.979872e+07   \n",
              "3              0.096506          0.215794       24764.303138   2.543497e+07   \n",
              "4              0.255009          0.570217       42737.733765   4.627557e+07   \n",
              "...                 ...               ...                ...            ...   \n",
              "90831          0.026580          0.059435       52078.886692   1.230039e+07   \n",
              "90832          0.016771          0.037501       46114.605073   5.432121e+07   \n",
              "90833          0.031956          0.071456        7566.807732   2.840077e+07   \n",
              "90834          0.007321          0.016370       69199.154484   6.869206e+07   \n",
              "90835          0.039862          0.089133       27024.455553   5.977213e+07   \n",
              "\n",
              "       absolute_magnitude  \n",
              "0                   16.73  \n",
              "1                   20.00  \n",
              "2                   17.83  \n",
              "3                   22.20  \n",
              "4                   20.09  \n",
              "...                   ...  \n",
              "90831               25.00  \n",
              "90832               26.00  \n",
              "90833               24.60  \n",
              "90834               27.80  \n",
              "90835               24.12  \n",
              "\n",
              "[90836 rows x 5 columns]"
            ],
            "text/html": [
              "\n",
              "  <div id=\"df-45385260-206f-49f9-87c2-06a12bcfa5ed\">\n",
              "    <div class=\"colab-df-container\">\n",
              "      <div>\n",
              "<style scoped>\n",
              "    .dataframe tbody tr th:only-of-type {\n",
              "        vertical-align: middle;\n",
              "    }\n",
              "\n",
              "    .dataframe tbody tr th {\n",
              "        vertical-align: top;\n",
              "    }\n",
              "\n",
              "    .dataframe thead th {\n",
              "        text-align: right;\n",
              "    }\n",
              "</style>\n",
              "<table border=\"1\" class=\"dataframe\">\n",
              "  <thead>\n",
              "    <tr style=\"text-align: right;\">\n",
              "      <th></th>\n",
              "      <th>est_diameter_min</th>\n",
              "      <th>est_diameter_max</th>\n",
              "      <th>relative_velocity</th>\n",
              "      <th>miss_distance</th>\n",
              "      <th>absolute_magnitude</th>\n",
              "    </tr>\n",
              "  </thead>\n",
              "  <tbody>\n",
              "    <tr>\n",
              "      <th>0</th>\n",
              "      <td>1.198271</td>\n",
              "      <td>2.679415</td>\n",
              "      <td>13569.249224</td>\n",
              "      <td>5.483974e+07</td>\n",
              "      <td>16.73</td>\n",
              "    </tr>\n",
              "    <tr>\n",
              "      <th>1</th>\n",
              "      <td>0.265800</td>\n",
              "      <td>0.594347</td>\n",
              "      <td>73588.726663</td>\n",
              "      <td>6.143813e+07</td>\n",
              "      <td>20.00</td>\n",
              "    </tr>\n",
              "    <tr>\n",
              "      <th>2</th>\n",
              "      <td>0.722030</td>\n",
              "      <td>1.614507</td>\n",
              "      <td>114258.692129</td>\n",
              "      <td>4.979872e+07</td>\n",
              "      <td>17.83</td>\n",
              "    </tr>\n",
              "    <tr>\n",
              "      <th>3</th>\n",
              "      <td>0.096506</td>\n",
              "      <td>0.215794</td>\n",
              "      <td>24764.303138</td>\n",
              "      <td>2.543497e+07</td>\n",
              "      <td>22.20</td>\n",
              "    </tr>\n",
              "    <tr>\n",
              "      <th>4</th>\n",
              "      <td>0.255009</td>\n",
              "      <td>0.570217</td>\n",
              "      <td>42737.733765</td>\n",
              "      <td>4.627557e+07</td>\n",
              "      <td>20.09</td>\n",
              "    </tr>\n",
              "    <tr>\n",
              "      <th>...</th>\n",
              "      <td>...</td>\n",
              "      <td>...</td>\n",
              "      <td>...</td>\n",
              "      <td>...</td>\n",
              "      <td>...</td>\n",
              "    </tr>\n",
              "    <tr>\n",
              "      <th>90831</th>\n",
              "      <td>0.026580</td>\n",
              "      <td>0.059435</td>\n",
              "      <td>52078.886692</td>\n",
              "      <td>1.230039e+07</td>\n",
              "      <td>25.00</td>\n",
              "    </tr>\n",
              "    <tr>\n",
              "      <th>90832</th>\n",
              "      <td>0.016771</td>\n",
              "      <td>0.037501</td>\n",
              "      <td>46114.605073</td>\n",
              "      <td>5.432121e+07</td>\n",
              "      <td>26.00</td>\n",
              "    </tr>\n",
              "    <tr>\n",
              "      <th>90833</th>\n",
              "      <td>0.031956</td>\n",
              "      <td>0.071456</td>\n",
              "      <td>7566.807732</td>\n",
              "      <td>2.840077e+07</td>\n",
              "      <td>24.60</td>\n",
              "    </tr>\n",
              "    <tr>\n",
              "      <th>90834</th>\n",
              "      <td>0.007321</td>\n",
              "      <td>0.016370</td>\n",
              "      <td>69199.154484</td>\n",
              "      <td>6.869206e+07</td>\n",
              "      <td>27.80</td>\n",
              "    </tr>\n",
              "    <tr>\n",
              "      <th>90835</th>\n",
              "      <td>0.039862</td>\n",
              "      <td>0.089133</td>\n",
              "      <td>27024.455553</td>\n",
              "      <td>5.977213e+07</td>\n",
              "      <td>24.12</td>\n",
              "    </tr>\n",
              "  </tbody>\n",
              "</table>\n",
              "<p>90836 rows × 5 columns</p>\n",
              "</div>\n",
              "      <button class=\"colab-df-convert\" onclick=\"convertToInteractive('df-45385260-206f-49f9-87c2-06a12bcfa5ed')\"\n",
              "              title=\"Convert this dataframe to an interactive table.\"\n",
              "              style=\"display:none;\">\n",
              "        \n",
              "  <svg xmlns=\"http://www.w3.org/2000/svg\" height=\"24px\"viewBox=\"0 0 24 24\"\n",
              "       width=\"24px\">\n",
              "    <path d=\"M0 0h24v24H0V0z\" fill=\"none\"/>\n",
              "    <path d=\"M18.56 5.44l.94 2.06.94-2.06 2.06-.94-2.06-.94-.94-2.06-.94 2.06-2.06.94zm-11 1L8.5 8.5l.94-2.06 2.06-.94-2.06-.94L8.5 2.5l-.94 2.06-2.06.94zm10 10l.94 2.06.94-2.06 2.06-.94-2.06-.94-.94-2.06-.94 2.06-2.06.94z\"/><path d=\"M17.41 7.96l-1.37-1.37c-.4-.4-.92-.59-1.43-.59-.52 0-1.04.2-1.43.59L10.3 9.45l-7.72 7.72c-.78.78-.78 2.05 0 2.83L4 21.41c.39.39.9.59 1.41.59.51 0 1.02-.2 1.41-.59l7.78-7.78 2.81-2.81c.8-.78.8-2.07 0-2.86zM5.41 20L4 18.59l7.72-7.72 1.47 1.35L5.41 20z\"/>\n",
              "  </svg>\n",
              "      </button>\n",
              "      \n",
              "  <style>\n",
              "    .colab-df-container {\n",
              "      display:flex;\n",
              "      flex-wrap:wrap;\n",
              "      gap: 12px;\n",
              "    }\n",
              "\n",
              "    .colab-df-convert {\n",
              "      background-color: #E8F0FE;\n",
              "      border: none;\n",
              "      border-radius: 50%;\n",
              "      cursor: pointer;\n",
              "      display: none;\n",
              "      fill: #1967D2;\n",
              "      height: 32px;\n",
              "      padding: 0 0 0 0;\n",
              "      width: 32px;\n",
              "    }\n",
              "\n",
              "    .colab-df-convert:hover {\n",
              "      background-color: #E2EBFA;\n",
              "      box-shadow: 0px 1px 2px rgba(60, 64, 67, 0.3), 0px 1px 3px 1px rgba(60, 64, 67, 0.15);\n",
              "      fill: #174EA6;\n",
              "    }\n",
              "\n",
              "    [theme=dark] .colab-df-convert {\n",
              "      background-color: #3B4455;\n",
              "      fill: #D2E3FC;\n",
              "    }\n",
              "\n",
              "    [theme=dark] .colab-df-convert:hover {\n",
              "      background-color: #434B5C;\n",
              "      box-shadow: 0px 1px 3px 1px rgba(0, 0, 0, 0.15);\n",
              "      filter: drop-shadow(0px 1px 2px rgba(0, 0, 0, 0.3));\n",
              "      fill: #FFFFFF;\n",
              "    }\n",
              "  </style>\n",
              "\n",
              "      <script>\n",
              "        const buttonEl =\n",
              "          document.querySelector('#df-45385260-206f-49f9-87c2-06a12bcfa5ed button.colab-df-convert');\n",
              "        buttonEl.style.display =\n",
              "          google.colab.kernel.accessAllowed ? 'block' : 'none';\n",
              "\n",
              "        async function convertToInteractive(key) {\n",
              "          const element = document.querySelector('#df-45385260-206f-49f9-87c2-06a12bcfa5ed');\n",
              "          const dataTable =\n",
              "            await google.colab.kernel.invokeFunction('convertToInteractive',\n",
              "                                                     [key], {});\n",
              "          if (!dataTable) return;\n",
              "\n",
              "          const docLinkHtml = 'Like what you see? Visit the ' +\n",
              "            '<a target=\"_blank\" href=https://colab.research.google.com/notebooks/data_table.ipynb>data table notebook</a>'\n",
              "            + ' to learn more about interactive tables.';\n",
              "          element.innerHTML = '';\n",
              "          dataTable['output_type'] = 'display_data';\n",
              "          await google.colab.output.renderOutput(dataTable, element);\n",
              "          const docLink = document.createElement('div');\n",
              "          docLink.innerHTML = docLinkHtml;\n",
              "          element.appendChild(docLink);\n",
              "        }\n",
              "      </script>\n",
              "    </div>\n",
              "  </div>\n",
              "  "
            ]
          },
          "metadata": {},
          "execution_count": 121
        }
      ],
      "source": [
        "# independent variables\n",
        "X = df3.drop(['hazardous'], axis=1)\n",
        "\n",
        "# dependent/target variable\n",
        "y = df3.hazardous\n",
        "\n",
        "X_resampled, y_resampled = SMOTE().fit_resample(X, y)\n",
        "\n",
        "X"
      ]
    },
    {
      "cell_type": "code",
      "source": [
        "y"
      ],
      "metadata": {
        "id": "28n4acaIHTot",
        "colab": {
          "base_uri": "https://localhost:8080/"
        },
        "outputId": "5262b702-bdb0-46ae-9861-0c1fc10bb669"
      },
      "execution_count": 122,
      "outputs": [
        {
          "output_type": "execute_result",
          "data": {
            "text/plain": [
              "0        False\n",
              "1         True\n",
              "2        False\n",
              "3        False\n",
              "4         True\n",
              "         ...  \n",
              "90831    False\n",
              "90832    False\n",
              "90833    False\n",
              "90834    False\n",
              "90835    False\n",
              "Name: hazardous, Length: 90836, dtype: bool"
            ]
          },
          "metadata": {},
          "execution_count": 122
        }
      ]
    },
    {
      "cell_type": "code",
      "source": [
        "y.value_counts()"
      ],
      "metadata": {
        "id": "ukYuc32OH9q_",
        "colab": {
          "base_uri": "https://localhost:8080/"
        },
        "outputId": "fc816ac0-82ea-4c20-c1ab-1bf796b8a694"
      },
      "execution_count": 123,
      "outputs": [
        {
          "output_type": "execute_result",
          "data": {
            "text/plain": [
              "False    81996\n",
              "True      8840\n",
              "Name: hazardous, dtype: int64"
            ]
          },
          "metadata": {},
          "execution_count": 123
        }
      ]
    },
    {
      "cell_type": "code",
      "source": [
        "X_resampled"
      ],
      "metadata": {
        "id": "PGSTutkIHUKu",
        "colab": {
          "base_uri": "https://localhost:8080/",
          "height": 488
        },
        "outputId": "06f06639-dfec-450f-ef0f-ea3586830e45"
      },
      "execution_count": 124,
      "outputs": [
        {
          "output_type": "execute_result",
          "data": {
            "text/plain": [
              "        est_diameter_min  est_diameter_max  relative_velocity  miss_distance  \\\n",
              "0               1.198271          2.679415       13569.249224   5.483974e+07   \n",
              "1               0.265800          0.594347       73588.726663   6.143813e+07   \n",
              "2               0.722030          1.614507      114258.692129   4.979872e+07   \n",
              "3               0.096506          0.215794       24764.303138   2.543497e+07   \n",
              "4               0.255009          0.570217       42737.733765   4.627557e+07   \n",
              "...                  ...               ...                ...            ...   \n",
              "163987          0.121098          0.270783       45777.537354   1.988474e+07   \n",
              "163988          0.132144          0.295483       56772.231991   3.364944e+07   \n",
              "163989          0.291447          0.651695      149641.817441   6.008054e+07   \n",
              "163990          0.225351          0.503901       40862.612717   3.797934e+07   \n",
              "163991          0.107944          0.241371       60085.913054   5.522036e+07   \n",
              "\n",
              "        absolute_magnitude  \n",
              "0                16.730000  \n",
              "1                20.000000  \n",
              "2                17.830000  \n",
              "3                22.200000  \n",
              "4                20.090000  \n",
              "...                    ...  \n",
              "163987           21.716985  \n",
              "163988           21.520832  \n",
              "163989           20.044334  \n",
              "163990           20.380502  \n",
              "163991           21.989210  \n",
              "\n",
              "[163992 rows x 5 columns]"
            ],
            "text/html": [
              "\n",
              "  <div id=\"df-d376f143-f0b9-43fa-8e02-3341e561e254\">\n",
              "    <div class=\"colab-df-container\">\n",
              "      <div>\n",
              "<style scoped>\n",
              "    .dataframe tbody tr th:only-of-type {\n",
              "        vertical-align: middle;\n",
              "    }\n",
              "\n",
              "    .dataframe tbody tr th {\n",
              "        vertical-align: top;\n",
              "    }\n",
              "\n",
              "    .dataframe thead th {\n",
              "        text-align: right;\n",
              "    }\n",
              "</style>\n",
              "<table border=\"1\" class=\"dataframe\">\n",
              "  <thead>\n",
              "    <tr style=\"text-align: right;\">\n",
              "      <th></th>\n",
              "      <th>est_diameter_min</th>\n",
              "      <th>est_diameter_max</th>\n",
              "      <th>relative_velocity</th>\n",
              "      <th>miss_distance</th>\n",
              "      <th>absolute_magnitude</th>\n",
              "    </tr>\n",
              "  </thead>\n",
              "  <tbody>\n",
              "    <tr>\n",
              "      <th>0</th>\n",
              "      <td>1.198271</td>\n",
              "      <td>2.679415</td>\n",
              "      <td>13569.249224</td>\n",
              "      <td>5.483974e+07</td>\n",
              "      <td>16.730000</td>\n",
              "    </tr>\n",
              "    <tr>\n",
              "      <th>1</th>\n",
              "      <td>0.265800</td>\n",
              "      <td>0.594347</td>\n",
              "      <td>73588.726663</td>\n",
              "      <td>6.143813e+07</td>\n",
              "      <td>20.000000</td>\n",
              "    </tr>\n",
              "    <tr>\n",
              "      <th>2</th>\n",
              "      <td>0.722030</td>\n",
              "      <td>1.614507</td>\n",
              "      <td>114258.692129</td>\n",
              "      <td>4.979872e+07</td>\n",
              "      <td>17.830000</td>\n",
              "    </tr>\n",
              "    <tr>\n",
              "      <th>3</th>\n",
              "      <td>0.096506</td>\n",
              "      <td>0.215794</td>\n",
              "      <td>24764.303138</td>\n",
              "      <td>2.543497e+07</td>\n",
              "      <td>22.200000</td>\n",
              "    </tr>\n",
              "    <tr>\n",
              "      <th>4</th>\n",
              "      <td>0.255009</td>\n",
              "      <td>0.570217</td>\n",
              "      <td>42737.733765</td>\n",
              "      <td>4.627557e+07</td>\n",
              "      <td>20.090000</td>\n",
              "    </tr>\n",
              "    <tr>\n",
              "      <th>...</th>\n",
              "      <td>...</td>\n",
              "      <td>...</td>\n",
              "      <td>...</td>\n",
              "      <td>...</td>\n",
              "      <td>...</td>\n",
              "    </tr>\n",
              "    <tr>\n",
              "      <th>163987</th>\n",
              "      <td>0.121098</td>\n",
              "      <td>0.270783</td>\n",
              "      <td>45777.537354</td>\n",
              "      <td>1.988474e+07</td>\n",
              "      <td>21.716985</td>\n",
              "    </tr>\n",
              "    <tr>\n",
              "      <th>163988</th>\n",
              "      <td>0.132144</td>\n",
              "      <td>0.295483</td>\n",
              "      <td>56772.231991</td>\n",
              "      <td>3.364944e+07</td>\n",
              "      <td>21.520832</td>\n",
              "    </tr>\n",
              "    <tr>\n",
              "      <th>163989</th>\n",
              "      <td>0.291447</td>\n",
              "      <td>0.651695</td>\n",
              "      <td>149641.817441</td>\n",
              "      <td>6.008054e+07</td>\n",
              "      <td>20.044334</td>\n",
              "    </tr>\n",
              "    <tr>\n",
              "      <th>163990</th>\n",
              "      <td>0.225351</td>\n",
              "      <td>0.503901</td>\n",
              "      <td>40862.612717</td>\n",
              "      <td>3.797934e+07</td>\n",
              "      <td>20.380502</td>\n",
              "    </tr>\n",
              "    <tr>\n",
              "      <th>163991</th>\n",
              "      <td>0.107944</td>\n",
              "      <td>0.241371</td>\n",
              "      <td>60085.913054</td>\n",
              "      <td>5.522036e+07</td>\n",
              "      <td>21.989210</td>\n",
              "    </tr>\n",
              "  </tbody>\n",
              "</table>\n",
              "<p>163992 rows × 5 columns</p>\n",
              "</div>\n",
              "      <button class=\"colab-df-convert\" onclick=\"convertToInteractive('df-d376f143-f0b9-43fa-8e02-3341e561e254')\"\n",
              "              title=\"Convert this dataframe to an interactive table.\"\n",
              "              style=\"display:none;\">\n",
              "        \n",
              "  <svg xmlns=\"http://www.w3.org/2000/svg\" height=\"24px\"viewBox=\"0 0 24 24\"\n",
              "       width=\"24px\">\n",
              "    <path d=\"M0 0h24v24H0V0z\" fill=\"none\"/>\n",
              "    <path d=\"M18.56 5.44l.94 2.06.94-2.06 2.06-.94-2.06-.94-.94-2.06-.94 2.06-2.06.94zm-11 1L8.5 8.5l.94-2.06 2.06-.94-2.06-.94L8.5 2.5l-.94 2.06-2.06.94zm10 10l.94 2.06.94-2.06 2.06-.94-2.06-.94-.94-2.06-.94 2.06-2.06.94z\"/><path d=\"M17.41 7.96l-1.37-1.37c-.4-.4-.92-.59-1.43-.59-.52 0-1.04.2-1.43.59L10.3 9.45l-7.72 7.72c-.78.78-.78 2.05 0 2.83L4 21.41c.39.39.9.59 1.41.59.51 0 1.02-.2 1.41-.59l7.78-7.78 2.81-2.81c.8-.78.8-2.07 0-2.86zM5.41 20L4 18.59l7.72-7.72 1.47 1.35L5.41 20z\"/>\n",
              "  </svg>\n",
              "      </button>\n",
              "      \n",
              "  <style>\n",
              "    .colab-df-container {\n",
              "      display:flex;\n",
              "      flex-wrap:wrap;\n",
              "      gap: 12px;\n",
              "    }\n",
              "\n",
              "    .colab-df-convert {\n",
              "      background-color: #E8F0FE;\n",
              "      border: none;\n",
              "      border-radius: 50%;\n",
              "      cursor: pointer;\n",
              "      display: none;\n",
              "      fill: #1967D2;\n",
              "      height: 32px;\n",
              "      padding: 0 0 0 0;\n",
              "      width: 32px;\n",
              "    }\n",
              "\n",
              "    .colab-df-convert:hover {\n",
              "      background-color: #E2EBFA;\n",
              "      box-shadow: 0px 1px 2px rgba(60, 64, 67, 0.3), 0px 1px 3px 1px rgba(60, 64, 67, 0.15);\n",
              "      fill: #174EA6;\n",
              "    }\n",
              "\n",
              "    [theme=dark] .colab-df-convert {\n",
              "      background-color: #3B4455;\n",
              "      fill: #D2E3FC;\n",
              "    }\n",
              "\n",
              "    [theme=dark] .colab-df-convert:hover {\n",
              "      background-color: #434B5C;\n",
              "      box-shadow: 0px 1px 3px 1px rgba(0, 0, 0, 0.15);\n",
              "      filter: drop-shadow(0px 1px 2px rgba(0, 0, 0, 0.3));\n",
              "      fill: #FFFFFF;\n",
              "    }\n",
              "  </style>\n",
              "\n",
              "      <script>\n",
              "        const buttonEl =\n",
              "          document.querySelector('#df-d376f143-f0b9-43fa-8e02-3341e561e254 button.colab-df-convert');\n",
              "        buttonEl.style.display =\n",
              "          google.colab.kernel.accessAllowed ? 'block' : 'none';\n",
              "\n",
              "        async function convertToInteractive(key) {\n",
              "          const element = document.querySelector('#df-d376f143-f0b9-43fa-8e02-3341e561e254');\n",
              "          const dataTable =\n",
              "            await google.colab.kernel.invokeFunction('convertToInteractive',\n",
              "                                                     [key], {});\n",
              "          if (!dataTable) return;\n",
              "\n",
              "          const docLinkHtml = 'Like what you see? Visit the ' +\n",
              "            '<a target=\"_blank\" href=https://colab.research.google.com/notebooks/data_table.ipynb>data table notebook</a>'\n",
              "            + ' to learn more about interactive tables.';\n",
              "          element.innerHTML = '';\n",
              "          dataTable['output_type'] = 'display_data';\n",
              "          await google.colab.output.renderOutput(dataTable, element);\n",
              "          const docLink = document.createElement('div');\n",
              "          docLink.innerHTML = docLinkHtml;\n",
              "          element.appendChild(docLink);\n",
              "        }\n",
              "      </script>\n",
              "    </div>\n",
              "  </div>\n",
              "  "
            ]
          },
          "metadata": {},
          "execution_count": 124
        }
      ]
    },
    {
      "cell_type": "code",
      "source": [
        "y_resampled"
      ],
      "metadata": {
        "id": "zRL_noWNHVTQ",
        "colab": {
          "base_uri": "https://localhost:8080/"
        },
        "outputId": "8311ed53-5f24-46fe-bfea-01ef1e406697"
      },
      "execution_count": 125,
      "outputs": [
        {
          "output_type": "execute_result",
          "data": {
            "text/plain": [
              "0         False\n",
              "1          True\n",
              "2         False\n",
              "3         False\n",
              "4          True\n",
              "          ...  \n",
              "163987     True\n",
              "163988     True\n",
              "163989     True\n",
              "163990     True\n",
              "163991     True\n",
              "Name: hazardous, Length: 163992, dtype: bool"
            ]
          },
          "metadata": {},
          "execution_count": 125
        }
      ]
    },
    {
      "cell_type": "code",
      "source": [
        "# SMOTE oversampled to equalize the True and False examples\n",
        "y_resampled.value_counts()"
      ],
      "metadata": {
        "id": "SX9xVpKSHg4P",
        "colab": {
          "base_uri": "https://localhost:8080/"
        },
        "outputId": "2e62464b-7d40-45e5-de48-3396db8747a3"
      },
      "execution_count": 126,
      "outputs": [
        {
          "output_type": "execute_result",
          "data": {
            "text/plain": [
              "False    81996\n",
              "True     81996\n",
              "Name: hazardous, dtype: int64"
            ]
          },
          "metadata": {},
          "execution_count": 126
        }
      ]
    },
    {
      "cell_type": "markdown",
      "source": [
        "#### Partitioning the Data"
      ],
      "metadata": {
        "id": "ei6K6FKiX1Sb"
      }
    },
    {
      "cell_type": "code",
      "source": [
        "# divide data into train and test sets\n",
        "X_train, X_test, y_train, y_test = train_test_split(X_resampled, y_resampled, test_size=0.1, random_state=42)"
      ],
      "metadata": {
        "id": "H4AWdM8xJrNQ"
      },
      "execution_count": 127,
      "outputs": []
    },
    {
      "cell_type": "code",
      "source": [
        "X_train"
      ],
      "metadata": {
        "id": "8PbW0qdkKSwk",
        "colab": {
          "base_uri": "https://localhost:8080/",
          "height": 488
        },
        "outputId": "e9bbb867-e495-4cfb-e1f2-e8600058e0fd"
      },
      "execution_count": 128,
      "outputs": [
        {
          "output_type": "execute_result",
          "data": {
            "text/plain": [
              "        est_diameter_min  est_diameter_max  relative_velocity  miss_distance  \\\n",
              "161658          0.161932          0.362090       32109.598746   4.091774e+06   \n",
              "46173           0.175612          0.392681       90392.437456   3.659290e+07   \n",
              "124370          0.176824          0.395391       55612.213514   4.541202e+07   \n",
              "109476          0.133455          0.298415       64758.891875   4.417737e+07   \n",
              "106322          0.164469          0.367765       62829.236945   4.415967e+07   \n",
              "...                  ...               ...                ...            ...   \n",
              "119879          0.150641          0.336843       56174.870454   6.911262e+07   \n",
              "103694          0.263046          0.588188       38232.658186   5.584383e+07   \n",
              "131932          0.240523          0.537825       49406.527768   5.078771e+07   \n",
              "146867          0.144751          0.323674       57207.390840   6.603116e+07   \n",
              "121958          0.498695          1.115116       61512.142952   4.438813e+07   \n",
              "\n",
              "        absolute_magnitude  \n",
              "161658           21.078520  \n",
              "46173            20.900000  \n",
              "124370           21.202415  \n",
              "109476           21.500754  \n",
              "106322           21.103693  \n",
              "...                    ...  \n",
              "119879           21.233575  \n",
              "103694           20.034432  \n",
              "131932           20.251889  \n",
              "146867           21.329456  \n",
              "121958           18.635608  \n",
              "\n",
              "[147592 rows x 5 columns]"
            ],
            "text/html": [
              "\n",
              "  <div id=\"df-8fc466fd-49ce-4cd3-8d92-26d574f49334\">\n",
              "    <div class=\"colab-df-container\">\n",
              "      <div>\n",
              "<style scoped>\n",
              "    .dataframe tbody tr th:only-of-type {\n",
              "        vertical-align: middle;\n",
              "    }\n",
              "\n",
              "    .dataframe tbody tr th {\n",
              "        vertical-align: top;\n",
              "    }\n",
              "\n",
              "    .dataframe thead th {\n",
              "        text-align: right;\n",
              "    }\n",
              "</style>\n",
              "<table border=\"1\" class=\"dataframe\">\n",
              "  <thead>\n",
              "    <tr style=\"text-align: right;\">\n",
              "      <th></th>\n",
              "      <th>est_diameter_min</th>\n",
              "      <th>est_diameter_max</th>\n",
              "      <th>relative_velocity</th>\n",
              "      <th>miss_distance</th>\n",
              "      <th>absolute_magnitude</th>\n",
              "    </tr>\n",
              "  </thead>\n",
              "  <tbody>\n",
              "    <tr>\n",
              "      <th>161658</th>\n",
              "      <td>0.161932</td>\n",
              "      <td>0.362090</td>\n",
              "      <td>32109.598746</td>\n",
              "      <td>4.091774e+06</td>\n",
              "      <td>21.078520</td>\n",
              "    </tr>\n",
              "    <tr>\n",
              "      <th>46173</th>\n",
              "      <td>0.175612</td>\n",
              "      <td>0.392681</td>\n",
              "      <td>90392.437456</td>\n",
              "      <td>3.659290e+07</td>\n",
              "      <td>20.900000</td>\n",
              "    </tr>\n",
              "    <tr>\n",
              "      <th>124370</th>\n",
              "      <td>0.176824</td>\n",
              "      <td>0.395391</td>\n",
              "      <td>55612.213514</td>\n",
              "      <td>4.541202e+07</td>\n",
              "      <td>21.202415</td>\n",
              "    </tr>\n",
              "    <tr>\n",
              "      <th>109476</th>\n",
              "      <td>0.133455</td>\n",
              "      <td>0.298415</td>\n",
              "      <td>64758.891875</td>\n",
              "      <td>4.417737e+07</td>\n",
              "      <td>21.500754</td>\n",
              "    </tr>\n",
              "    <tr>\n",
              "      <th>106322</th>\n",
              "      <td>0.164469</td>\n",
              "      <td>0.367765</td>\n",
              "      <td>62829.236945</td>\n",
              "      <td>4.415967e+07</td>\n",
              "      <td>21.103693</td>\n",
              "    </tr>\n",
              "    <tr>\n",
              "      <th>...</th>\n",
              "      <td>...</td>\n",
              "      <td>...</td>\n",
              "      <td>...</td>\n",
              "      <td>...</td>\n",
              "      <td>...</td>\n",
              "    </tr>\n",
              "    <tr>\n",
              "      <th>119879</th>\n",
              "      <td>0.150641</td>\n",
              "      <td>0.336843</td>\n",
              "      <td>56174.870454</td>\n",
              "      <td>6.911262e+07</td>\n",
              "      <td>21.233575</td>\n",
              "    </tr>\n",
              "    <tr>\n",
              "      <th>103694</th>\n",
              "      <td>0.263046</td>\n",
              "      <td>0.588188</td>\n",
              "      <td>38232.658186</td>\n",
              "      <td>5.584383e+07</td>\n",
              "      <td>20.034432</td>\n",
              "    </tr>\n",
              "    <tr>\n",
              "      <th>131932</th>\n",
              "      <td>0.240523</td>\n",
              "      <td>0.537825</td>\n",
              "      <td>49406.527768</td>\n",
              "      <td>5.078771e+07</td>\n",
              "      <td>20.251889</td>\n",
              "    </tr>\n",
              "    <tr>\n",
              "      <th>146867</th>\n",
              "      <td>0.144751</td>\n",
              "      <td>0.323674</td>\n",
              "      <td>57207.390840</td>\n",
              "      <td>6.603116e+07</td>\n",
              "      <td>21.329456</td>\n",
              "    </tr>\n",
              "    <tr>\n",
              "      <th>121958</th>\n",
              "      <td>0.498695</td>\n",
              "      <td>1.115116</td>\n",
              "      <td>61512.142952</td>\n",
              "      <td>4.438813e+07</td>\n",
              "      <td>18.635608</td>\n",
              "    </tr>\n",
              "  </tbody>\n",
              "</table>\n",
              "<p>147592 rows × 5 columns</p>\n",
              "</div>\n",
              "      <button class=\"colab-df-convert\" onclick=\"convertToInteractive('df-8fc466fd-49ce-4cd3-8d92-26d574f49334')\"\n",
              "              title=\"Convert this dataframe to an interactive table.\"\n",
              "              style=\"display:none;\">\n",
              "        \n",
              "  <svg xmlns=\"http://www.w3.org/2000/svg\" height=\"24px\"viewBox=\"0 0 24 24\"\n",
              "       width=\"24px\">\n",
              "    <path d=\"M0 0h24v24H0V0z\" fill=\"none\"/>\n",
              "    <path d=\"M18.56 5.44l.94 2.06.94-2.06 2.06-.94-2.06-.94-.94-2.06-.94 2.06-2.06.94zm-11 1L8.5 8.5l.94-2.06 2.06-.94-2.06-.94L8.5 2.5l-.94 2.06-2.06.94zm10 10l.94 2.06.94-2.06 2.06-.94-2.06-.94-.94-2.06-.94 2.06-2.06.94z\"/><path d=\"M17.41 7.96l-1.37-1.37c-.4-.4-.92-.59-1.43-.59-.52 0-1.04.2-1.43.59L10.3 9.45l-7.72 7.72c-.78.78-.78 2.05 0 2.83L4 21.41c.39.39.9.59 1.41.59.51 0 1.02-.2 1.41-.59l7.78-7.78 2.81-2.81c.8-.78.8-2.07 0-2.86zM5.41 20L4 18.59l7.72-7.72 1.47 1.35L5.41 20z\"/>\n",
              "  </svg>\n",
              "      </button>\n",
              "      \n",
              "  <style>\n",
              "    .colab-df-container {\n",
              "      display:flex;\n",
              "      flex-wrap:wrap;\n",
              "      gap: 12px;\n",
              "    }\n",
              "\n",
              "    .colab-df-convert {\n",
              "      background-color: #E8F0FE;\n",
              "      border: none;\n",
              "      border-radius: 50%;\n",
              "      cursor: pointer;\n",
              "      display: none;\n",
              "      fill: #1967D2;\n",
              "      height: 32px;\n",
              "      padding: 0 0 0 0;\n",
              "      width: 32px;\n",
              "    }\n",
              "\n",
              "    .colab-df-convert:hover {\n",
              "      background-color: #E2EBFA;\n",
              "      box-shadow: 0px 1px 2px rgba(60, 64, 67, 0.3), 0px 1px 3px 1px rgba(60, 64, 67, 0.15);\n",
              "      fill: #174EA6;\n",
              "    }\n",
              "\n",
              "    [theme=dark] .colab-df-convert {\n",
              "      background-color: #3B4455;\n",
              "      fill: #D2E3FC;\n",
              "    }\n",
              "\n",
              "    [theme=dark] .colab-df-convert:hover {\n",
              "      background-color: #434B5C;\n",
              "      box-shadow: 0px 1px 3px 1px rgba(0, 0, 0, 0.15);\n",
              "      filter: drop-shadow(0px 1px 2px rgba(0, 0, 0, 0.3));\n",
              "      fill: #FFFFFF;\n",
              "    }\n",
              "  </style>\n",
              "\n",
              "      <script>\n",
              "        const buttonEl =\n",
              "          document.querySelector('#df-8fc466fd-49ce-4cd3-8d92-26d574f49334 button.colab-df-convert');\n",
              "        buttonEl.style.display =\n",
              "          google.colab.kernel.accessAllowed ? 'block' : 'none';\n",
              "\n",
              "        async function convertToInteractive(key) {\n",
              "          const element = document.querySelector('#df-8fc466fd-49ce-4cd3-8d92-26d574f49334');\n",
              "          const dataTable =\n",
              "            await google.colab.kernel.invokeFunction('convertToInteractive',\n",
              "                                                     [key], {});\n",
              "          if (!dataTable) return;\n",
              "\n",
              "          const docLinkHtml = 'Like what you see? Visit the ' +\n",
              "            '<a target=\"_blank\" href=https://colab.research.google.com/notebooks/data_table.ipynb>data table notebook</a>'\n",
              "            + ' to learn more about interactive tables.';\n",
              "          element.innerHTML = '';\n",
              "          dataTable['output_type'] = 'display_data';\n",
              "          await google.colab.output.renderOutput(dataTable, element);\n",
              "          const docLink = document.createElement('div');\n",
              "          docLink.innerHTML = docLinkHtml;\n",
              "          element.appendChild(docLink);\n",
              "        }\n",
              "      </script>\n",
              "    </div>\n",
              "  </div>\n",
              "  "
            ]
          },
          "metadata": {},
          "execution_count": 128
        }
      ]
    },
    {
      "cell_type": "code",
      "source": [
        "X_train['miss_distance'].max()"
      ],
      "metadata": {
        "colab": {
          "base_uri": "https://localhost:8080/"
        },
        "id": "ANui_jdgDIwA",
        "outputId": "34d9202a-c011-4a62-cd2b-750628e8c7ed"
      },
      "execution_count": 129,
      "outputs": [
        {
          "output_type": "execute_result",
          "data": {
            "text/plain": [
              "74796547.23847735"
            ]
          },
          "metadata": {},
          "execution_count": 129
        }
      ]
    },
    {
      "cell_type": "code",
      "source": [
        "X_train['miss_distance'].min()"
      ],
      "metadata": {
        "colab": {
          "base_uri": "https://localhost:8080/"
        },
        "id": "afoceSx9DYPb",
        "outputId": "7ec15a36-fd09-4db1-ab97-0c14f0e78bb7"
      },
      "execution_count": 130,
      "outputs": [
        {
          "output_type": "execute_result",
          "data": {
            "text/plain": [
              "6745.532515957"
            ]
          },
          "metadata": {},
          "execution_count": 130
        }
      ]
    },
    {
      "cell_type": "code",
      "source": [
        "X_test.shape"
      ],
      "metadata": {
        "id": "VivU9g3IKXft",
        "colab": {
          "base_uri": "https://localhost:8080/"
        },
        "outputId": "ad8dce03-4551-4795-d37e-8565624fa3c3"
      },
      "execution_count": 131,
      "outputs": [
        {
          "output_type": "execute_result",
          "data": {
            "text/plain": [
              "(16400, 5)"
            ]
          },
          "metadata": {},
          "execution_count": 131
        }
      ]
    },
    {
      "cell_type": "code",
      "source": [
        "y_train.shape"
      ],
      "metadata": {
        "id": "UYcxpZ8HKY4g",
        "colab": {
          "base_uri": "https://localhost:8080/"
        },
        "outputId": "dc0207c6-3f38-4a95-ff0f-0ae54acf1866"
      },
      "execution_count": 132,
      "outputs": [
        {
          "output_type": "execute_result",
          "data": {
            "text/plain": [
              "(147592,)"
            ]
          },
          "metadata": {},
          "execution_count": 132
        }
      ]
    },
    {
      "cell_type": "code",
      "source": [
        "y_test.shape"
      ],
      "metadata": {
        "id": "osYf2TWBKaZN",
        "colab": {
          "base_uri": "https://localhost:8080/"
        },
        "outputId": "02bc41a5-5b1e-4757-a3bc-bcaa553c686e"
      },
      "execution_count": 133,
      "outputs": [
        {
          "output_type": "execute_result",
          "data": {
            "text/plain": [
              "(16400,)"
            ]
          },
          "metadata": {},
          "execution_count": 133
        }
      ]
    },
    {
      "cell_type": "markdown",
      "metadata": {
        "id": "Ft6jA90Aenxr",
        "papermill": {
          "duration": 0.081376,
          "end_time": "2022-01-13T11:51:10.042426",
          "exception": false,
          "start_time": "2022-01-13T11:51:09.961050",
          "status": "completed"
        },
        "tags": []
      },
      "source": [
        "#### Feature Scaling"
      ]
    },
    {
      "cell_type": "markdown",
      "metadata": {
        "id": "Ywjx1i-9esCm",
        "papermill": {
          "duration": 0.082553,
          "end_time": "2022-01-13T11:51:10.207024",
          "exception": false,
          "start_time": "2022-01-13T11:51:10.124471",
          "status": "completed"
        },
        "tags": []
      },
      "source": [
        "In this step we scale features to appropriate values for this model to use. I initially used a Normalizer to scale the data between 0 and 1. When it did this, it normalized all of the values together. This meant features with larger values, such as miss_distance, dominated the normalization and unfairly skewed the data for features with smaller values, such as est_diameter_min and est_diameter_max.\n",
        "\n",
        "This was resolved by using a [StandardScalar](https://stackoverflow.com/questions/40758562/can-anyone-explain-me-standardscaler). It normalizes each feature individually such that each feature has μ = 0 (removed mean) and σ = 1 (unit variance). Doing this removes concerns of values in one feature influencing how other features' values are normalized."
      ]
    },
    {
      "cell_type": "code",
      "execution_count": 134,
      "metadata": {
        "id": "bPvL__JgjOuK"
      },
      "outputs": [],
      "source": [
        "# old approach\n",
        "# scale the data between 0 and 1\n",
        "# transformer = Normalizer(norm='max').fit(X_train)\n",
        "# X_train = transformer.transform(X_train)\n",
        "# X_test = transformer.transform(X_test)\n",
        "\n",
        "# current approach\n",
        "# normalize the data so each feature has μ = 0 and σ = 1\n",
        "scaler = StandardScaler()\n",
        "X_train = scaler.fit_transform(X_train)\n",
        "X_test = scaler.fit_transform(X_test)"
      ]
    },
    {
      "cell_type": "code",
      "source": [
        "X_train"
      ],
      "metadata": {
        "colab": {
          "base_uri": "https://localhost:8080/"
        },
        "id": "cQWPuWwPH7Py",
        "outputId": "034da7e1-08ed-40ee-9067-40b234a9c2a3"
      },
      "execution_count": 135,
      "outputs": [
        {
          "output_type": "execute_result",
          "data": {
            "text/plain": [
              "array([[-0.13373382, -0.13373382, -0.86752425, -1.56671594, -0.36665249],\n",
              "       [-0.08616035, -0.08616035,  1.43361346, -0.07979675, -0.43093684],\n",
              "       [-0.08194655, -0.08194655,  0.0604119 ,  0.32367598, -0.32203868],\n",
              "       ...,\n",
              "       [ 0.1395615 ,  0.1395615 , -0.18460254,  0.56961267, -0.66431874],\n",
              "       [-0.19347749, -0.19347749,  0.12339309,  1.2669972 , -0.27629176],\n",
              "       [ 1.03734157,  1.03734157,  0.2933544 ,  0.27683336, -1.24633423]])"
            ]
          },
          "metadata": {},
          "execution_count": 135
        }
      ]
    },
    {
      "cell_type": "code",
      "source": [
        "X_train[:,3].max()"
      ],
      "metadata": {
        "colab": {
          "base_uri": "https://localhost:8080/"
        },
        "id": "hVzs2humdabT",
        "outputId": "f0d7d68c-1831-4031-f889-d19cce3c9a5d"
      },
      "execution_count": 136,
      "outputs": [
        {
          "output_type": "execute_result",
          "data": {
            "text/plain": [
              "1.6680118334953222"
            ]
          },
          "metadata": {},
          "execution_count": 136
        }
      ]
    },
    {
      "cell_type": "code",
      "source": [
        "X_train[:,3].min()"
      ],
      "metadata": {
        "colab": {
          "base_uri": "https://localhost:8080/"
        },
        "id": "YXte94YsdeKi",
        "outputId": "991435fe-988e-44b5-baba-12645a55b213"
      },
      "execution_count": 137,
      "outputs": [
        {
          "output_type": "execute_result",
          "data": {
            "text/plain": [
              "-1.753605070426833"
            ]
          },
          "metadata": {},
          "execution_count": 137
        }
      ]
    },
    {
      "cell_type": "code",
      "source": [
        "X_test"
      ],
      "metadata": {
        "colab": {
          "base_uri": "https://localhost:8080/"
        },
        "id": "6OIEa_yaH9Pa",
        "outputId": "d0868aa2-6a18-4ba7-b50e-1e0259ac67d5"
      },
      "execution_count": 138,
      "outputs": [
        {
          "output_type": "execute_result",
          "data": {
            "text/plain": [
              "array([[ 0.05444063,  0.05444063,  0.06452461, -0.05443451, -0.59148494],\n",
              "       [-0.7447963 , -0.7447963 , -1.13876138, -1.39277011,  2.33340652],\n",
              "       [ 0.33658048,  0.33658048, -0.62653319, -0.46408428, -0.81071211],\n",
              "       ...,\n",
              "       [ 0.91885472,  0.91885472, -0.01625343, -0.05243348, -1.00198585],\n",
              "       [-0.22601303, -0.22601303,  0.63725163, -1.27157001, -0.26444333],\n",
              "       [ 0.54562814,  0.54562814,  0.40980735, -0.48077543, -0.52324917]])"
            ]
          },
          "metadata": {},
          "execution_count": 138
        }
      ]
    },
    {
      "cell_type": "markdown",
      "metadata": {
        "id": "OR0RJnFPjOuK"
      },
      "source": [
        "### Logistic Regression sklearn\n",
        "This section uses the logistic regression function implemented in sklearn. This is purely for reference to what potential performance could be obtained."
      ]
    },
    {
      "cell_type": "code",
      "execution_count": 139,
      "metadata": {
        "id": "d7-5SXSEjOuK"
      },
      "outputs": [],
      "source": [
        "# define the model\n",
        "lrg = LogisticRegression(class_weight='balanced', random_state=0)"
      ]
    },
    {
      "cell_type": "code",
      "execution_count": 140,
      "metadata": {
        "id": "DjAmr7RFjOuK",
        "colab": {
          "base_uri": "https://localhost:8080/"
        },
        "outputId": "693d3aa6-4030-4463-9576-9c3d862e2600"
      },
      "outputs": [
        {
          "output_type": "execute_result",
          "data": {
            "text/plain": [
              "LogisticRegression(class_weight='balanced', random_state=0)"
            ]
          },
          "metadata": {},
          "execution_count": 140
        }
      ],
      "source": [
        "# train the model\n",
        "lrg.fit(X_train, y_train)"
      ]
    },
    {
      "cell_type": "code",
      "execution_count": 141,
      "metadata": {
        "id": "xJLtchASjOuL"
      },
      "outputs": [],
      "source": [
        "# predict the result using the trained model\n",
        "y_pred_lrg = lrg.predict(X_test)"
      ]
    },
    {
      "cell_type": "code",
      "execution_count": 142,
      "metadata": {
        "id": "4zLOsylnjOuL",
        "colab": {
          "base_uri": "https://localhost:8080/"
        },
        "outputId": "f37e86e0-f415-4c9d-b55b-c7b36dc93cc6"
      },
      "outputs": [
        {
          "output_type": "execute_result",
          "data": {
            "text/plain": [
              "0.8616463414634147"
            ]
          },
          "metadata": {},
          "execution_count": 142
        }
      ],
      "source": [
        "# overall acuracy of the model\n",
        "accuracy_score(y_test, y_pred_lrg)"
      ]
    },
    {
      "cell_type": "code",
      "execution_count": 143,
      "metadata": {
        "id": "Iu5lhYu6jOuL",
        "colab": {
          "base_uri": "https://localhost:8080/"
        },
        "outputId": "23d4c39a-870d-4903-b761-9440327ff3c1"
      },
      "outputs": [
        {
          "output_type": "execute_result",
          "data": {
            "text/plain": [
              "0.8729634398969822"
            ]
          },
          "metadata": {},
          "execution_count": 143
        }
      ],
      "source": [
        "# f1 score of the model\n",
        "f1_score(y_test, y_pred_lrg)"
      ]
    },
    {
      "cell_type": "code",
      "source": [
        "y_train"
      ],
      "metadata": {
        "id": "P-97dmulfllX",
        "colab": {
          "base_uri": "https://localhost:8080/"
        },
        "outputId": "69e795f4-7af3-4ee1-e98f-9a1ec5726371"
      },
      "execution_count": 144,
      "outputs": [
        {
          "output_type": "execute_result",
          "data": {
            "text/plain": [
              "161658     True\n",
              "46173     False\n",
              "124370     True\n",
              "109476     True\n",
              "106322     True\n",
              "          ...  \n",
              "119879     True\n",
              "103694     True\n",
              "131932     True\n",
              "146867     True\n",
              "121958     True\n",
              "Name: hazardous, Length: 147592, dtype: bool"
            ]
          },
          "metadata": {},
          "execution_count": 144
        }
      ]
    },
    {
      "cell_type": "code",
      "source": [
        "X_train.shape"
      ],
      "metadata": {
        "id": "x77F9--ZoPYp",
        "colab": {
          "base_uri": "https://localhost:8080/"
        },
        "outputId": "5fdbab77-8a8a-4428-ab3b-6d35e7e8d4fe"
      },
      "execution_count": 145,
      "outputs": [
        {
          "output_type": "execute_result",
          "data": {
            "text/plain": [
              "(147592, 5)"
            ]
          },
          "metadata": {},
          "execution_count": 145
        }
      ]
    },
    {
      "cell_type": "code",
      "source": [
        "X_train.shape[0]"
      ],
      "metadata": {
        "id": "gw3MnTXDo2C1",
        "colab": {
          "base_uri": "https://localhost:8080/"
        },
        "outputId": "10f0d2c4-52d9-4609-af57-81fc7b034dbd"
      },
      "execution_count": 146,
      "outputs": [
        {
          "output_type": "execute_result",
          "data": {
            "text/plain": [
              "147592"
            ]
          },
          "metadata": {},
          "execution_count": 146
        }
      ]
    },
    {
      "cell_type": "markdown",
      "source": [
        "### Logistic Regression Implementation"
      ],
      "metadata": {
        "id": "bboctjwUM4Aw"
      }
    },
    {
      "cell_type": "code",
      "source": [
        "def sigmoid(z):\n",
        "  # activation function\n",
        "  return 1 / (1 + np.exp(-1 * z))"
      ],
      "metadata": {
        "id": "VFpS5m4APLBK"
      },
      "execution_count": 147,
      "outputs": []
    },
    {
      "cell_type": "code",
      "source": [
        "def gradientDescent(X, Y, w, b, n):\n",
        "  # calculate A, the cost function, and the partial derivatives\n",
        "  A = sigmoid(np.dot(w.T,X.T) + b)\n",
        "  minimum = 0.00000001\n",
        "  # we clamp to prevent infinity from showing up in\n",
        "  # gradient descent's early steps\n",
        "  A = np.clip(A, minimum, 1 - minimum)\n",
        "  cost = -1/n * np.sum(Y * np.log(A) + (1-Y) * (np.log(1-A)))\n",
        "  dw = np.dot(X.T, (A-Y).T)/n\n",
        "  db = np.sum(A-Y)/n\n",
        "  return A, cost, dw, db"
      ],
      "metadata": {
        "id": "3GnwbwCjOBsZ"
      },
      "execution_count": 148,
      "outputs": []
    },
    {
      "cell_type": "code",
      "source": [
        "def gradDescend(dw, db, w, b):\n",
        "  # standard update step\n",
        "  # adjust default update learning rate here\n",
        "  learning_rate = 0.01\n",
        "  \n",
        "  w = w - learning_rate * dw\n",
        "  b = b - learning_rate * db\n",
        "  return w, b"
      ],
      "metadata": {
        "id": "zJmypzxW8ss0"
      },
      "execution_count": 149,
      "outputs": []
    },
    {
      "cell_type": "code",
      "source": [
        "def adaGrad(dw, db, v_w, v_b, w, b):\n",
        "  # Adagrad update step\n",
        "  epsilon = 1e-8\n",
        "  # adjust Adagrad learning rate here\n",
        "  learning_rate = 0.01\n",
        "\n",
        "  v_w = v_w + dw**2\n",
        "  v_b = v_b + db**2\n",
        "\n",
        "  w = w - (learning_rate / np.sqrt(v_w + epsilon)) * dw\n",
        "  b = b - (learning_rate / np.sqrt(v_b + epsilon)) * db\n",
        "  \n",
        "  return w, b, v_w, v_b"
      ],
      "metadata": {
        "id": "4m34gqUO4-s1"
      },
      "execution_count": 150,
      "outputs": []
    },
    {
      "cell_type": "code",
      "source": [
        "def rmsProp(dw, db, v_w, v_b, w, b):\n",
        "  # RMSprop update step\n",
        "  epsilon = 1e-8\n",
        "  beta = 0.9\n",
        "  # adjust RMSprop learning rate here\n",
        "  learning_rate = 0.01\n",
        "\n",
        "  v_w = beta * v_w + (1 - beta) * dw**2\n",
        "  v_b = beta * v_b + (1 - beta) * db**2\n",
        "\n",
        "  w = w - (learning_rate / np.sqrt(v_w + epsilon)) * dw\n",
        "  b = b - (learning_rate / np.sqrt(v_b + epsilon)) * db\n",
        "\n",
        "  return w, b, v_w, v_b"
      ],
      "metadata": {
        "id": "9qVdnFSm3wnx"
      },
      "execution_count": 151,
      "outputs": []
    },
    {
      "cell_type": "code",
      "source": [
        "def gradUpdate(X, y, w, b, n, t, listIters, listCost):\n",
        "  # update user with information on recent information\n",
        "  # prepare for updating\n",
        "  A, cost, dw, db = gradientDescent(X, y, w, b, n)\n",
        "  if t % 100 == 0:\n",
        "    # collect iteration and cost for display in a line graph\n",
        "    listIters.append(t)\n",
        "    listCost.append(cost)\n",
        "    print('Iteration: ', t, ', Cost: ', cost)\n",
        "  return dw, db"
      ],
      "metadata": {
        "id": "TD1poi4j8Ooe"
      },
      "execution_count": 152,
      "outputs": []
    },
    {
      "cell_type": "code",
      "source": [
        "def permutate(a1, a2):\n",
        "  # Generates a shuffled combination of a1 and a2, which are two separate arrays \n",
        "  p = np.random.permutation(len(a2))\n",
        "  return a1[p], a2[p]"
      ],
      "metadata": {
        "id": "WpNdodlfenKY"
      },
      "execution_count": 153,
      "outputs": []
    },
    {
      "cell_type": "code",
      "source": [
        "def logisticRegression(X, y, gdType, opType):\n",
        "  # calculate weights and bias based on aa linear model\n",
        "  # wrapped in an activation function\n",
        "  # set up key variables\n",
        "  w = np.ones((X.shape[1],1))\n",
        "  b = 0.0\n",
        "  n = X.shape[0]\n",
        "  t = 0\n",
        "  max_t = 0\n",
        "  if gdType == 1:\n",
        "    # stochastic gradient descent\n",
        "    max_t = 20000\n",
        "  else:\n",
        "    # batch gradient descent\n",
        "    max_t = 4000\n",
        "  listIters = []\n",
        "  listCost = []\n",
        "  m_w = 0.0\n",
        "  m_b = 0.0\n",
        "  v_w = 0.0\n",
        "  v_b = 0.0\n",
        "\n",
        "  while t <= max_t:\n",
        "    # 1) Calculate the cost and the gradient for the current parameters.\n",
        "    dw = 0.0\n",
        "    db = 0.0\n",
        "\n",
        "    if gdType == 0:\n",
        "      # batch gradient descent\n",
        "      dw, db = gradUpdate(X, y, w, b, n, t, listIters, listCost)\n",
        "    elif gdType == 1:\n",
        "      # stochastic gradient descent\n",
        "      X_perm, y_perm = permutate(X, y)\n",
        "      X_example = np.reshape(X_perm[0], (-1, 1))\n",
        "      y_example = np.reshape(y_perm[0], (-1, 1))\n",
        "      n = 1\n",
        "      dw, db = gradUpdate(X_example.T, y_example, w, b, n, t, listIters,\n",
        "                          listCost)\n",
        "    \n",
        "    # 2) Update the parameters using gradient descent rule for w and b.\n",
        "    if opType == 0:\n",
        "      # default update step\n",
        "      w, b = gradDescend(dw, db, w, b)\n",
        "    elif opType == 1:\n",
        "      # Adagrad optimization algorithm\n",
        "      w, b, v_w, v_b = adaGrad(dw, db, v_w, v_b, w, b)\n",
        "    elif opType == 2:\n",
        "      # RMSprop optimization algorithm\n",
        "      w, b, v_w, v_b = rmsProp(dw, db, v_w, v_b, w, b)\n",
        "\n",
        "    t += 1\n",
        "  # show cost function plot\n",
        "  plt.plot(listIters, listCost)\n",
        "  plt.show()\n",
        "  plt.close()\n",
        "  return w, b"
      ],
      "metadata": {
        "id": "CyT-o6jsXmLP"
      },
      "execution_count": 192,
      "outputs": []
    },
    {
      "cell_type": "code",
      "source": [
        "def predict(w, b, X):\n",
        "  # use calculated weights and bias to predict labels for test dataset\n",
        "  Yhat = (sigmoid(np.dot(w.T, X.T) + b)).T\n",
        "  predictions = []\n",
        "  for entry in Yhat:\n",
        "    if entry <= 0.5:\n",
        "      # asteroid is not hazardous\n",
        "      predictions.append(0)\n",
        "    elif entry > 0.5:\n",
        "      # asteroid is hazardous\n",
        "      predictions.append(1)\n",
        "  \n",
        "  predictArr = np.array(predictions)\n",
        "  return predictArr"
      ],
      "metadata": {
        "id": "5KRNxzuRAYWt"
      },
      "execution_count": 155,
      "outputs": []
    },
    {
      "cell_type": "code",
      "source": [
        "# convert to numpy-friendly format\n",
        "y_train = y_train.to_numpy().astype(int)"
      ],
      "metadata": {
        "id": "O2z9koyqV0Vj"
      },
      "execution_count": 156,
      "outputs": []
    },
    {
      "cell_type": "code",
      "source": [
        "# convert to numpy-friendly format\n",
        "y_test = y_test.to_numpy().astype(int)"
      ],
      "metadata": {
        "id": "mLOXK2yRdmXL"
      },
      "execution_count": 157,
      "outputs": []
    },
    {
      "cell_type": "markdown",
      "source": [
        "### Batch Gradient Descent"
      ],
      "metadata": {
        "id": "JyjXCNFsNLml"
      }
    },
    {
      "cell_type": "code",
      "source": [
        "X_train.shape"
      ],
      "metadata": {
        "colab": {
          "base_uri": "https://localhost:8080/"
        },
        "id": "D7eZqsvMe7cO",
        "outputId": "0e0beeab-6ace-46eb-83c8-b1a6c016e64c"
      },
      "execution_count": 158,
      "outputs": [
        {
          "output_type": "execute_result",
          "data": {
            "text/plain": [
              "(147592, 5)"
            ]
          },
          "metadata": {},
          "execution_count": 158
        }
      ]
    },
    {
      "cell_type": "code",
      "source": [
        "y_train.shape"
      ],
      "metadata": {
        "colab": {
          "base_uri": "https://localhost:8080/"
        },
        "id": "ith9EMwPe6Gs",
        "outputId": "fecf3879-a99f-484b-8500-1be61cf1297e"
      },
      "execution_count": 159,
      "outputs": [
        {
          "output_type": "execute_result",
          "data": {
            "text/plain": [
              "(147592,)"
            ]
          },
          "metadata": {},
          "execution_count": 159
        }
      ]
    },
    {
      "cell_type": "code",
      "source": [
        "X_train"
      ],
      "metadata": {
        "colab": {
          "base_uri": "https://localhost:8080/"
        },
        "id": "cgydumCTfI5A",
        "outputId": "335b2be0-4c4b-46f8-d39e-08394acbd540"
      },
      "execution_count": 160,
      "outputs": [
        {
          "output_type": "execute_result",
          "data": {
            "text/plain": [
              "array([[-0.13373382, -0.13373382, -0.86752425, -1.56671594, -0.36665249],\n",
              "       [-0.08616035, -0.08616035,  1.43361346, -0.07979675, -0.43093684],\n",
              "       [-0.08194655, -0.08194655,  0.0604119 ,  0.32367598, -0.32203868],\n",
              "       ...,\n",
              "       [ 0.1395615 ,  0.1395615 , -0.18460254,  0.56961267, -0.66431874],\n",
              "       [-0.19347749, -0.19347749,  0.12339309,  1.2669972 , -0.27629176],\n",
              "       [ 1.03734157,  1.03734157,  0.2933544 ,  0.27683336, -1.24633423]])"
            ]
          },
          "metadata": {},
          "execution_count": 160
        }
      ]
    },
    {
      "cell_type": "code",
      "source": [
        "kj, jk = permutate(X_train, y_train)"
      ],
      "metadata": {
        "id": "hFpS8DUsfKxh"
      },
      "execution_count": 161,
      "outputs": []
    },
    {
      "cell_type": "code",
      "source": [
        "kj"
      ],
      "metadata": {
        "colab": {
          "base_uri": "https://localhost:8080/"
        },
        "id": "FpByY2gNfs07",
        "outputId": "c5a7452c-e63a-43b6-cfae-f11c69c7442c"
      },
      "execution_count": 162,
      "outputs": [
        {
          "output_type": "execute_result",
          "data": {
            "text/plain": [
              "array([[-0.52071957, -0.52071957,  0.89214091,  1.07780559,  0.54132087],\n",
              "       [ 3.66437183,  3.66437183,  0.57030989,  1.59420561, -1.96756082],\n",
              "       [ 1.04360291,  1.04360291, -0.86194918,  0.07537081, -0.66886884],\n",
              "       ...,\n",
              "       [ 0.36440115,  0.36440115, -0.50581238,  0.61943409, -0.86305137],\n",
              "       [ 0.84442275,  0.84442275, -0.61274948, -0.0708779 , -1.15068183],\n",
              "       [-0.20054412, -0.20054412, -0.45352436,  0.44681804, -0.25922209]])"
            ]
          },
          "metadata": {},
          "execution_count": 162
        }
      ]
    },
    {
      "cell_type": "code",
      "source": [
        "y_train.shape[0]"
      ],
      "metadata": {
        "colab": {
          "base_uri": "https://localhost:8080/"
        },
        "id": "XU30285Ofyva",
        "outputId": "67d85b7d-cf0e-411c-89e2-91e47f40e20f"
      },
      "execution_count": 163,
      "outputs": [
        {
          "output_type": "execute_result",
          "data": {
            "text/plain": [
              "147592"
            ]
          },
          "metadata": {},
          "execution_count": 163
        }
      ]
    },
    {
      "cell_type": "code",
      "execution_count": 164,
      "metadata": {
        "id": "csqR9m4WjOuO",
        "colab": {
          "base_uri": "https://localhost:8080/",
          "height": 1000
        },
        "outputId": "9b3f9770-2fe0-41a8-8356-daa076a1a9ba"
      },
      "outputs": [
        {
          "output_type": "stream",
          "name": "stdout",
          "text": [
            "Iteration:  0 , Cost:  0.8684696126057012\n",
            "Iteration:  100 , Cost:  0.7860814584466127\n",
            "Iteration:  200 , Cost:  0.7229858165437804\n",
            "Iteration:  300 , Cost:  0.675138977431102\n",
            "Iteration:  400 , Cost:  0.6389841101445474\n",
            "Iteration:  500 , Cost:  0.6115684420804196\n",
            "Iteration:  600 , Cost:  0.5905817015252219\n",
            "Iteration:  700 , Cost:  0.5742801670054205\n",
            "Iteration:  800 , Cost:  0.5613848685029748\n",
            "Iteration:  900 , Cost:  0.5509718082266092\n",
            "Iteration:  1000 , Cost:  0.5423802003442835\n",
            "Iteration:  1100 , Cost:  0.5351317015966286\n",
            "Iteration:  1200 , Cost:  0.528889081503921\n",
            "Iteration:  1300 , Cost:  0.5234082007686597\n",
            "Iteration:  1400 , Cost:  0.5185082668868783\n",
            "Iteration:  1500 , Cost:  0.5140512874144892\n",
            "Iteration:  1600 , Cost:  0.5099390252915661\n",
            "Iteration:  1700 , Cost:  0.506102421543801\n",
            "Iteration:  1800 , Cost:  0.5024902034484111\n",
            "Iteration:  1900 , Cost:  0.49905121747992287\n",
            "Iteration:  2000 , Cost:  0.4957521988492838\n",
            "Iteration:  2100 , Cost:  0.49257419198199154\n",
            "Iteration:  2200 , Cost:  0.48949044543180353\n",
            "Iteration:  2300 , Cost:  0.4864978389670406\n",
            "Iteration:  2400 , Cost:  0.483570541921696\n",
            "Iteration:  2500 , Cost:  0.48071765885984113\n",
            "Iteration:  2600 , Cost:  0.4779319006671616\n",
            "Iteration:  2700 , Cost:  0.475205487608058\n",
            "Iteration:  2800 , Cost:  0.4725225741690404\n",
            "Iteration:  2900 , Cost:  0.4698940227511929\n",
            "Iteration:  3000 , Cost:  0.46730215047357615\n",
            "Iteration:  3100 , Cost:  0.464761973728513\n",
            "Iteration:  3200 , Cost:  0.46227038558365996\n",
            "Iteration:  3300 , Cost:  0.4598232920451408\n",
            "Iteration:  3400 , Cost:  0.45741877325424907\n",
            "Iteration:  3500 , Cost:  0.4550614066951987\n",
            "Iteration:  3600 , Cost:  0.45275063428913975\n",
            "Iteration:  3700 , Cost:  0.45048607405770297\n",
            "Iteration:  3800 , Cost:  0.44825373859708517\n",
            "Iteration:  3900 , Cost:  0.4460578052751535\n",
            "Iteration:  4000 , Cost:  0.4438994872789746\n"
          ]
        },
        {
          "output_type": "display_data",
          "data": {
            "text/plain": [
              "<Figure size 432x288 with 1 Axes>"
            ],
            "image/png": "[encoded data removed]"
          },
          "metadata": {
            "needs_background": "light"
          }
        }
      ],
      "source": [
        "# train the model\n",
        "w, b = logisticRegression(X_train, y_train, 0, 0)"
      ]
    },
    {
      "cell_type": "code",
      "source": [
        "# predict the result using the trained model\n",
        "y_pred_lrg = predict(w, b, X_test)"
      ],
      "metadata": {
        "id": "Stb9ak1LBKGq"
      },
      "execution_count": 165,
      "outputs": []
    },
    {
      "cell_type": "code",
      "source": [
        "# overall acuracy of the model\n",
        "accuracy_score(y_test, y_pred_lrg)"
      ],
      "metadata": {
        "id": "IKwXoKWkjzLL",
        "colab": {
          "base_uri": "https://localhost:8080/"
        },
        "outputId": "0f603757-bcb6-4aa6-bc20-121a69759838"
      },
      "execution_count": 166,
      "outputs": [
        {
          "output_type": "execute_result",
          "data": {
            "text/plain": [
              "0.8566463414634147"
            ]
          },
          "metadata": {},
          "execution_count": 166
        }
      ]
    },
    {
      "cell_type": "code",
      "source": [
        "# f1 score of the model\n",
        "f1_score(y_test, y_pred_lrg)"
      ],
      "metadata": {
        "id": "IiBZ2UcIBWNt",
        "colab": {
          "base_uri": "https://localhost:8080/"
        },
        "outputId": "fc8a892b-d84b-4c4c-c1a7-92005200565e"
      },
      "execution_count": 167,
      "outputs": [
        {
          "output_type": "execute_result",
          "data": {
            "text/plain": [
              "0.8670324076692495"
            ]
          },
          "metadata": {},
          "execution_count": 167
        }
      ]
    },
    {
      "cell_type": "markdown",
      "source": [
        "### Stochastic Gradient Descent"
      ],
      "metadata": {
        "id": "2WmvBUU03A70"
      }
    },
    {
      "cell_type": "code",
      "source": [
        "X_train.shape"
      ],
      "metadata": {
        "colab": {
          "base_uri": "https://localhost:8080/"
        },
        "id": "wQQJW-jS_boU",
        "outputId": "2d5b1b1e-6651-4736-a95d-1e16417c7c86"
      },
      "execution_count": 168,
      "outputs": [
        {
          "output_type": "execute_result",
          "data": {
            "text/plain": [
              "(147592, 5)"
            ]
          },
          "metadata": {},
          "execution_count": 168
        }
      ]
    },
    {
      "cell_type": "code",
      "source": [
        "X_perm, y_perm = permutate(X_train, y_train)\n",
        "X_example = np.reshape(X_perm[0], (-1, 1))\n",
        "y_example = np.reshape(y_perm[0], (-1, 1))"
      ],
      "metadata": {
        "id": "n6ntO9pjCY49"
      },
      "execution_count": 169,
      "outputs": []
    },
    {
      "cell_type": "code",
      "source": [
        "X_example.shape"
      ],
      "metadata": {
        "colab": {
          "base_uri": "https://localhost:8080/"
        },
        "id": "rqIj66WjCgKD",
        "outputId": "11284531-b8e0-47ec-d871-0954891d5927"
      },
      "execution_count": 170,
      "outputs": [
        {
          "output_type": "execute_result",
          "data": {
            "text/plain": [
              "(5, 1)"
            ]
          },
          "metadata": {},
          "execution_count": 170
        }
      ]
    },
    {
      "cell_type": "code",
      "source": [
        "# train the model\n",
        "w_sgd, b_sgd = logisticRegression(X_train, y_train, 1, 0)"
      ],
      "metadata": {
        "colab": {
          "base_uri": "https://localhost:8080/",
          "height": 1000
        },
        "id": "IcjYb97ja90S",
        "outputId": "299939da-1fe1-4980-b389-2367f90eeb14"
      },
      "execution_count": 197,
      "outputs": [
        {
          "output_type": "stream",
          "name": "stdout",
          "text": [
            "Iteration:  0 , Cost:  0.19089795368053772\n",
            "Iteration:  100 , Cost:  1.9081462781125158\n",
            "Iteration:  200 , Cost:  1.7193880346338615\n",
            "Iteration:  300 , Cost:  0.008841222431959218\n",
            "Iteration:  400 , Cost:  0.6951887727904371\n",
            "Iteration:  500 , Cost:  0.00044182850335515493\n",
            "Iteration:  600 , Cost:  0.7449515539666287\n",
            "Iteration:  700 , Cost:  0.2498945287461088\n",
            "Iteration:  800 , Cost:  0.11092757698097527\n",
            "Iteration:  900 , Cost:  0.40341954036518574\n",
            "Iteration:  1000 , Cost:  0.4468234912990277\n",
            "Iteration:  1100 , Cost:  0.14239286244877833\n",
            "Iteration:  1200 , Cost:  0.7411183512868641\n",
            "Iteration:  1300 , Cost:  0.09004580686825386\n",
            "Iteration:  1400 , Cost:  0.6124455641736877\n",
            "Iteration:  1500 , Cost:  0.3560606590456311\n",
            "Iteration:  1600 , Cost:  0.8056428639572406\n",
            "Iteration:  1700 , Cost:  0.7391255736945362\n",
            "Iteration:  1800 , Cost:  0.022987194632980774\n",
            "Iteration:  1900 , Cost:  0.4134065168393073\n",
            "Iteration:  2000 , Cost:  0.6585333013136417\n",
            "Iteration:  2100 , Cost:  0.31030400332830504\n",
            "Iteration:  2200 , Cost:  0.04203088920313981\n",
            "Iteration:  2300 , Cost:  0.41996749267562844\n",
            "Iteration:  2400 , Cost:  0.13437614479985954\n",
            "Iteration:  2500 , Cost:  0.41644903570283365\n",
            "Iteration:  2600 , Cost:  0.34916282646556424\n",
            "Iteration:  2700 , Cost:  0.28350756047257974\n",
            "Iteration:  2800 , Cost:  0.21996625684099286\n",
            "Iteration:  2900 , Cost:  0.11085590860401985\n",
            "Iteration:  3000 , Cost:  0.18516208788261818\n",
            "Iteration:  3100 , Cost:  0.133933709284318\n",
            "Iteration:  3200 , Cost:  0.06703338272142567\n",
            "Iteration:  3300 , Cost:  0.45106068247369135\n",
            "Iteration:  3400 , Cost:  0.3380659492936131\n",
            "Iteration:  3500 , Cost:  0.8546986511109976\n",
            "Iteration:  3600 , Cost:  0.2106476943861624\n",
            "Iteration:  3700 , Cost:  0.6957830454364007\n",
            "Iteration:  3800 , Cost:  0.06927762628672461\n",
            "Iteration:  3900 , Cost:  0.02047413654483359\n",
            "Iteration:  4000 , Cost:  0.7116164400209408\n",
            "Iteration:  4100 , Cost:  0.17813356808118574\n",
            "Iteration:  4200 , Cost:  0.1005151945627304\n",
            "Iteration:  4300 , Cost:  0.1058793872701655\n",
            "Iteration:  4400 , Cost:  0.4347628054376606\n",
            "Iteration:  4500 , Cost:  0.25339911008362453\n",
            "Iteration:  4600 , Cost:  0.34345015251486294\n",
            "Iteration:  4700 , Cost:  0.37444441246579885\n",
            "Iteration:  4800 , Cost:  0.040448526218457764\n",
            "Iteration:  4900 , Cost:  1.2676645050158073\n",
            "Iteration:  5000 , Cost:  0.36207128138194655\n",
            "Iteration:  5100 , Cost:  2.4832455547975183\n",
            "Iteration:  5200 , Cost:  0.004085867968345462\n",
            "Iteration:  5300 , Cost:  0.28745466333198955\n",
            "Iteration:  5400 , Cost:  0.3164751566084852\n",
            "Iteration:  5500 , Cost:  0.13253847870407545\n",
            "Iteration:  5600 , Cost:  0.1790509988964061\n",
            "Iteration:  5700 , Cost:  0.15687137629972414\n",
            "Iteration:  5800 , Cost:  0.42766805409582337\n",
            "Iteration:  5900 , Cost:  0.40269816552493043\n",
            "Iteration:  6000 , Cost:  0.2199772521745126\n",
            "Iteration:  6100 , Cost:  0.1105593844545616\n",
            "Iteration:  6200 , Cost:  0.2858965263443536\n",
            "Iteration:  6300 , Cost:  0.24999281921376762\n",
            "Iteration:  6400 , Cost:  0.5011867108736943\n",
            "Iteration:  6500 , Cost:  0.27235212121503244\n",
            "Iteration:  6600 , Cost:  0.6241695822932904\n",
            "Iteration:  6700 , Cost:  0.24926507691036054\n",
            "Iteration:  6800 , Cost:  0.3041853464314984\n",
            "Iteration:  6900 , Cost:  0.3124142323095238\n",
            "Iteration:  7000 , Cost:  0.017050238528134257\n",
            "Iteration:  7100 , Cost:  0.7148341869803876\n",
            "Iteration:  7200 , Cost:  0.059368347912716404\n",
            "Iteration:  7300 , Cost:  0.1624916249141604\n",
            "Iteration:  7400 , Cost:  0.9117468275813979\n",
            "Iteration:  7500 , Cost:  0.22024355757188066\n",
            "Iteration:  7600 , Cost:  0.542715986042952\n",
            "Iteration:  7700 , Cost:  0.10107303807544865\n",
            "Iteration:  7800 , Cost:  0.46520021770705483\n",
            "Iteration:  7900 , Cost:  0.44219768145327737\n",
            "Iteration:  8000 , Cost:  0.34850908031475886\n",
            "Iteration:  8100 , Cost:  0.8564491699534946\n",
            "Iteration:  8200 , Cost:  0.214243804213917\n",
            "Iteration:  8300 , Cost:  1.2827592899198106\n",
            "Iteration:  8400 , Cost:  0.3920012678420474\n",
            "Iteration:  8500 , Cost:  0.0010467718574158965\n",
            "Iteration:  8600 , Cost:  0.25851848960969726\n",
            "Iteration:  8700 , Cost:  0.04491133309676985\n",
            "Iteration:  8800 , Cost:  0.006498232843369608\n",
            "Iteration:  8900 , Cost:  0.05728345974000735\n",
            "Iteration:  9000 , Cost:  0.39095367601562264\n",
            "Iteration:  9100 , Cost:  0.46650867878122076\n",
            "Iteration:  9200 , Cost:  0.342790415910626\n",
            "Iteration:  9300 , Cost:  0.6612403304641539\n",
            "Iteration:  9400 , Cost:  0.3831932432422241\n",
            "Iteration:  9500 , Cost:  0.03153572396910868\n",
            "Iteration:  9600 , Cost:  0.005738556242947286\n",
            "Iteration:  9700 , Cost:  0.6022601972019435\n",
            "Iteration:  9800 , Cost:  0.018459372804656503\n",
            "Iteration:  9900 , Cost:  0.5655238698562153\n",
            "Iteration:  10000 , Cost:  1.3912649576601501\n",
            "Iteration:  10100 , Cost:  0.4379190716918812\n",
            "Iteration:  10200 , Cost:  0.23728738975345479\n",
            "Iteration:  10300 , Cost:  0.2691561132849529\n",
            "Iteration:  10400 , Cost:  0.13001352433827887\n",
            "Iteration:  10500 , Cost:  0.2924829633442772\n",
            "Iteration:  10600 , Cost:  0.19423644904251536\n",
            "Iteration:  10700 , Cost:  0.2405678604889221\n",
            "Iteration:  10800 , Cost:  0.31421751227640016\n",
            "Iteration:  10900 , Cost:  0.08521572707318885\n",
            "Iteration:  11000 , Cost:  0.013480365962050501\n",
            "Iteration:  11100 , Cost:  0.8476532678513945\n",
            "Iteration:  11200 , Cost:  0.34755983713118227\n",
            "Iteration:  11300 , Cost:  0.15526705940586538\n",
            "Iteration:  11400 , Cost:  1.9872467853107618\n",
            "Iteration:  11500 , Cost:  0.004855515584048911\n",
            "Iteration:  11600 , Cost:  0.3759914520094993\n",
            "Iteration:  11700 , Cost:  0.010764373352691982\n",
            "Iteration:  11800 , Cost:  0.009067157709100635\n",
            "Iteration:  11900 , Cost:  0.06008930691624317\n",
            "Iteration:  12000 , Cost:  0.3578644097927564\n",
            "Iteration:  12100 , Cost:  2.3547890966340956\n",
            "Iteration:  12200 , Cost:  0.0070520250188012825\n",
            "Iteration:  12300 , Cost:  0.49569798585264574\n",
            "Iteration:  12400 , Cost:  0.21937282171715536\n",
            "Iteration:  12500 , Cost:  0.0036327292204385363\n",
            "Iteration:  12600 , Cost:  0.5723117690164614\n",
            "Iteration:  12700 , Cost:  0.548858048508365\n",
            "Iteration:  12800 , Cost:  0.14924154103759302\n",
            "Iteration:  12900 , Cost:  0.062431328783883064\n",
            "Iteration:  13000 , Cost:  0.002748688785246613\n",
            "Iteration:  13100 , Cost:  1.455437242971848\n",
            "Iteration:  13200 , Cost:  0.026123391089637786\n",
            "Iteration:  13300 , Cost:  0.1074752199618591\n",
            "Iteration:  13400 , Cost:  0.08031134820731924\n",
            "Iteration:  13500 , Cost:  0.009229805737883082\n",
            "Iteration:  13600 , Cost:  0.0001189437782902303\n",
            "Iteration:  13700 , Cost:  0.0810620661508016\n",
            "Iteration:  13800 , Cost:  0.508538214631885\n",
            "Iteration:  13900 , Cost:  0.28296708788579916\n",
            "Iteration:  14000 , Cost:  0.12264496271532813\n",
            "Iteration:  14100 , Cost:  0.7125879345023193\n",
            "Iteration:  14200 , Cost:  0.06348846106149164\n",
            "Iteration:  14300 , Cost:  0.015341227725377804\n",
            "Iteration:  14400 , Cost:  0.11367216436813943\n",
            "Iteration:  14500 , Cost:  0.29503450326181524\n",
            "Iteration:  14600 , Cost:  0.0025904637348195623\n",
            "Iteration:  14700 , Cost:  0.2846579552865273\n",
            "Iteration:  14800 , Cost:  0.014443285377293238\n",
            "Iteration:  14900 , Cost:  0.2708819863906608\n",
            "Iteration:  15000 , Cost:  0.24057243369908982\n",
            "Iteration:  15100 , Cost:  0.010430939069679231\n",
            "Iteration:  15200 , Cost:  0.10026418544212663\n",
            "Iteration:  15300 , Cost:  0.2230232648929256\n",
            "Iteration:  15400 , Cost:  0.2276520746074776\n",
            "Iteration:  15500 , Cost:  0.08736388961699544\n",
            "Iteration:  15600 , Cost:  0.28922285317428525\n",
            "Iteration:  15700 , Cost:  0.20639792723856915\n",
            "Iteration:  15800 , Cost:  0.11948474085227499\n",
            "Iteration:  15900 , Cost:  0.13715787323008938\n",
            "Iteration:  16000 , Cost:  0.054919291968305285\n",
            "Iteration:  16100 , Cost:  0.037811897567940414\n",
            "Iteration:  16200 , Cost:  0.0034572280159610334\n",
            "Iteration:  16300 , Cost:  0.33089826693191876\n",
            "Iteration:  16400 , Cost:  1.8060090484322697\n",
            "Iteration:  16500 , Cost:  0.3471451615629053\n",
            "Iteration:  16600 , Cost:  1.3197462931536799\n",
            "Iteration:  16700 , Cost:  0.26306084699294646\n",
            "Iteration:  16800 , Cost:  0.6364374533173759\n",
            "Iteration:  16900 , Cost:  0.19993646580458124\n",
            "Iteration:  17000 , Cost:  0.007806351142364006\n",
            "Iteration:  17100 , Cost:  0.31584375290178485\n",
            "Iteration:  17200 , Cost:  0.5799320559017356\n",
            "Iteration:  17300 , Cost:  1.9636458475643086\n",
            "Iteration:  17400 , Cost:  0.002202696466430267\n",
            "Iteration:  17500 , Cost:  0.41480291570467553\n",
            "Iteration:  17600 , Cost:  2.500908699750356\n",
            "Iteration:  17700 , Cost:  0.001218756757698846\n",
            "Iteration:  17800 , Cost:  0.702133597249914\n",
            "Iteration:  17900 , Cost:  0.3029672006784151\n",
            "Iteration:  18000 , Cost:  0.0004642964328680438\n",
            "Iteration:  18100 , Cost:  0.11693212748458484\n",
            "Iteration:  18200 , Cost:  1.813549544988863\n",
            "Iteration:  18300 , Cost:  0.2347733343065531\n",
            "Iteration:  18400 , Cost:  0.2863102748459929\n",
            "Iteration:  18500 , Cost:  0.3733988166121987\n",
            "Iteration:  18600 , Cost:  0.1349410113454607\n",
            "Iteration:  18700 , Cost:  0.2502831514012697\n",
            "Iteration:  18800 , Cost:  0.14098993214708433\n",
            "Iteration:  18900 , Cost:  0.011855295668483177\n",
            "Iteration:  19000 , Cost:  0.6921785902759032\n",
            "Iteration:  19100 , Cost:  0.3958559615082431\n",
            "Iteration:  19200 , Cost:  0.31511804330724846\n",
            "Iteration:  19300 , Cost:  0.0668344744071012\n",
            "Iteration:  19400 , Cost:  0.007735949729688377\n",
            "Iteration:  19500 , Cost:  0.15213233032514553\n",
            "Iteration:  19600 , Cost:  0.29995948816421353\n",
            "Iteration:  19700 , Cost:  0.562840824327611\n",
            "Iteration:  19800 , Cost:  0.000674580756839837\n",
            "Iteration:  19900 , Cost:  0.09415568150331964\n",
            "Iteration:  20000 , Cost:  0.002111421715892378\n"
          ]
        },
        {
          "output_type": "display_data",
          "data": {
            "text/plain": [
              "<Figure size 432x288 with 1 Axes>"
            ],
            "image/png": "[encoded data removed]"
          },
          "metadata": {
            "needs_background": "light"
          }
        }
      ]
    },
    {
      "cell_type": "code",
      "source": [
        "# predict the result using the trained model\n",
        "y_pred_lrg_sgd = predict(w_sgd, b_sgd, X_test)"
      ],
      "metadata": {
        "id": "3IyymeRfa-MA"
      },
      "execution_count": 201,
      "outputs": []
    },
    {
      "cell_type": "code",
      "source": [
        "# overall acuracy of the model\n",
        "accuracy_score(y_test, y_pred_lrg_sgd)"
      ],
      "metadata": {
        "colab": {
          "base_uri": "https://localhost:8080/"
        },
        "id": "cDH98PM_bMvl",
        "outputId": "d05bb949-99cc-4db2-e85d-90aeb3400639"
      },
      "execution_count": 202,
      "outputs": [
        {
          "output_type": "execute_result",
          "data": {
            "text/plain": [
              "0.863109756097561"
            ]
          },
          "metadata": {},
          "execution_count": 202
        }
      ]
    },
    {
      "cell_type": "code",
      "source": [
        "# f1 score of the model\n",
        "f1_score(y_test, y_pred_lrg_sgd)"
      ],
      "metadata": {
        "colab": {
          "base_uri": "https://localhost:8080/"
        },
        "id": "B9p5D56LbOKE",
        "outputId": "40c02d0c-70e9-4c6c-9cfd-effe5f7c1a8a"
      },
      "execution_count": 203,
      "outputs": [
        {
          "output_type": "execute_result",
          "data": {
            "text/plain": [
              "0.8756025932287915"
            ]
          },
          "metadata": {},
          "execution_count": 203
        }
      ]
    },
    {
      "cell_type": "markdown",
      "source": [
        "### Optimization Algorithms\n",
        "\n",
        "When implementing Adagrad and RMSprop, I used a [Towards Data Science](https://towardsdatascience.com/learning-parameters-part-5-65a2f3583f7d) article on learning parameters to help write these functions. These are both implemented to work with batch gradient descent."
      ],
      "metadata": {
        "id": "0zhM6-SaNFrf"
      }
    },
    {
      "cell_type": "markdown",
      "source": [
        "#### Adagrad"
      ],
      "metadata": {
        "id": "WN2qQEx2Kg5R"
      }
    },
    {
      "cell_type": "code",
      "source": [
        "# train the model\n",
        "w_lrg_adag, b_lrg_adag = logisticRegression(X_train, y_train, 0, 1)"
      ],
      "metadata": {
        "colab": {
          "base_uri": "https://localhost:8080/",
          "height": 1000
        },
        "id": "pMdYZ6DEKNrz",
        "outputId": "fb596fcd-9f19-49fd-a6e3-25ce662412dd"
      },
      "execution_count": 175,
      "outputs": [
        {
          "output_type": "stream",
          "name": "stdout",
          "text": [
            "Iteration:  0 , Cost:  0.8684696126057012\n",
            "Iteration:  100 , Cost:  0.7722109266275101\n",
            "Iteration:  200 , Cost:  0.7384554996130844\n",
            "Iteration:  300 , Cost:  0.7158093770277051\n",
            "Iteration:  400 , Cost:  0.6987205387383004\n",
            "Iteration:  500 , Cost:  0.6850483375406382\n",
            "Iteration:  600 , Cost:  0.6736975705622538\n",
            "Iteration:  700 , Cost:  0.6640309938584633\n",
            "Iteration:  800 , Cost:  0.6556360503172586\n",
            "Iteration:  900 , Cost:  0.6482319519663171\n",
            "Iteration:  1000 , Cost:  0.6416177935491248\n",
            "Iteration:  1100 , Cost:  0.6356457855330778\n",
            "Iteration:  1200 , Cost:  0.6302050451910354\n",
            "Iteration:  1300 , Cost:  0.6252076992251357\n",
            "Iteration:  1400 , Cost:  0.6205875738521611\n",
            "Iteration:  1500 , Cost:  0.6162919181549592\n",
            "Iteration:  1600 , Cost:  0.6122758949203365\n",
            "Iteration:  1700 , Cost:  0.6085054144619768\n",
            "Iteration:  1800 , Cost:  0.6049515036999497\n",
            "Iteration:  1900 , Cost:  0.6015882342021597\n",
            "Iteration:  2000 , Cost:  0.5983980510134498\n",
            "Iteration:  2100 , Cost:  0.5953589256018341\n",
            "Iteration:  2200 , Cost:  0.592460256900111\n",
            "Iteration:  2300 , Cost:  0.5896883646866292\n",
            "Iteration:  2400 , Cost:  0.5870333284727662\n",
            "Iteration:  2500 , Cost:  0.5844854032119932\n",
            "Iteration:  2600 , Cost:  0.5820354374688036\n",
            "Iteration:  2700 , Cost:  0.5796757414252635\n",
            "Iteration:  2800 , Cost:  0.5774004142888117\n",
            "Iteration:  2900 , Cost:  0.575203174075612\n",
            "Iteration:  3000 , Cost:  0.573076550817838\n",
            "Iteration:  3100 , Cost:  0.5710139478925319\n",
            "Iteration:  3200 , Cost:  0.569014126616358\n",
            "Iteration:  3300 , Cost:  0.5670729297660444\n",
            "Iteration:  3400 , Cost:  0.565186700634924\n",
            "Iteration:  3500 , Cost:  0.5633533670293763\n",
            "Iteration:  3600 , Cost:  0.5615678617275522\n",
            "Iteration:  3700 , Cost:  0.559825005419669\n",
            "Iteration:  3800 , Cost:  0.5581232334148497\n",
            "Iteration:  3900 , Cost:  0.5564597853190699\n",
            "Iteration:  4000 , Cost:  0.5548354603955543\n"
          ]
        },
        {
          "output_type": "display_data",
          "data": {
            "text/plain": [
              "<Figure size 432x288 with 1 Axes>"
            ],
            "image/png": "[encoded data removed]"
          },
          "metadata": {
            "needs_background": "light"
          }
        }
      ]
    },
    {
      "cell_type": "code",
      "source": [
        "# predict the result using the trained model\n",
        "y_pred_lrg_adag = predict(w_lrg_adag, b_lrg_adag, X_test)"
      ],
      "metadata": {
        "id": "1HScSz7hMWRT"
      },
      "execution_count": 176,
      "outputs": []
    },
    {
      "cell_type": "code",
      "source": [
        "# overall acuracy of the model\n",
        "accuracy_score(y_test, y_pred_lrg_adag)"
      ],
      "metadata": {
        "colab": {
          "base_uri": "https://localhost:8080/"
        },
        "id": "5PlwdfYhNha7",
        "outputId": "0da3340b-b5fa-4029-b8d8-8b115312b18c"
      },
      "execution_count": 177,
      "outputs": [
        {
          "output_type": "execute_result",
          "data": {
            "text/plain": [
              "0.7777439024390244"
            ]
          },
          "metadata": {},
          "execution_count": 177
        }
      ]
    },
    {
      "cell_type": "code",
      "source": [
        "# f1 score of the model\n",
        "f1_score(y_test, y_pred_lrg_adag)"
      ],
      "metadata": {
        "colab": {
          "base_uri": "https://localhost:8080/"
        },
        "id": "l9iciQmtNkkx",
        "outputId": "58d65e54-939a-49a2-8716-4b7d5e74079a"
      },
      "execution_count": 178,
      "outputs": [
        {
          "output_type": "execute_result",
          "data": {
            "text/plain": [
              "0.7680559974546612"
            ]
          },
          "metadata": {},
          "execution_count": 178
        }
      ]
    },
    {
      "cell_type": "markdown",
      "source": [
        "#### RMSprop"
      ],
      "metadata": {
        "id": "ugfJmIllyaYe"
      }
    },
    {
      "cell_type": "code",
      "source": [
        "# train the model\n",
        "w_lrg_rmsp, b_lrg_rmsp = logisticRegression(X_train, y_train, 0, 2)"
      ],
      "metadata": {
        "colab": {
          "base_uri": "https://localhost:8080/",
          "height": 1000
        },
        "outputId": "daa93515-eaf0-4be5-85a7-3a9dac238164",
        "id": "tXun6SqJyaYi"
      },
      "execution_count": 179,
      "outputs": [
        {
          "output_type": "stream",
          "name": "stdout",
          "text": [
            "Iteration:  0 , Cost:  0.8684696126057012\n",
            "Iteration:  100 , Cost:  0.5592992072958942\n",
            "Iteration:  200 , Cost:  0.46836031163856223\n",
            "Iteration:  300 , Cost:  0.41458516177825666\n",
            "Iteration:  400 , Cost:  0.3907930826644459\n",
            "Iteration:  500 , Cost:  0.3837721860438979\n",
            "Iteration:  600 , Cost:  0.38347964713894794\n",
            "Iteration:  700 , Cost:  0.38347964703498055\n",
            "Iteration:  800 , Cost:  0.3834796470358068\n",
            "Iteration:  900 , Cost:  0.3834796470358071\n",
            "Iteration:  1000 , Cost:  0.383479647035807\n",
            "Iteration:  1100 , Cost:  0.38347964703580695\n",
            "Iteration:  1200 , Cost:  0.38347964703580695\n",
            "Iteration:  1300 , Cost:  0.38347964703580695\n",
            "Iteration:  1400 , Cost:  0.38347964703580695\n",
            "Iteration:  1500 , Cost:  0.383479647035807\n",
            "Iteration:  1600 , Cost:  0.38347964703580695\n",
            "Iteration:  1700 , Cost:  0.38347964703580695\n",
            "Iteration:  1800 , Cost:  0.38347964703580695\n",
            "Iteration:  1900 , Cost:  0.383479647035807\n",
            "Iteration:  2000 , Cost:  0.38347964703580695\n",
            "Iteration:  2100 , Cost:  0.383479647035807\n",
            "Iteration:  2200 , Cost:  0.383479647035807\n",
            "Iteration:  2300 , Cost:  0.383479647035807\n",
            "Iteration:  2400 , Cost:  0.383479647035807\n",
            "Iteration:  2500 , Cost:  0.38347964703580695\n",
            "Iteration:  2600 , Cost:  0.38347964703580706\n",
            "Iteration:  2700 , Cost:  0.38347964703580695\n",
            "Iteration:  2800 , Cost:  0.38347964703580695\n",
            "Iteration:  2900 , Cost:  0.383479647035807\n",
            "Iteration:  3000 , Cost:  0.38347964703580695\n",
            "Iteration:  3100 , Cost:  0.38347964703580695\n",
            "Iteration:  3200 , Cost:  0.38347964703580695\n",
            "Iteration:  3300 , Cost:  0.38347964703580695\n",
            "Iteration:  3400 , Cost:  0.38347964703580695\n",
            "Iteration:  3500 , Cost:  0.383479647035807\n",
            "Iteration:  3600 , Cost:  0.38347964703580695\n",
            "Iteration:  3700 , Cost:  0.38347964703580695\n",
            "Iteration:  3800 , Cost:  0.38347964703580706\n",
            "Iteration:  3900 , Cost:  0.38347964703580695\n",
            "Iteration:  4000 , Cost:  0.38347964703580695\n"
          ]
        },
        {
          "output_type": "display_data",
          "data": {
            "text/plain": [
              "<Figure size 432x288 with 1 Axes>"
            ],
            "image/png": "[encoded data removed]"
          },
          "metadata": {
            "needs_background": "light"
          }
        }
      ]
    },
    {
      "cell_type": "code",
      "source": [
        "# predict the result using the trained model\n",
        "y_pred_lrg_rmsp = predict(w_lrg_rmsp, b_lrg_rmsp, X_test)"
      ],
      "metadata": {
        "id": "szL5W-lcyaYi"
      },
      "execution_count": 180,
      "outputs": []
    },
    {
      "cell_type": "code",
      "source": [
        "# overall acuracy of the model\n",
        "accuracy_score(y_test, y_pred_lrg_rmsp)"
      ],
      "metadata": {
        "colab": {
          "base_uri": "https://localhost:8080/"
        },
        "outputId": "9298d36e-81e5-47ec-cb0e-691e82c66ae5",
        "id": "lC0F6sOjyaYj"
      },
      "execution_count": 181,
      "outputs": [
        {
          "output_type": "execute_result",
          "data": {
            "text/plain": [
              "0.8619512195121951"
            ]
          },
          "metadata": {},
          "execution_count": 181
        }
      ]
    },
    {
      "cell_type": "code",
      "source": [
        "# f1 score of the model\n",
        "f1_score(y_test, y_pred_lrg_rmsp)"
      ],
      "metadata": {
        "colab": {
          "base_uri": "https://localhost:8080/"
        },
        "outputId": "28441014-c8fb-4cc3-af7e-f6271ef6fc2d",
        "id": "reNo_YDPyaYk"
      },
      "execution_count": 182,
      "outputs": [
        {
          "output_type": "execute_result",
          "data": {
            "text/plain": [
              "0.8733497426717387"
            ]
          },
          "metadata": {},
          "execution_count": 182
        }
      ]
    },
    {
      "cell_type": "markdown",
      "source": [
        "### Conclusion\n",
        "\n",
        "To keep the playing field even, I ran the default update, the Adagrad update, and the RMSprop update at the same learning rate, that being 0.01. I chose this because I tend to use a learning rate of 0.1, but the [gradient descent paper](https://arxiv.org/pdf/1609.04747.pdf) recommended using learning rates of 0.01 and 0.001 for Adagrad and RMSprop respectively. 0.01 was in the middle of these values, and I wanted to try it in this scenario. To give these algorithms time to converge, I ran them for 4000 epochs each. Below are the recorded results.\n",
        "\n",
        "| **Update** | **Accuracy Score** | **F1 Score** |\n",
        "|------------|--------------------|--------------|\n",
        "| Original   | 0.85664            | 0.86703      |\n",
        "| Adagrad    | 0.77774            | 0.76806      |\n",
        "| RMSprop    | 0.86195            | 0.87335      |\n",
        "\n",
        "Adagrad adapts its learning rate to the parameters. Larger updates are performed for infrequent parameters, and smaller updates are performed for frequent parameters. This is what makes it work well with sparse data. It left me curious as to how well it would perform on abundant data. Of the three, this algorithm performs the worst in accuracy and f1 scores. I believe this is due to the weakness mentioned in the paper - accumulating squared digits in the denominator. We can glean this from how its slope tapers off in a similar manner to the original implementation, but it does so at an greater cost value. Its learning rate becomes too small and has little impact on updates.\n",
        "\n",
        "On the contrary, RMSprop performs the best of the three in accuracy and f1 score. It is clear why the book recommends a learning rate of 0.001 as at rate 0.01, it finds its minimum - the lowest of the three - in under 1000 epochs. RMSprop was intended to resolve Adagrad's diminishing learning rate problem while still featuring an adaptive learning rate.\n",
        "\n",
        "The original implementation of gradient descent sits between these optimizations. The original implementation's line resembles that of Adagrad tapering off, but it ends with a lower minimum than Adagrad within 4000 epochs. This demonstrates how poorly Adagrad performs as an optimization when working with non-sparse data. \n",
        "\n",
        "Generally, we would want to use optimization algorithms because they allow us to find the minimum more efficiently. RMSprop demonstrates what can go right with optimization algorithms. Considering how there are over 160000 examples to sift through after oversampling, we need to move through it as efficiently as possible. An adaptive learning rate aids in quickly finding a minimum from this wealth of data, which grants us more accurate answers in less time.\n",
        "\n",
        "That said, we must choose the right algorithm for a situation. Adagrad performing worse than the original gradient descent demonstrates what can go wrong. We found it was not suited for this application. It is then clear that RMSprop is the better optimization algorithm for this scenario."
      ],
      "metadata": {
        "id": "tCCxiLTVLCmp"
      }
    }
  ],
  "metadata": {
    "kernelspec": {
      "display_name": "Python 3",
      "language": "python",
      "name": "python3"
    },
    "language_info": {
      "codemirror_mode": {
        "name": "ipython",
        "version": 3
      },
      "file_extension": ".py",
      "mimetype": "text/x-python",
      "name": "python",
      "nbconvert_exporter": "python",
      "pygments_lexer": "ipython3",
      "version": "3.7.6"
    },
    "colab": {
      "provenance": [],
      "collapsed_sections": [],
      "include_colab_link": true
    },
    "gpuClass": "standard"
  },
  "nbformat": 4,
  "nbformat_minor": 0
}