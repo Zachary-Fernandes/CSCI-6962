{
  "cells": [
    {
      "cell_type": "markdown",
      "metadata": {
        "id": "view-in-github",
        "colab_type": "text"
      },
      "source": [
        "<a href=\"https://colab.research.google.com/github/Zachary-Fernandes/CSCI-6962/blob/main/fernazHW6v5.ipynb\" target=\"_parent\"><img src=\"https://colab.research.google.com/assets/colab-badge.svg\" alt=\"Open In Colab\"/></a>"
      ]
    },
    {
      "cell_type": "markdown",
      "metadata": {
        "id": "HXZog3W-zdgW"
      },
      "source": [
        "# Homework 6\n",
        "#####Zachary Fernandes\n",
        "#####Projects in Machine Learning and AI"
      ]
    },
    {
      "cell_type": "markdown",
      "source": [
        "### Markov Decision Processes (MDP)\n",
        "\n",
        "As demonstrated by [this article](https://towardsdatascience.com/real-world-applications-of-markov-decision-process-mdp-a39685546026), we can formulate a game show as an MDP. One round in this game involves asking a participant a question. If they answer correctly, they earn money, but if they answer incorrectly, they lose all their earned money. Answering correctly also means the participant can either choose to continue to the next round or quit and keep all their money. As rounds increase in number, their rewards also grow, but they become more and more challenging. For example, our game could last fifteen rounds\n",
        "\n",
        "The state space would include each of the rounds along with an end game state.\n",
        "\n",
        "The action space would be the choices a player can make, those being playing the next round or quitting.\n",
        "\n",
        "The transition model would focus on what actions the player takes. If they play the next round, they may win or lose that round. Winning means moving to the next round with some probability _p_; the reward the player earns is how much is offered for the current round. If the player wins the last round, they earn the final prize and move to the end game state as no rounds remain. Losing means losing all their money and moving to the end game state with 1 - _p_ probability. If the player chooses to quit, they move to the end game state without any further reward and probability 1.\n",
        "\n",
        "The reward is how much money a player earns for a correct answer. This reward increases as the round number increases. Additionally, as the reward value and round number increase, the probability of answering correctly decreases."
      ],
      "metadata": {
        "id": "B670T7WxoolH"
      }
    },
    {
      "cell_type": "markdown",
      "source": [
        "### Reinforcement Learning (RL) in Healthcare\n",
        "\n",
        "One issue with healthcare that can be more effectively solved by RL is creating and configuring dynamic treatment regimes (DTRs). A DTR is, as put by [CapeStart](https://www.capestart.com/resources/blog/reinforcement-learning-in-health-care-why-its-important-and-how-it-can-help/), a sequence of rules that determine healthcare decisions, such as types of treatment, dosages of drugs, and timing of appointments. These are tailored to a specific patient based on medical history and conditions. For an RL algorithm, clinical observations and patient assessments would be its input data, and treatment options would be its output. This is done to reach the patient's most desired environmental state.\n",
        "\n",
        "RL can help automate decision-making while treatment regimes proceed, design DTRs for chronic conditions, and improve critical care from intensive care data. One open-source approach to this problem is [pydtr](https://github.com/fullflu/pydtr). pydtr is a Python library that conducts DTRs, and it can select optimal treatments for specific patients with sklearn-based interfaces. It conducts these DTRs through a regression version of Iterative Q-Learning. It is possible to use sklearn-based models or statsmodels-based models - if one is using the sklearn model for a regression function and there are categorical independent variables, one must encode the categorical variables prior to using the model."
      ],
      "metadata": {
        "id": "0MpJA-hBopCC"
      }
    },
    {
      "cell_type": "markdown",
      "metadata": {
        "id": "CfwU6Ho80N9i"
      },
      "source": [
        "### Tic-Tac-Toe\n",
        "\n",
        "This notebook can be seen as an extension of the previous notebook that features two RL agents training and testing against each other. This was an idea inspired by some articles I read while looking into this problem. Additionally, this notebook experiments with using punishments alongside rewards to discourage specific behaviors (draws and losses - the goal is to win).\n",
        "\n",
        "Online Resources that Helped:\n",
        "\n",
        "[Framing Tic-Tac-Toe as a Reinforcement Learning Problem](https://levelup.gitconnected.com/framing-tic-tac-toe-as-a-reinforcement-learning-problem-eb76b6ece4de)\n",
        "\n",
        "[Setting up Tic-Tac-Toe for Reinforcement Learning in Python](https://levelup.gitconnected.com/setting-up-tic-tac-toe-for-reinforcement-learning-in-python-43e2f42cfce8)\n",
        "\n",
        "[Tabular Q-Learning Agent vs. Irrational Agent in the Game of Tic-Tac-Toe](https://levelup.gitconnected.com/tabular-q-learning-agent-vs-irrational-agent-in-the-game-of-tic-tac-toe-6de6c85f0c42)\n",
        "\n",
        "[Reinforcement Learning — Implement TicTacToe](https://towardsdatascience.com/reinforcement-learning-implement-tictactoe-189582bea542)"
      ]
    },
    {
      "cell_type": "code",
      "execution_count": null,
      "metadata": {
        "colab": {
          "base_uri": "https://localhost:8080/"
        },
        "id": "MoRfsvI_CwMB",
        "outputId": "26fbe37c-56de-4fad-8d4e-401ca354ec60"
      },
      "outputs": [
        {
          "output_type": "stream",
          "name": "stdout",
          "text": [
            "Looking in indexes: https://pypi.org/simple, https://us-python.pkg.dev/colab-wheels/public/simple/\n",
            "Requirement already satisfied: imbalanced-learn in /usr/local/lib/python3.7/dist-packages (0.8.1)\n",
            "Requirement already satisfied: numpy>=1.13.3 in /usr/local/lib/python3.7/dist-packages (from imbalanced-learn) (1.21.6)\n",
            "Requirement already satisfied: joblib>=0.11 in /usr/local/lib/python3.7/dist-packages (from imbalanced-learn) (1.2.0)\n",
            "Requirement already satisfied: scikit-learn>=0.24 in /usr/local/lib/python3.7/dist-packages (from imbalanced-learn) (1.0.2)\n",
            "Requirement already satisfied: scipy>=0.19.1 in /usr/local/lib/python3.7/dist-packages (from imbalanced-learn) (1.7.3)\n",
            "Requirement already satisfied: threadpoolctl>=2.0.0 in /usr/local/lib/python3.7/dist-packages (from scikit-learn>=0.24->imbalanced-learn) (3.1.0)\n",
            "Looking in indexes: https://pypi.org/simple, https://us-python.pkg.dev/colab-wheels/public/simple/\n",
            "Requirement already satisfied: graphviz in /usr/local/lib/python3.7/dist-packages (0.10.1)\n",
            "Looking in indexes: https://pypi.org/simple, https://us-python.pkg.dev/colab-wheels/public/simple/\n",
            "Requirement already satisfied: tensorflow-probability in /usr/local/lib/python3.7/dist-packages (0.17.0)\n",
            "Requirement already satisfied: decorator in /usr/local/lib/python3.7/dist-packages (from tensorflow-probability) (4.4.2)\n",
            "Requirement already satisfied: dm-tree in /usr/local/lib/python3.7/dist-packages (from tensorflow-probability) (0.1.7)\n",
            "Requirement already satisfied: gast>=0.3.2 in /usr/local/lib/python3.7/dist-packages (from tensorflow-probability) (0.4.0)\n",
            "Requirement already satisfied: numpy>=1.13.3 in /usr/local/lib/python3.7/dist-packages (from tensorflow-probability) (1.21.6)\n",
            "Requirement already satisfied: absl-py in /usr/local/lib/python3.7/dist-packages (from tensorflow-probability) (1.3.0)\n",
            "Requirement already satisfied: six>=1.10.0 in /usr/local/lib/python3.7/dist-packages (from tensorflow-probability) (1.15.0)\n",
            "Requirement already satisfied: cloudpickle>=1.3 in /usr/local/lib/python3.7/dist-packages (from tensorflow-probability) (1.5.0)\n",
            "Looking in indexes: https://pypi.org/simple, https://us-python.pkg.dev/colab-wheels/public/simple/\n",
            "Requirement already satisfied: imageio in /usr/local/lib/python3.7/dist-packages (2.9.0)\n",
            "Requirement already satisfied: numpy in /usr/local/lib/python3.7/dist-packages (from imageio) (1.21.6)\n",
            "Requirement already satisfied: pillow in /usr/local/lib/python3.7/dist-packages (from imageio) (7.1.2)\n",
            "Looking in indexes: https://pypi.org/simple, https://us-python.pkg.dev/colab-wheels/public/simple/\n",
            "Collecting git+https://github.com/tensorflow/docs\n",
            "  Cloning https://github.com/tensorflow/docs to /tmp/pip-req-build-5_hja8rf\n",
            "  Running command git clone -q https://github.com/tensorflow/docs /tmp/pip-req-build-5_hja8rf\n",
            "Requirement already satisfied: astor in /usr/local/lib/python3.7/dist-packages (from tensorflow-docs==0.0.0.dev0) (0.8.1)\n",
            "Requirement already satisfied: absl-py in /usr/local/lib/python3.7/dist-packages (from tensorflow-docs==0.0.0.dev0) (1.3.0)\n",
            "Requirement already satisfied: jinja2 in /usr/local/lib/python3.7/dist-packages (from tensorflow-docs==0.0.0.dev0) (2.11.3)\n",
            "Requirement already satisfied: nbformat in /usr/local/lib/python3.7/dist-packages (from tensorflow-docs==0.0.0.dev0) (5.7.0)\n",
            "Requirement already satisfied: protobuf<3.20,>=3.12.0 in /usr/local/lib/python3.7/dist-packages (from tensorflow-docs==0.0.0.dev0) (3.19.6)\n",
            "Requirement already satisfied: pyyaml in /usr/local/lib/python3.7/dist-packages (from tensorflow-docs==0.0.0.dev0) (6.0)\n",
            "Requirement already satisfied: MarkupSafe>=0.23 in /usr/local/lib/python3.7/dist-packages (from jinja2->tensorflow-docs==0.0.0.dev0) (2.0.1)\n",
            "Requirement already satisfied: jupyter-core in /usr/local/lib/python3.7/dist-packages (from nbformat->tensorflow-docs==0.0.0.dev0) (4.11.2)\n",
            "Requirement already satisfied: importlib-metadata>=3.6 in /usr/local/lib/python3.7/dist-packages (from nbformat->tensorflow-docs==0.0.0.dev0) (4.13.0)\n",
            "Requirement already satisfied: jsonschema>=2.6 in /usr/local/lib/python3.7/dist-packages (from nbformat->tensorflow-docs==0.0.0.dev0) (4.3.3)\n",
            "Requirement already satisfied: traitlets>=5.1 in /usr/local/lib/python3.7/dist-packages (from nbformat->tensorflow-docs==0.0.0.dev0) (5.1.1)\n",
            "Requirement already satisfied: fastjsonschema in /usr/local/lib/python3.7/dist-packages (from nbformat->tensorflow-docs==0.0.0.dev0) (2.16.2)\n",
            "Requirement already satisfied: zipp>=0.5 in /usr/local/lib/python3.7/dist-packages (from importlib-metadata>=3.6->nbformat->tensorflow-docs==0.0.0.dev0) (3.10.0)\n",
            "Requirement already satisfied: typing-extensions>=3.6.4 in /usr/local/lib/python3.7/dist-packages (from importlib-metadata>=3.6->nbformat->tensorflow-docs==0.0.0.dev0) (4.1.1)\n",
            "Requirement already satisfied: attrs>=17.4.0 in /usr/local/lib/python3.7/dist-packages (from jsonschema>=2.6->nbformat->tensorflow-docs==0.0.0.dev0) (22.1.0)\n",
            "Requirement already satisfied: pyrsistent!=0.17.0,!=0.17.1,!=0.17.2,>=0.14.0 in /usr/local/lib/python3.7/dist-packages (from jsonschema>=2.6->nbformat->tensorflow-docs==0.0.0.dev0) (0.19.2)\n",
            "Requirement already satisfied: importlib-resources>=1.4.0 in /usr/local/lib/python3.7/dist-packages (from jsonschema>=2.6->nbformat->tensorflow-docs==0.0.0.dev0) (5.10.0)\n",
            "Building wheels for collected packages: tensorflow-docs\n",
            "  Building wheel for tensorflow-docs (setup.py) ... \u001b[?25l\u001b[?25hdone\n",
            "  Created wheel for tensorflow-docs: filename=tensorflow_docs-0.0.0.dev0-py3-none-any.whl size=184426 sha256=3b9a12bf2984081c53a75aabc134124ba09d48c5068e2abe16b3239784515424\n",
            "  Stored in directory: /tmp/pip-ephem-wheel-cache-uddi1iug/wheels/cc/c4/d8/5341e93b6376c5c929c49469fce21155eb69cef1a4da4ce32c\n",
            "Successfully built tensorflow-docs\n",
            "Installing collected packages: tensorflow-docs\n",
            "Successfully installed tensorflow-docs-0.0.0.dev0\n"
          ]
        }
      ],
      "source": [
        "!pip install imbalanced-learn\n",
        "!pip install graphviz\n",
        "!pip install tensorflow-probability\n",
        "\n",
        "# to generate gifs\n",
        "!pip install imageio\n",
        "!pip install git+https://github.com/tensorflow/docs"
      ]
    },
    {
      "cell_type": "code",
      "execution_count": null,
      "metadata": {
        "id": "aZCA63injOt2"
      },
      "outputs": [],
      "source": [
        "# import required libraries\n",
        "import pandas as pd\n",
        "import matplotlib.pyplot as plt\n",
        "import seaborn as sns\n",
        "import numpy as np\n",
        "import random\n",
        "import graphviz\n",
        "\n",
        "from sklearn.model_selection import train_test_split\n",
        "from sklearn.model_selection import cross_val_score\n",
        "from sklearn.model_selection import KFold \n",
        "from sklearn.linear_model import LogisticRegression\n",
        "from sklearn.svm import SVC\n",
        "from sklearn import tree\n",
        "from sklearn.ensemble import GradientBoostingClassifier\n",
        "from sklearn.ensemble import AdaBoostClassifier\n",
        "from sklearn.ensemble import RandomForestClassifier\n",
        "from sklearn.metrics import precision_score\n",
        "from sklearn.metrics import recall_score\n",
        "from sklearn.metrics import accuracy_score\n",
        "from sklearn.metrics import f1_score\n",
        "from sklearn.metrics import log_loss\n",
        "from sklearn.preprocessing import Normalizer\n",
        "from sklearn.preprocessing import StandardScaler\n",
        "from sklearn import utils\n",
        "\n",
        "import tensorflow as tf\n",
        "from tensorflow import feature_column\n",
        "from tensorflow import keras\n",
        "import keras\n",
        "from tensorflow.keras import layers\n",
        "from tensorflow.keras.layers import Dense, BatchNormalization\n",
        "from tensorflow.keras.preprocessing.image import ImageDataGenerator\n",
        "\n",
        "import IPython\n",
        "import IPython.display\n",
        "\n",
        "from gensim.test.utils import datapath, get_tmpfile\n",
        "from gensim.models import KeyedVectors\n",
        "from gensim.scripts.glove2word2vec import glove2word2vec\n",
        "\n",
        "from imblearn.over_sampling import SMOTE\n",
        "import warnings\n",
        "\n",
        "warnings.filterwarnings(\"ignore\")\n",
        "\n",
        "import os\n",
        "import zipfile\n",
        "\n",
        "import glob\n",
        "import imageio\n",
        "import PIL\n",
        "import tensorflow_probability as tfp\n",
        "import time\n",
        "import tensorflow_docs.vis.embed as embed\n",
        "\n",
        "from scipy import ndimage, misc\n",
        "import cv2"
      ]
    },
    {
      "cell_type": "code",
      "source": [
        "def check_over(x, printFlag = 0):\n",
        "    \"\"\"\n",
        "    Takes in the current board state x,\n",
        "    and determines if the game is won by \n",
        "    any player or if there is a draw.    \n",
        "    Returns True if episode is over. \n",
        "    Returns False if episode is not over. \n",
        "    Also, returns a string '1' if player 1\n",
        "    has won, a string '2' if player 2 has\n",
        "    won, or a string '3' if there is a draw. \n",
        "    \"\"\"\n",
        "    # Check if Player 1 won\n",
        "    # First check each row\n",
        "    # Then check each column\n",
        "    # Finally check each diagonal\n",
        "    if np.prod(x[0,:]) == 1 or np.prod(x[1,:]) == 1 or np.prod(x[2,:]) == 1 or \\\n",
        "        np.prod(x[:,0]) == 1 or np.prod(x[:,1]) == 1 or np.prod(x[:,2]) == 1 or \\\n",
        "        np.prod(np.diag(x)) == 1 or np.prod(np.diag(np.rot90(x))) == 1:\n",
        "        if printFlag == 1:\n",
        "            # Printing occurs during some testing\n",
        "            # and human matches\n",
        "            print(\"Player 1 won!\")\n",
        "        done = True\n",
        "        player_win = '1'\n",
        "        return done, player_win\n",
        "\n",
        "    # Check if Player 2 won\n",
        "    # First check each row\n",
        "    # Then check each column\n",
        "    # Finally check each diagonal\n",
        "    if np.sum(x[0,:]) == 6 or np.sum(x[1,:]) == 6 or np.sum(x[2,:]) == 6 or \\\n",
        "        np.sum(x[:,0]) == 6 or np.sum(x[:,1]) == 6 or np.sum(x[:,2]) == 6 or \\\n",
        "        np.sum(np.diag(x)) == 6 or np.sum(np.diag(np.rot90(x))) == 6:\n",
        "        if printFlag == 1:\n",
        "            print(\"PLAYER 2 WON!\")\n",
        "        done = True\n",
        "        player_win = '2'\n",
        "        return done, player_win\n",
        "\n",
        "    # Check if a draw occurred \n",
        "    if np.all(x):\n",
        "        if printFlag == 1:\n",
        "            print(\"Draw!\")\n",
        "        done = True\n",
        "        player_win = 'd'\n",
        "        return done, player_win\n",
        "    \n",
        "    # Match is not over\n",
        "    return False, ' '"
      ],
      "metadata": {
        "id": "FhBZ9xrIXS8n"
      },
      "execution_count": null,
      "outputs": []
    },
    {
      "cell_type": "code",
      "source": [
        "# Player symbols - P1 = X, P2 = O\n",
        "symbols = {1: 'X', 2: 'O'}\n",
        "\n",
        "# Max number of state values per cell\n",
        "max_vals = 3\n",
        "# Max number of controls (actions)\n",
        "max_controls = 9\n",
        "# Create two Q-matrices\n",
        "QvalsP1 = np.zeros((max_vals, max_vals, max_vals, max_vals, max_vals,\n",
        "                  max_vals, max_vals, max_vals, max_vals, max_controls))\n",
        "QvalsP2 = np.zeros((max_vals, max_vals, max_vals, max_vals, max_vals,\n",
        "                  max_vals, max_vals, max_vals, max_vals, max_controls))"
      ],
      "metadata": {
        "id": "O_-5VMDIl3Ug"
      },
      "execution_count": null,
      "outputs": []
    },
    {
      "cell_type": "code",
      "source": [
        "alphaP1 = 0.9\n",
        "gammaP1 = 0.99\n",
        "epsilonP1 = 1.0\n",
        "\n",
        "alphaP2 = 0.9\n",
        "gammaP2 = 0.99\n",
        "epsilonP2 = 1.0\n",
        "\n",
        "epochs = 100000\n",
        "\n",
        "winP1 = np.zeros((epochs,))\n",
        "winP2 = np.zeros((epochs,))\n",
        "draw = np.zeros((epochs,))\n",
        "\n",
        "decayStages = 20\n",
        "stageLength = epochs // decayStages\n",
        "\n",
        "decayFactor = 0.7"
      ],
      "metadata": {
        "id": "P7xBl2I-axoL"
      },
      "execution_count": null,
      "outputs": []
    },
    {
      "cell_type": "code",
      "source": [
        "print('Q-table: ', QvalsP1.shape)"
      ],
      "metadata": {
        "colab": {
          "base_uri": "https://localhost:8080/"
        },
        "id": "zB9TvPY1dLPS",
        "outputId": "3991a6fb-b479-4c7d-c462-057a9322cf91"
      },
      "execution_count": null,
      "outputs": [
        {
          "output_type": "stream",
          "name": "stdout",
          "text": [
            "Q-table:  (3, 3, 3, 3, 3, 3, 3, 3, 3, 9)\n"
          ]
        }
      ]
    },
    {
      "cell_type": "code",
      "source": [
        "def control_train(x, epsilon, controls, Qvals):\n",
        "    if np.random.random() >= epsilon:\n",
        "        # Exploitation\n",
        "        u = np.argmax(Qvals[x])\n",
        "\n",
        "        if u not in controls:\n",
        "            new_control = np.random.choice(list(controls))\n",
        "            return new_control\n",
        "        else:\n",
        "            return u\n",
        "    else:\n",
        "        # Exploration\n",
        "        u = np.random.choice(list(controls))\n",
        "        return u"
      ],
      "metadata": {
        "id": "X_g4su5edi1x"
      },
      "execution_count": null,
      "outputs": []
    },
    {
      "cell_type": "code",
      "source": [
        "# This function is \n",
        "def control_test(x, controls, Qvals):\n",
        "    u = np.argmax(Qvals[x])\n",
        "    \n",
        "    if u not in controls:\n",
        "        new_control = np.random.choice(list(controls))\n",
        "        return new_control\n",
        "    else:\n",
        "        return u"
      ],
      "metadata": {
        "id": "Dy4bMKz5esiY"
      },
      "execution_count": null,
      "outputs": []
    },
    {
      "cell_type": "code",
      "source": [
        "def decay_epsilon(episode, epsilon, stageLength, decayFactor):\n",
        "    if episode % stageLength == 0 and episode != 0:\n",
        "        epsilon *= decayFactor\n",
        "        print(f'epsilon = {epsilon}')\n",
        "    return epsilon"
      ],
      "metadata": {
        "id": "DXs39u1wesf4"
      },
      "execution_count": null,
      "outputs": []
    },
    {
      "cell_type": "code",
      "source": [
        "def reset():\n",
        "    controls = set()\n",
        "    for i in range(9):\n",
        "        controls.add(i)\n",
        "    return controls"
      ],
      "metadata": {
        "id": "A6J98pVSfdU5"
      },
      "execution_count": null,
      "outputs": []
    },
    {
      "cell_type": "code",
      "source": [
        "def batch_update(statesRL, controlsRL, r, nextStatesRL, gamma, alpha, Qvals):\n",
        "    for i, boardVals in enumerate(statesRL):\n",
        "        u = controlsRL[i]\n",
        "        boardValsNext = nextStatesRL[i]\n",
        "        td_target = r + gamma * np.max(Qvals[boardValsNext])\n",
        "        td_error = td_target - Qvals[boardVals][u]\n",
        "        Qvals[boardVals][u] += alpha * td_error\n",
        "    return Qvals"
      ],
      "metadata": {
        "id": "ihjt1-K2frwq"
      },
      "execution_count": null,
      "outputs": []
    },
    {
      "cell_type": "code",
      "source": [
        "reward = 10\n",
        "\n",
        "for epoch in range(epochs):\n",
        "    if epoch % 1000 == 0:\n",
        "        print(epoch)\n",
        "    statesRLP1 = []\n",
        "    controlsRLP1 = []\n",
        "    nextStatesRLP1 = []\n",
        "\n",
        "    statesRLP2 = []\n",
        "    controlsRLP2 = []\n",
        "    nextStatesRLP2 = []\n",
        "\n",
        "    done = False\n",
        "    controls = reset()\n",
        "\n",
        "    boardVals = np.zeros((3,3))\n",
        "    turn = 0\n",
        "\n",
        "    board = np.array([[' ', ' ', ' '],\n",
        "                      [' ', ' ', ' '],\n",
        "                      [' ', ' ', ' ']])\n",
        "    epsilonP1 = decay_epsilon(epoch, epsilonP1, stageLength, decayFactor)\n",
        "    epsilonP2 = decay_epsilon(epoch, epsilonP2, stageLength, decayFactor)\n",
        "\n",
        "    while done != True:\n",
        "        if turn % 2 == 0:\n",
        "            # P1 turn - RL agent 2\n",
        "            u = control_train(tuple(boardVals.reshape(-1,).astype(int)),\n",
        "                              epsilonP1, controls, QvalsP1)\n",
        "            statesRLP1.append(tuple(boardVals.reshape(-1,).astype(int)))\n",
        "            controlsRLP1.append(u)\n",
        "            controls.remove(u)\n",
        "\n",
        "            boardValsNext = boardVals.reshape(-1,)\n",
        "            boardValsNext[u] = 1\n",
        "            boardValsNext = boardValsNext.reshape(3,3)\n",
        "            nextStatesRLP1.append(tuple(boardValsNext.reshape(-1,).astype(int)))\n",
        "\n",
        "            board = board.reshape(-1,)\n",
        "            board[u] = symbols[1]\n",
        "            board = board.reshape(3,3)\n",
        "\n",
        "            done, winner = check_over(boardVals)\n",
        "            if done == True:\n",
        "                if winner == '1':\n",
        "                    Qvals = batch_update(statesRLP1,\n",
        "                                         controlsRLP1,\n",
        "                                         reward,\n",
        "                                         nextStatesRLP1,\n",
        "                                         gammaP1,\n",
        "                                         alphaP1,\n",
        "                                         QvalsP1)\n",
        "                    winP1[epoch] = 1\n",
        "                elif winner == 'd':\n",
        "                    Qvals = batch_update(statesRLP1,\n",
        "                                         controlsRLP1,\n",
        "                                         -5,\n",
        "                                         nextStatesRLP1,\n",
        "                                         gammaP1,\n",
        "                                         alphaP1,\n",
        "                                         QvalsP1)\n",
        "                    draw[epoch] = 1\n",
        "                else:\n",
        "                    Qvals = batch_update(statesRLP1,\n",
        "                                         controlsRLP1,\n",
        "                                         -50,\n",
        "                                         nextStatesRLP1,\n",
        "                                         gammaP1,\n",
        "                                         alphaP1,\n",
        "                                         QvalsP1)\n",
        "            boardVals = boardValsNext\n",
        "            turn += 1\n",
        "        else:\n",
        "            # P2 - RL agent 2\n",
        "            u = control_train(tuple(boardVals.reshape(-1,).astype(int)),\n",
        "                              epsilonP2, controls, QvalsP2)\n",
        "            statesRLP2.append(tuple(boardVals.reshape(-1,).astype(int)))\n",
        "            controlsRLP2.append(u)\n",
        "            controls.remove(u)\n",
        "\n",
        "            boardValsNext = boardVals.reshape(-1,)\n",
        "            boardValsNext[u] = 2\n",
        "            boardValsNext = boardValsNext.reshape(3,3)\n",
        "            nextStatesRLP2.append(tuple(boardValsNext.reshape(-1,).astype(int)))\n",
        "\n",
        "            board = board.reshape(-1,)\n",
        "            board[u] = symbols[2]\n",
        "            board = board.reshape(3,3)\n",
        "\n",
        "            done, winner = check_over(boardVals)\n",
        "            if done == True:\n",
        "                if winner == '2':\n",
        "                    Qvals = batch_update(statesRLP2,\n",
        "                                         controlsRLP2,\n",
        "                                         reward,\n",
        "                                         nextStatesRLP2,\n",
        "                                         gammaP2,\n",
        "                                         alphaP2,\n",
        "                                         QvalsP2)\n",
        "                    winP2[epoch] = 1\n",
        "                elif winner == 'd':\n",
        "                    Qvals = batch_update(statesRLP1,\n",
        "                                         controlsRLP1,\n",
        "                                         5,\n",
        "                                         nextStatesRLP1,\n",
        "                                         gammaP1,\n",
        "                                         alphaP1,\n",
        "                                         QvalsP1)\n",
        "                    draw[epoch] = 1\n",
        "                else:\n",
        "                    Qvals = batch_update(statesRLP1,\n",
        "                                         controlsRLP1,\n",
        "                                         -50,\n",
        "                                         nextStatesRLP1,\n",
        "                                         gammaP1,\n",
        "                                         alphaP1,\n",
        "                                         QvalsP1)\n",
        "            boardVals = boardValsNext\n",
        "            turn += 1"
      ],
      "metadata": {
        "colab": {
          "base_uri": "https://localhost:8080/"
        },
        "id": "fgqlKDayhiIU",
        "outputId": "7616d27b-26a3-41b7-cccb-dda46ed75cb5"
      },
      "execution_count": null,
      "outputs": [
        {
          "output_type": "stream",
          "name": "stdout",
          "text": [
            "0\n",
            "1000\n",
            "2000\n",
            "3000\n",
            "4000\n",
            "5000\n",
            "epsilon = 0.7\n",
            "epsilon = 0.7\n",
            "6000\n",
            "7000\n",
            "8000\n",
            "9000\n",
            "10000\n",
            "epsilon = 0.48999999999999994\n",
            "epsilon = 0.48999999999999994\n",
            "11000\n",
            "12000\n",
            "13000\n",
            "14000\n",
            "15000\n",
            "epsilon = 0.3429999999999999\n",
            "epsilon = 0.3429999999999999\n",
            "16000\n",
            "17000\n",
            "18000\n",
            "19000\n",
            "20000\n",
            "epsilon = 0.24009999999999992\n",
            "epsilon = 0.24009999999999992\n",
            "21000\n",
            "22000\n",
            "23000\n",
            "24000\n",
            "25000\n",
            "epsilon = 0.16806999999999994\n",
            "epsilon = 0.16806999999999994\n",
            "26000\n",
            "27000\n",
            "28000\n",
            "29000\n",
            "30000\n",
            "epsilon = 0.11764899999999995\n",
            "epsilon = 0.11764899999999995\n",
            "31000\n",
            "32000\n",
            "33000\n",
            "34000\n",
            "35000\n",
            "epsilon = 0.08235429999999996\n",
            "epsilon = 0.08235429999999996\n",
            "36000\n",
            "37000\n",
            "38000\n",
            "39000\n",
            "40000\n",
            "epsilon = 0.05764800999999997\n",
            "epsilon = 0.05764800999999997\n",
            "41000\n",
            "42000\n",
            "43000\n",
            "44000\n",
            "45000\n",
            "epsilon = 0.04035360699999998\n",
            "epsilon = 0.04035360699999998\n",
            "46000\n",
            "47000\n",
            "48000\n",
            "49000\n",
            "50000\n",
            "epsilon = 0.028247524899999984\n",
            "epsilon = 0.028247524899999984\n",
            "51000\n",
            "52000\n",
            "53000\n",
            "54000\n",
            "55000\n",
            "epsilon = 0.019773267429999988\n",
            "epsilon = 0.019773267429999988\n",
            "56000\n",
            "57000\n",
            "58000\n",
            "59000\n",
            "60000\n",
            "epsilon = 0.01384128720099999\n",
            "epsilon = 0.01384128720099999\n",
            "61000\n",
            "62000\n",
            "63000\n",
            "64000\n",
            "65000\n",
            "epsilon = 0.009688901040699992\n",
            "epsilon = 0.009688901040699992\n",
            "66000\n",
            "67000\n",
            "68000\n",
            "69000\n",
            "70000\n",
            "epsilon = 0.006782230728489994\n",
            "epsilon = 0.006782230728489994\n",
            "71000\n",
            "72000\n",
            "73000\n",
            "74000\n",
            "75000\n",
            "epsilon = 0.004747561509942996\n",
            "epsilon = 0.004747561509942996\n",
            "76000\n",
            "77000\n",
            "78000\n",
            "79000\n",
            "80000\n",
            "epsilon = 0.003323293056960097\n",
            "epsilon = 0.003323293056960097\n",
            "81000\n",
            "82000\n",
            "83000\n",
            "84000\n",
            "85000\n",
            "epsilon = 0.002326305139872068\n",
            "epsilon = 0.002326305139872068\n",
            "86000\n",
            "87000\n",
            "88000\n",
            "89000\n",
            "90000\n",
            "epsilon = 0.0016284135979104473\n",
            "epsilon = 0.0016284135979104473\n",
            "91000\n",
            "92000\n",
            "93000\n",
            "94000\n",
            "95000\n",
            "epsilon = 0.001139889518537313\n",
            "epsilon = 0.001139889518537313\n",
            "96000\n",
            "97000\n",
            "98000\n",
            "99000\n"
          ]
        }
      ]
    },
    {
      "cell_type": "code",
      "source": [
        "winTotP1 = np.cumsum(winP1)\n",
        "winTotP2 = np.cumsum(winP2)\n",
        "drawTot = np.cumsum(draw)\n",
        "\n",
        "winRateP1 = np.zeros(epochs,)\n",
        "winRateP2 = np.zeros(epochs,)\n",
        "drawRate = np.zeros(epochs,)\n",
        "\n",
        "for e in range(epochs):\n",
        "    winRateP1[e] = winTotP1[e] / (e + 1)\n",
        "    winRateP2[e] = winTotP2[e] / (e + 1)\n",
        "    drawRate[e] = drawTot[e] / (e + 1)\n",
        "\n",
        "plt.figure()\n",
        "plt.plot(np.arange(epochs), winRateP1, 'g-.', label = 'P1 Win Rate')\n",
        "plt.plot(np.arange(epochs), winRateP2, 'r:.', label = 'P2 Win Rate')\n",
        "plt.plot(np.arange(epochs), drawRate, 'k-', label = 'Draw Rate')\n",
        "plt.xlabel('Epochs')\n",
        "plt.legend()"
      ],
      "metadata": {
        "colab": {
          "base_uri": "https://localhost:8080/",
          "height": 296
        },
        "id": "U6TbyutUk_h3",
        "outputId": "3897a72e-5c3c-4dd0-fca9-f3086ef29df9"
      },
      "execution_count": null,
      "outputs": [
        {
          "output_type": "execute_result",
          "data": {
            "text/plain": [
              "<matplotlib.legend.Legend at 0x7f9a45a93f50>"
            ]
          },
          "metadata": {},
          "execution_count": 307
        },
        {
          "output_type": "display_data",
          "data": {
            "text/plain": [
              "<Figure size 432x288 with 1 Axes>"
            ],
            "image/png": "[encoded data removed]"
          },
          "metadata": {
            "needs_background": "light"
          }
        }
      ]
    },
    {
      "cell_type": "code",
      "source": [
        "winRateP1[-1]"
      ],
      "metadata": {
        "colab": {
          "base_uri": "https://localhost:8080/"
        },
        "id": "KTAibnh6pruo",
        "outputId": "8ab62131-da36-4881-a69c-9276b64163b0"
      },
      "execution_count": null,
      "outputs": [
        {
          "output_type": "execute_result",
          "data": {
            "text/plain": [
              "0.83005"
            ]
          },
          "metadata": {},
          "execution_count": 308
        }
      ]
    },
    {
      "cell_type": "code",
      "source": [
        "winRateP2[-1]"
      ],
      "metadata": {
        "colab": {
          "base_uri": "https://localhost:8080/"
        },
        "id": "0XZNsR0cpwAF",
        "outputId": "2f6c5df8-c665-4825-8af0-4c4bc6c09a40"
      },
      "execution_count": null,
      "outputs": [
        {
          "output_type": "execute_result",
          "data": {
            "text/plain": [
              "0.15728"
            ]
          },
          "metadata": {},
          "execution_count": 309
        }
      ]
    },
    {
      "cell_type": "code",
      "source": [
        "drawRate[-1]"
      ],
      "metadata": {
        "colab": {
          "base_uri": "https://localhost:8080/"
        },
        "id": "W4Ghus8SpxnZ",
        "outputId": "55086091-1d0e-45b6-fa0f-303034eb026e"
      },
      "execution_count": null,
      "outputs": [
        {
          "output_type": "execute_result",
          "data": {
            "text/plain": [
              "0.01267"
            ]
          },
          "metadata": {},
          "execution_count": 310
        }
      ]
    },
    {
      "cell_type": "code",
      "source": [
        "winRateP1[-1] + winRateP2[-1] + drawRate[-1]"
      ],
      "metadata": {
        "colab": {
          "base_uri": "https://localhost:8080/"
        },
        "id": "5JlxuaPSslRa",
        "outputId": "6b0bdac0-4c40-46f3-a6e8-dcfa146e1a9b"
      },
      "execution_count": null,
      "outputs": [
        {
          "output_type": "execute_result",
          "data": {
            "text/plain": [
              "0.9999999999999999"
            ]
          },
          "metadata": {},
          "execution_count": 311
        }
      ]
    },
    {
      "cell_type": "code",
      "source": [
        "def test(Qvals, epochs):\n",
        "    winP1 = 0\n",
        "    winP2 = 0\n",
        "    draw = 0\n",
        "    symbols = {1: 'X', 2: 'O'}\n",
        "\n",
        "    for epoch in range(epochs):\n",
        "        done = False\n",
        "        controls = reset()\n",
        "\n",
        "        boardVals = np.zeros((3,3))\n",
        "        turn = 0\n",
        "\n",
        "        board = np.array([[' ', ' ', ' '],\n",
        "                          [' ', ' ', ' '],\n",
        "                          [' ', ' ', ' ']])\n",
        "\n",
        "        if epoch % (epochs // 5) == 0:\n",
        "            print(f'Episode {epoch}, turn = {turn}, \\n', board)\n",
        "\n",
        "        while done != True:\n",
        "            if turn % 2 == 0:\n",
        "                # P1 = RL agent 1\n",
        "                u = control_test(tuple(boardVals.reshape(-1,).astype(int)),\n",
        "                                 controls, Qvals)\n",
        "                controls.remove(u)\n",
        "\n",
        "                boardValsNext = boardVals.reshape(-1,)\n",
        "                boardValsNext[u] = 1\n",
        "                boardValsNext = boardValsNext.reshape(3,3)\n",
        "\n",
        "                board = board.reshape(-1,)\n",
        "                board[u] = symbols[1]\n",
        "                board = board.reshape(3,3)\n",
        "\n",
        "                boardVals = boardValsNext\n",
        "                turn += 1\n",
        "\n",
        "                if epoch % (epochs // 5) == 0:\n",
        "                    print(f'Episode {epoch}, turn = {turn}, \\n', board)\n",
        "                    done, winner = check_over(boardVals, 1)\n",
        "                else:\n",
        "                    done, winner = check_over(boardVals)\n",
        "                \n",
        "                if done:\n",
        "                    if winner == '1':\n",
        "                        winP1 += 1\n",
        "                    elif winner == '2':\n",
        "                        winP2 += 1\n",
        "                    elif winner == 'd':\n",
        "                        draw += 1\n",
        "                \n",
        "            else:\n",
        "                # P2 - RL agent 2\n",
        "                u = np.random.choice(list(controls))\n",
        "                controls.remove(u)\n",
        "\n",
        "                boardVals = boardVals.reshape(-1,)\n",
        "                boardVals[u] = 2\n",
        "                boardVals = boardVals.reshape(3,3)\n",
        "\n",
        "                board = board.reshape(-1,)\n",
        "                board[u] = symbols[2]\n",
        "                board = board.reshape(3,3)\n",
        "                turn += 1\n",
        "\n",
        "                if epoch % (epochs // 5) == 0:\n",
        "                    print(f'Episode {epoch}, turn = {turn}, \\n', board)\n",
        "                    done, winner = check_over(boardVals, 1)\n",
        "                else:\n",
        "                    done, winner = check_over(boardVals)\n",
        "\n",
        "                if done:\n",
        "                    if winner == '1':\n",
        "                        winP1 += 1\n",
        "                    elif winner == '2':\n",
        "                        winP2 += 1\n",
        "                    elif winner == 'd':\n",
        "                        draw += 1\n",
        "\n",
        "    winRateP1 = winP1 / epochs\n",
        "    winRateP2 = winP2 / epochs\n",
        "    drawRate = draw / epochs\n",
        "\n",
        "    return winRateP1, winRateP2, drawRate"
      ],
      "metadata": {
        "id": "AEJ07FFqs0iV"
      },
      "execution_count": null,
      "outputs": []
    },
    {
      "cell_type": "code",
      "source": [
        "testEpochs = 10000\n",
        "winRateP1, winRateP2, drawRate = test(QvalsP1, testEpochs)"
      ],
      "metadata": {
        "id": "WI1Iv0oAAoL3",
        "colab": {
          "base_uri": "https://localhost:8080/"
        },
        "outputId": "26d2c000-e505-42a8-8d66-a05af18459c6"
      },
      "execution_count": null,
      "outputs": [
        {
          "output_type": "stream",
          "name": "stdout",
          "text": [
            "Episode 0, turn = 0, \n",
            " [[' ' ' ' ' ']\n",
            " [' ' ' ' ' ']\n",
            " [' ' ' ' ' ']]\n",
            "Episode 0, turn = 1, \n",
            " [[' ' ' ' ' ']\n",
            " [' ' 'X' ' ']\n",
            " [' ' ' ' ' ']]\n",
            "Episode 0, turn = 2, \n",
            " [[' ' ' ' ' ']\n",
            " [' ' 'X' 'O']\n",
            " [' ' ' ' ' ']]\n",
            "Episode 0, turn = 3, \n",
            " [[' ' ' ' ' ']\n",
            " [' ' 'X' 'O']\n",
            " ['X' ' ' ' ']]\n",
            "Episode 0, turn = 4, \n",
            " [[' ' ' ' ' ']\n",
            " [' ' 'X' 'O']\n",
            " ['X' 'O' ' ']]\n",
            "Episode 0, turn = 5, \n",
            " [[' ' ' ' 'X']\n",
            " [' ' 'X' 'O']\n",
            " ['X' 'O' ' ']]\n",
            "PLAYER 1 WON!\n",
            "Episode 2000, turn = 0, \n",
            " [[' ' ' ' ' ']\n",
            " [' ' ' ' ' ']\n",
            " [' ' ' ' ' ']]\n",
            "Episode 2000, turn = 1, \n",
            " [[' ' ' ' ' ']\n",
            " [' ' 'X' ' ']\n",
            " [' ' ' ' ' ']]\n",
            "Episode 2000, turn = 2, \n",
            " [[' ' ' ' ' ']\n",
            " ['O' 'X' ' ']\n",
            " [' ' ' ' ' ']]\n",
            "Episode 2000, turn = 3, \n",
            " [[' ' ' ' 'X']\n",
            " ['O' 'X' ' ']\n",
            " [' ' ' ' ' ']]\n",
            "Episode 2000, turn = 4, \n",
            " [['O' ' ' 'X']\n",
            " ['O' 'X' ' ']\n",
            " [' ' ' ' ' ']]\n",
            "Episode 2000, turn = 5, \n",
            " [['O' ' ' 'X']\n",
            " ['O' 'X' ' ']\n",
            " [' ' ' ' 'X']]\n",
            "Episode 2000, turn = 6, \n",
            " [['O' 'O' 'X']\n",
            " ['O' 'X' ' ']\n",
            " [' ' ' ' 'X']]\n",
            "Episode 2000, turn = 7, \n",
            " [['O' 'O' 'X']\n",
            " ['O' 'X' ' ']\n",
            " [' ' 'X' 'X']]\n",
            "Episode 2000, turn = 8, \n",
            " [['O' 'O' 'X']\n",
            " ['O' 'X' 'O']\n",
            " [' ' 'X' 'X']]\n",
            "Episode 2000, turn = 9, \n",
            " [['O' 'O' 'X']\n",
            " ['O' 'X' 'O']\n",
            " ['X' 'X' 'X']]\n",
            "PLAYER 1 WON!\n",
            "Episode 4000, turn = 0, \n",
            " [[' ' ' ' ' ']\n",
            " [' ' ' ' ' ']\n",
            " [' ' ' ' ' ']]\n",
            "Episode 4000, turn = 1, \n",
            " [[' ' ' ' ' ']\n",
            " [' ' 'X' ' ']\n",
            " [' ' ' ' ' ']]\n",
            "Episode 4000, turn = 2, \n",
            " [[' ' 'O' ' ']\n",
            " [' ' 'X' ' ']\n",
            " [' ' ' ' ' ']]\n",
            "Episode 4000, turn = 3, \n",
            " [[' ' 'O' ' ']\n",
            " [' ' 'X' ' ']\n",
            " [' ' ' ' 'X']]\n",
            "Episode 4000, turn = 4, \n",
            " [[' ' 'O' ' ']\n",
            " [' ' 'X' ' ']\n",
            " ['O' ' ' 'X']]\n",
            "Episode 4000, turn = 5, \n",
            " [['X' 'O' ' ']\n",
            " [' ' 'X' ' ']\n",
            " ['O' ' ' 'X']]\n",
            "PLAYER 1 WON!\n",
            "Episode 6000, turn = 0, \n",
            " [[' ' ' ' ' ']\n",
            " [' ' ' ' ' ']\n",
            " [' ' ' ' ' ']]\n",
            "Episode 6000, turn = 1, \n",
            " [[' ' ' ' ' ']\n",
            " [' ' 'X' ' ']\n",
            " [' ' ' ' ' ']]\n",
            "Episode 6000, turn = 2, \n",
            " [['O' ' ' ' ']\n",
            " [' ' 'X' ' ']\n",
            " [' ' ' ' ' ']]\n",
            "Episode 6000, turn = 3, \n",
            " [['O' 'X' ' ']\n",
            " [' ' 'X' ' ']\n",
            " [' ' ' ' ' ']]\n",
            "Episode 6000, turn = 4, \n",
            " [['O' 'X' 'O']\n",
            " [' ' 'X' ' ']\n",
            " [' ' ' ' ' ']]\n",
            "Episode 6000, turn = 5, \n",
            " [['O' 'X' 'O']\n",
            " [' ' 'X' ' ']\n",
            " [' ' 'X' ' ']]\n",
            "PLAYER 1 WON!\n",
            "Episode 8000, turn = 0, \n",
            " [[' ' ' ' ' ']\n",
            " [' ' ' ' ' ']\n",
            " [' ' ' ' ' ']]\n",
            "Episode 8000, turn = 1, \n",
            " [[' ' ' ' ' ']\n",
            " [' ' 'X' ' ']\n",
            " [' ' ' ' ' ']]\n",
            "Episode 8000, turn = 2, \n",
            " [[' ' ' ' ' ']\n",
            " [' ' 'X' ' ']\n",
            " [' ' 'O' ' ']]\n",
            "Episode 8000, turn = 3, \n",
            " [['X' ' ' ' ']\n",
            " [' ' 'X' ' ']\n",
            " [' ' 'O' ' ']]\n",
            "Episode 8000, turn = 4, \n",
            " [['X' ' ' ' ']\n",
            " [' ' 'X' 'O']\n",
            " [' ' 'O' ' ']]\n",
            "Episode 8000, turn = 5, \n",
            " [['X' ' ' ' ']\n",
            " [' ' 'X' 'O']\n",
            " [' ' 'O' 'X']]\n",
            "PLAYER 1 WON!\n"
          ]
        }
      ]
    },
    {
      "cell_type": "code",
      "source": [
        "winRateP1"
      ],
      "metadata": {
        "colab": {
          "base_uri": "https://localhost:8080/"
        },
        "id": "Nz7-KqqvA4tL",
        "outputId": "1923ddf7-ddec-4137-ffdc-53673d2ca8c3"
      },
      "execution_count": null,
      "outputs": [
        {
          "output_type": "execute_result",
          "data": {
            "text/plain": [
              "0.8986"
            ]
          },
          "metadata": {},
          "execution_count": 314
        }
      ]
    },
    {
      "cell_type": "code",
      "source": [
        "winRateP2"
      ],
      "metadata": {
        "id": "9m3pClSaA5xO"
      },
      "execution_count": null,
      "outputs": []
    },
    {
      "cell_type": "code",
      "source": [
        "drawRate"
      ],
      "metadata": {
        "colab": {
          "base_uri": "https://localhost:8080/"
        },
        "id": "dPOPVwaRA6vk",
        "outputId": "ca3cc33b-62a6-4bc5-da63-62c3e088a59b"
      },
      "execution_count": null,
      "outputs": [
        {
          "output_type": "execute_result",
          "data": {
            "text/plain": [
              "0.0071"
            ]
          },
          "metadata": {},
          "execution_count": 315
        }
      ]
    },
    {
      "cell_type": "code",
      "source": [
        "winRateP1 + winRateP2 + drawRate"
      ],
      "metadata": {
        "colab": {
          "base_uri": "https://localhost:8080/"
        },
        "id": "E0c1VGSXAx5S",
        "outputId": "22e4a54d-29b3-4459-8985-d5e18b736717"
      },
      "execution_count": null,
      "outputs": [
        {
          "output_type": "execute_result",
          "data": {
            "text/plain": [
              "0.9999999999999999"
            ]
          },
          "metadata": {},
          "execution_count": 316
        }
      ]
    },
    {
      "cell_type": "code",
      "source": [
        "def testHuman(Qvals):\n",
        "    winP1 = 0\n",
        "    winP2 = 0\n",
        "    draw = 0\n",
        "    symbols = {1: 'X', 2: 'O'}\n",
        "    round = 0\n",
        "\n",
        "    while int(input('Play (input 1) or exit (input 0)? ')) != 0:\n",
        "        round += 1\n",
        "        print('Round', round)\n",
        "        done = False\n",
        "        controls = reset()\n",
        "\n",
        "        boardVals = np.zeros((3,3))\n",
        "        turn = 0\n",
        "\n",
        "        board = np.array([[' ', ' ', ' '],\n",
        "                          [' ', ' ', ' '],\n",
        "                          [' ', ' ', ' ']])\n",
        "\n",
        "        print(f'Turn = {turn}, \\n', board)\n",
        "\n",
        "        while done != True:\n",
        "            if turn % 2 == 0:\n",
        "                # P1 - RL agent 1\n",
        "                u = control_test(tuple(boardVals.reshape(-1,).astype(int)),\n",
        "                                 controls, Qvals)\n",
        "                controls.remove(u)\n",
        "\n",
        "                boardValsNext = boardVals.reshape(-1,)\n",
        "                boardValsNext[u] = 1\n",
        "                boardValsNext = boardValsNext.reshape(3,3)\n",
        "\n",
        "                board = board.reshape(-1,)\n",
        "                board[u] = symbols[1]\n",
        "                board = board.reshape(3,3)\n",
        "\n",
        "                boardVals = boardValsNext\n",
        "                turn += 1\n",
        "\n",
        "                print(f'Turn = {turn}, \\n', board)\n",
        "\n",
        "                done, winner = check_over(boardVals, 1)\n",
        "                if done:\n",
        "                    if winner == '1':\n",
        "                        winP1 += 1\n",
        "                    elif winner == '2':\n",
        "                        winP2 += 1\n",
        "                    elif winner == 'd':\n",
        "                        draw += 1\n",
        "\n",
        "            else:\n",
        "                # P2 - human\n",
        "                u = int(input('Enter a square to place O (1-9): ')) - 1\n",
        "                controls.remove(u)\n",
        "\n",
        "                boardVals = boardVals.reshape(-1,)\n",
        "                boardVals[u] = 2\n",
        "                boardVals = boardVals.reshape(3,3)\n",
        "\n",
        "                board = board.reshape(-1,)\n",
        "                board[u] = symbols[2]\n",
        "                board = board.reshape(3,3)\n",
        "                turn += 1\n",
        "\n",
        "                print(f'Turn = {turn}, \\n', board)\n",
        "\n",
        "                done, winner = check_over(boardVals, 1)\n",
        "                if done:\n",
        "                    if winner == '1':\n",
        "                        winP1 += 1\n",
        "                    elif winner == '2':\n",
        "                        winP2 += 1\n",
        "                    elif winner == 'd':\n",
        "                        draw += 1\n",
        "    print('Game Over')\n",
        "    return winP1, winP2, draw, round"
      ],
      "metadata": {
        "id": "S952QhfVsIuI"
      },
      "execution_count": null,
      "outputs": []
    },
    {
      "cell_type": "code",
      "source": [
        "\n",
        "print('Welcome to Tic-Tac-Toe! AI is P1, you are P2.')\n",
        "winP1, winP2, draw, rounds = testHuman(QvalsP1)\n",
        "\n",
        "if rounds == 0:\n",
        "    print('No games played; no stats reported.')\n",
        "else:\n",
        "    winRateP1 = winP1 / rounds\n",
        "    winRateP2 = winP2 / rounds\n",
        "    drawRate = draw / rounds\n",
        "    print('Rounds:       ', rounds)\n",
        "    print('AI Wins:      ', winP1)\n",
        "    print('AI Win Rate:  ', winRateP1)\n",
        "    print('Your Wins:    ', winP2)\n",
        "    print('Your Win Rate:', winRateP2)\n",
        "    print('Draws:        ', draw)\n",
        "    print('Draw Rate:    ', drawRate)"
      ],
      "metadata": {
        "colab": {
          "base_uri": "https://localhost:8080/"
        },
        "id": "lk5VhJKu18J0",
        "outputId": "c016106d-9744-4200-dccc-90e2b2990e93"
      },
      "execution_count": 321,
      "outputs": [
        {
          "output_type": "stream",
          "name": "stdout",
          "text": [
            "Welcome to Tic-Tac-Toe! AI is P1, you are P2.\n",
            "Play (input 1) or exit (input 0)? 1\n",
            "Round 1\n",
            "Turn = 0, \n",
            " [[' ' ' ' ' ']\n",
            " [' ' ' ' ' ']\n",
            " [' ' ' ' ' ']]\n",
            "Turn = 1, \n",
            " [[' ' ' ' ' ']\n",
            " [' ' 'X' ' ']\n",
            " [' ' ' ' ' ']]\n",
            "Enter a square to place O (1-9): 4\n",
            "Turn = 2, \n",
            " [[' ' ' ' ' ']\n",
            " ['O' 'X' ' ']\n",
            " [' ' ' ' ' ']]\n",
            "Turn = 3, \n",
            " [[' ' ' ' 'X']\n",
            " ['O' 'X' ' ']\n",
            " [' ' ' ' ' ']]\n",
            "Enter a square to place O (1-9): 7\n",
            "Turn = 4, \n",
            " [[' ' ' ' 'X']\n",
            " ['O' 'X' ' ']\n",
            " ['O' ' ' ' ']]\n",
            "Turn = 5, \n",
            " [['X' ' ' 'X']\n",
            " ['O' 'X' ' ']\n",
            " ['O' ' ' ' ']]\n",
            "Enter a square to place O (1-9): 9\n",
            "Turn = 6, \n",
            " [['X' ' ' 'X']\n",
            " ['O' 'X' ' ']\n",
            " ['O' ' ' 'O']]\n",
            "Turn = 7, \n",
            " [['X' 'X' 'X']\n",
            " ['O' 'X' ' ']\n",
            " ['O' ' ' 'O']]\n",
            "PLAYER 1 WON!\n",
            "Play (input 1) or exit (input 0)? 1\n",
            "Round 2\n",
            "Turn = 0, \n",
            " [[' ' ' ' ' ']\n",
            " [' ' ' ' ' ']\n",
            " [' ' ' ' ' ']]\n",
            "Turn = 1, \n",
            " [[' ' ' ' ' ']\n",
            " [' ' 'X' ' ']\n",
            " [' ' ' ' ' ']]\n",
            "Enter a square to place O (1-9): 3\n",
            "Turn = 2, \n",
            " [[' ' ' ' 'O']\n",
            " [' ' 'X' ' ']\n",
            " [' ' ' ' ' ']]\n",
            "Turn = 3, \n",
            " [[' ' ' ' 'O']\n",
            " [' ' 'X' ' ']\n",
            " [' ' 'X' ' ']]\n",
            "Enter a square to place O (1-9): 2\n",
            "Turn = 4, \n",
            " [[' ' 'O' 'O']\n",
            " [' ' 'X' ' ']\n",
            " [' ' 'X' ' ']]\n",
            "Turn = 5, \n",
            " [[' ' 'O' 'O']\n",
            " ['X' 'X' ' ']\n",
            " [' ' 'X' ' ']]\n",
            "Enter a square to place O (1-9): 1\n",
            "Turn = 6, \n",
            " [['O' 'O' 'O']\n",
            " ['X' 'X' ' ']\n",
            " [' ' 'X' ' ']]\n",
            "PLAYER 2 WON!\n",
            "Play (input 1) or exit (input 0)? 1\n",
            "Round 3\n",
            "Turn = 0, \n",
            " [[' ' ' ' ' ']\n",
            " [' ' ' ' ' ']\n",
            " [' ' ' ' ' ']]\n",
            "Turn = 1, \n",
            " [[' ' ' ' ' ']\n",
            " [' ' 'X' ' ']\n",
            " [' ' ' ' ' ']]\n",
            "Enter a square to place O (1-9): 6\n",
            "Turn = 2, \n",
            " [[' ' ' ' ' ']\n",
            " [' ' 'X' 'O']\n",
            " [' ' ' ' ' ']]\n",
            "Turn = 3, \n",
            " [[' ' ' ' ' ']\n",
            " [' ' 'X' 'O']\n",
            " ['X' ' ' ' ']]\n",
            "Enter a square to place O (1-9): 3\n",
            "Turn = 4, \n",
            " [[' ' ' ' 'O']\n",
            " [' ' 'X' 'O']\n",
            " ['X' ' ' ' ']]\n",
            "Turn = 5, \n",
            " [['X' ' ' 'O']\n",
            " [' ' 'X' 'O']\n",
            " ['X' ' ' ' ']]\n",
            "Enter a square to place O (1-9): 4\n",
            "Turn = 6, \n",
            " [['X' ' ' 'O']\n",
            " ['O' 'X' 'O']\n",
            " ['X' ' ' ' ']]\n",
            "Turn = 7, \n",
            " [['X' ' ' 'O']\n",
            " ['O' 'X' 'O']\n",
            " ['X' ' ' 'X']]\n",
            "PLAYER 1 WON!\n",
            "Play (input 1) or exit (input 0)? 1\n",
            "Round 4\n",
            "Turn = 0, \n",
            " [[' ' ' ' ' ']\n",
            " [' ' ' ' ' ']\n",
            " [' ' ' ' ' ']]\n",
            "Turn = 1, \n",
            " [[' ' ' ' ' ']\n",
            " [' ' 'X' ' ']\n",
            " [' ' ' ' ' ']]\n",
            "Enter a square to place O (1-9): 7\n",
            "Turn = 2, \n",
            " [[' ' ' ' ' ']\n",
            " [' ' 'X' ' ']\n",
            " ['O' ' ' ' ']]\n",
            "Turn = 3, \n",
            " [[' ' ' ' ' ']\n",
            " [' ' 'X' 'X']\n",
            " ['O' ' ' ' ']]\n",
            "Enter a square to place O (1-9): 4\n",
            "Turn = 4, \n",
            " [[' ' ' ' ' ']\n",
            " ['O' 'X' 'X']\n",
            " ['O' ' ' ' ']]\n",
            "Turn = 5, \n",
            " [[' ' ' ' ' ']\n",
            " ['O' 'X' 'X']\n",
            " ['O' ' ' 'X']]\n",
            "Enter a square to place O (1-9): 1\n",
            "Turn = 6, \n",
            " [['O' ' ' ' ']\n",
            " ['O' 'X' 'X']\n",
            " ['O' ' ' 'X']]\n",
            "PLAYER 2 WON!\n",
            "Play (input 1) or exit (input 0)? 1\n",
            "Round 5\n",
            "Turn = 0, \n",
            " [[' ' ' ' ' ']\n",
            " [' ' ' ' ' ']\n",
            " [' ' ' ' ' ']]\n",
            "Turn = 1, \n",
            " [[' ' ' ' ' ']\n",
            " [' ' 'X' ' ']\n",
            " [' ' ' ' ' ']]\n",
            "Enter a square to place O (1-9): 2\n",
            "Turn = 2, \n",
            " [[' ' 'O' ' ']\n",
            " [' ' 'X' ' ']\n",
            " [' ' ' ' ' ']]\n",
            "Turn = 3, \n",
            " [[' ' 'O' ' ']\n",
            " [' ' 'X' ' ']\n",
            " [' ' ' ' 'X']]\n",
            "Enter a square to place O (1-9): 1\n",
            "Turn = 4, \n",
            " [['O' 'O' ' ']\n",
            " [' ' 'X' ' ']\n",
            " [' ' ' ' 'X']]\n",
            "Turn = 5, \n",
            " [['O' 'O' ' ']\n",
            " [' ' 'X' 'X']\n",
            " [' ' ' ' 'X']]\n",
            "Enter a square to place O (1-9): 3\n",
            "Turn = 6, \n",
            " [['O' 'O' 'O']\n",
            " [' ' 'X' 'X']\n",
            " [' ' ' ' 'X']]\n",
            "PLAYER 2 WON!\n",
            "Play (input 1) or exit (input 0)? 1\n",
            "Round 6\n",
            "Turn = 0, \n",
            " [[' ' ' ' ' ']\n",
            " [' ' ' ' ' ']\n",
            " [' ' ' ' ' ']]\n",
            "Turn = 1, \n",
            " [[' ' ' ' ' ']\n",
            " [' ' 'X' ' ']\n",
            " [' ' ' ' ' ']]\n",
            "Enter a square to place O (1-9): 4\n",
            "Turn = 2, \n",
            " [[' ' ' ' ' ']\n",
            " ['O' 'X' ' ']\n",
            " [' ' ' ' ' ']]\n",
            "Turn = 3, \n",
            " [[' ' ' ' 'X']\n",
            " ['O' 'X' ' ']\n",
            " [' ' ' ' ' ']]\n",
            "Enter a square to place O (1-9): 7\n",
            "Turn = 4, \n",
            " [[' ' ' ' 'X']\n",
            " ['O' 'X' ' ']\n",
            " ['O' ' ' ' ']]\n",
            "Turn = 5, \n",
            " [['X' ' ' 'X']\n",
            " ['O' 'X' ' ']\n",
            " ['O' ' ' ' ']]\n",
            "Enter a square to place O (1-9): 2\n",
            "Turn = 6, \n",
            " [['X' 'O' 'X']\n",
            " ['O' 'X' ' ']\n",
            " ['O' ' ' ' ']]\n",
            "Turn = 7, \n",
            " [['X' 'O' 'X']\n",
            " ['O' 'X' ' ']\n",
            " ['O' ' ' 'X']]\n",
            "PLAYER 1 WON!\n",
            "Play (input 1) or exit (input 0)? 0\n",
            "Game Over\n",
            "Rounds:        6\n",
            "AI Wins:       3\n",
            "AI Win Rate:   0.5\n",
            "Your Wins:     3\n",
            "Your Win Rate: 0.5\n",
            "Draws:         0\n",
            "Draw Rate:     0.0\n"
          ]
        }
      ]
    }
  ],
  "metadata": {
    "colab": {
      "provenance": [],
      "collapsed_sections": [
        "B670T7WxoolH",
        "0MpJA-hBopCC"
      ],
      "include_colab_link": true
    },
    "gpuClass": "standard",
    "kernelspec": {
      "display_name": "Python 3",
      "language": "python",
      "name": "python3"
    },
    "language_info": {
      "codemirror_mode": {
        "name": "ipython",
        "version": 3
      },
      "file_extension": ".py",
      "mimetype": "text/x-python",
      "name": "python",
      "nbconvert_exporter": "python",
      "pygments_lexer": "ipython3",
      "version": "3.7.6"
    }
  },
  "nbformat": 4,
  "nbformat_minor": 0
}